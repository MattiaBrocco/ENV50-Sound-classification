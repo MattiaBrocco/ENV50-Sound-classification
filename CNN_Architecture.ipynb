{
  "cells": [
    {
      "cell_type": "markdown",
      "source": [
        "# Project Notebook\n",
        "Authors:\n",
        "* Brocco Mattia\n",
        "* Tellez Brenda"
      ],
      "metadata": {
        "id": "6H0l2FKpZzrM"
      },
      "id": "6H0l2FKpZzrM"
    },
    {
      "cell_type": "code",
      "execution_count": 1,
      "id": "cqWaiUYsRCJ9",
      "metadata": {
        "colab": {
          "base_uri": "https://localhost:8080/"
        },
        "id": "cqWaiUYsRCJ9",
        "outputId": "836446f2-f5c3-4322-e63e-fd8252ba2e29"
      },
      "outputs": [
        {
          "output_type": "stream",
          "name": "stdout",
          "text": [
            "Mounted at /content/drive\n",
            "/content/drive/MyDrive/Environmental-sounds-UNIPD-2022\n"
          ]
        }
      ],
      "source": [
        "from google.colab import drive\n",
        "drive.mount(\"/content/drive\")\n",
        "\n",
        "%cd /content/drive/MyDrive/Environmental-sounds-UNIPD-2022"
      ]
    },
    {
      "cell_type": "code",
      "execution_count": 2,
      "id": "592da296",
      "metadata": {
        "ExecuteTime": {
          "end_time": "2023-01-02T15:26:41.488268Z",
          "start_time": "2023-01-02T15:26:24.186181Z"
        },
        "id": "592da296"
      },
      "outputs": [],
      "source": [
        "import os\n",
        "import sys\n",
        "import torch\n",
        "import librosa\n",
        "import numpy as np\n",
        "import pandas as pd\n",
        "import seaborn as sns\n",
        "from tqdm import tqdm\n",
        "import tensorflow as tf\n",
        "from scipy.io import wavfile\n",
        "from tensorflow import keras\n",
        "import matplotlib.pyplot as plt\n",
        "from sklearn.metrics import classification_report\n",
        "\n",
        "import evaluation\n",
        "import CNN_support as cnns\n",
        "from gng import GrowingNeuralGas\n",
        "\n",
        "%load_ext autoreload\n",
        "%autoreload 2"
      ]
    },
    {
      "cell_type": "code",
      "execution_count": 3,
      "id": "a115cec6",
      "metadata": {
        "ExecuteTime": {
          "end_time": "2023-01-02T15:26:41.828237Z",
          "start_time": "2023-01-02T15:26:41.491121Z"
        },
        "colab": {
          "base_uri": "https://localhost:8080/",
          "height": 206
        },
        "id": "a115cec6",
        "outputId": "fb58a951-30e7-4ffe-a832-d5fa6d39c3f8"
      },
      "outputs": [
        {
          "output_type": "execute_result",
          "data": {
            "text/plain": [
              "            filename  fold  target        category  esc10  src_file take\n",
              "0   1-100032-A-0.wav     1       0             dog   True    100032    A\n",
              "1  1-100038-A-14.wav     1      14  chirping_birds  False    100038    A\n",
              "2  1-100210-A-36.wav     1      36  vacuum_cleaner  False    100210    A\n",
              "3  1-100210-B-36.wav     1      36  vacuum_cleaner  False    100210    B\n",
              "4  1-101296-A-19.wav     1      19    thunderstorm  False    101296    A"
            ],
            "text/html": [
              "\n",
              "  <div id=\"df-058fea47-4ddf-40e1-a8bc-8d00a411b8da\">\n",
              "    <div class=\"colab-df-container\">\n",
              "      <div>\n",
              "<style scoped>\n",
              "    .dataframe tbody tr th:only-of-type {\n",
              "        vertical-align: middle;\n",
              "    }\n",
              "\n",
              "    .dataframe tbody tr th {\n",
              "        vertical-align: top;\n",
              "    }\n",
              "\n",
              "    .dataframe thead th {\n",
              "        text-align: right;\n",
              "    }\n",
              "</style>\n",
              "<table border=\"1\" class=\"dataframe\">\n",
              "  <thead>\n",
              "    <tr style=\"text-align: right;\">\n",
              "      <th></th>\n",
              "      <th>filename</th>\n",
              "      <th>fold</th>\n",
              "      <th>target</th>\n",
              "      <th>category</th>\n",
              "      <th>esc10</th>\n",
              "      <th>src_file</th>\n",
              "      <th>take</th>\n",
              "    </tr>\n",
              "  </thead>\n",
              "  <tbody>\n",
              "    <tr>\n",
              "      <th>0</th>\n",
              "      <td>1-100032-A-0.wav</td>\n",
              "      <td>1</td>\n",
              "      <td>0</td>\n",
              "      <td>dog</td>\n",
              "      <td>True</td>\n",
              "      <td>100032</td>\n",
              "      <td>A</td>\n",
              "    </tr>\n",
              "    <tr>\n",
              "      <th>1</th>\n",
              "      <td>1-100038-A-14.wav</td>\n",
              "      <td>1</td>\n",
              "      <td>14</td>\n",
              "      <td>chirping_birds</td>\n",
              "      <td>False</td>\n",
              "      <td>100038</td>\n",
              "      <td>A</td>\n",
              "    </tr>\n",
              "    <tr>\n",
              "      <th>2</th>\n",
              "      <td>1-100210-A-36.wav</td>\n",
              "      <td>1</td>\n",
              "      <td>36</td>\n",
              "      <td>vacuum_cleaner</td>\n",
              "      <td>False</td>\n",
              "      <td>100210</td>\n",
              "      <td>A</td>\n",
              "    </tr>\n",
              "    <tr>\n",
              "      <th>3</th>\n",
              "      <td>1-100210-B-36.wav</td>\n",
              "      <td>1</td>\n",
              "      <td>36</td>\n",
              "      <td>vacuum_cleaner</td>\n",
              "      <td>False</td>\n",
              "      <td>100210</td>\n",
              "      <td>B</td>\n",
              "    </tr>\n",
              "    <tr>\n",
              "      <th>4</th>\n",
              "      <td>1-101296-A-19.wav</td>\n",
              "      <td>1</td>\n",
              "      <td>19</td>\n",
              "      <td>thunderstorm</td>\n",
              "      <td>False</td>\n",
              "      <td>101296</td>\n",
              "      <td>A</td>\n",
              "    </tr>\n",
              "  </tbody>\n",
              "</table>\n",
              "</div>\n",
              "      <button class=\"colab-df-convert\" onclick=\"convertToInteractive('df-058fea47-4ddf-40e1-a8bc-8d00a411b8da')\"\n",
              "              title=\"Convert this dataframe to an interactive table.\"\n",
              "              style=\"display:none;\">\n",
              "        \n",
              "  <svg xmlns=\"http://www.w3.org/2000/svg\" height=\"24px\"viewBox=\"0 0 24 24\"\n",
              "       width=\"24px\">\n",
              "    <path d=\"M0 0h24v24H0V0z\" fill=\"none\"/>\n",
              "    <path d=\"M18.56 5.44l.94 2.06.94-2.06 2.06-.94-2.06-.94-.94-2.06-.94 2.06-2.06.94zm-11 1L8.5 8.5l.94-2.06 2.06-.94-2.06-.94L8.5 2.5l-.94 2.06-2.06.94zm10 10l.94 2.06.94-2.06 2.06-.94-2.06-.94-.94-2.06-.94 2.06-2.06.94z\"/><path d=\"M17.41 7.96l-1.37-1.37c-.4-.4-.92-.59-1.43-.59-.52 0-1.04.2-1.43.59L10.3 9.45l-7.72 7.72c-.78.78-.78 2.05 0 2.83L4 21.41c.39.39.9.59 1.41.59.51 0 1.02-.2 1.41-.59l7.78-7.78 2.81-2.81c.8-.78.8-2.07 0-2.86zM5.41 20L4 18.59l7.72-7.72 1.47 1.35L5.41 20z\"/>\n",
              "  </svg>\n",
              "      </button>\n",
              "      \n",
              "  <style>\n",
              "    .colab-df-container {\n",
              "      display:flex;\n",
              "      flex-wrap:wrap;\n",
              "      gap: 12px;\n",
              "    }\n",
              "\n",
              "    .colab-df-convert {\n",
              "      background-color: #E8F0FE;\n",
              "      border: none;\n",
              "      border-radius: 50%;\n",
              "      cursor: pointer;\n",
              "      display: none;\n",
              "      fill: #1967D2;\n",
              "      height: 32px;\n",
              "      padding: 0 0 0 0;\n",
              "      width: 32px;\n",
              "    }\n",
              "\n",
              "    .colab-df-convert:hover {\n",
              "      background-color: #E2EBFA;\n",
              "      box-shadow: 0px 1px 2px rgba(60, 64, 67, 0.3), 0px 1px 3px 1px rgba(60, 64, 67, 0.15);\n",
              "      fill: #174EA6;\n",
              "    }\n",
              "\n",
              "    [theme=dark] .colab-df-convert {\n",
              "      background-color: #3B4455;\n",
              "      fill: #D2E3FC;\n",
              "    }\n",
              "\n",
              "    [theme=dark] .colab-df-convert:hover {\n",
              "      background-color: #434B5C;\n",
              "      box-shadow: 0px 1px 3px 1px rgba(0, 0, 0, 0.15);\n",
              "      filter: drop-shadow(0px 1px 2px rgba(0, 0, 0, 0.3));\n",
              "      fill: #FFFFFF;\n",
              "    }\n",
              "  </style>\n",
              "\n",
              "      <script>\n",
              "        const buttonEl =\n",
              "          document.querySelector('#df-058fea47-4ddf-40e1-a8bc-8d00a411b8da button.colab-df-convert');\n",
              "        buttonEl.style.display =\n",
              "          google.colab.kernel.accessAllowed ? 'block' : 'none';\n",
              "\n",
              "        async function convertToInteractive(key) {\n",
              "          const element = document.querySelector('#df-058fea47-4ddf-40e1-a8bc-8d00a411b8da');\n",
              "          const dataTable =\n",
              "            await google.colab.kernel.invokeFunction('convertToInteractive',\n",
              "                                                     [key], {});\n",
              "          if (!dataTable) return;\n",
              "\n",
              "          const docLinkHtml = 'Like what you see? Visit the ' +\n",
              "            '<a target=\"_blank\" href=https://colab.research.google.com/notebooks/data_table.ipynb>data table notebook</a>'\n",
              "            + ' to learn more about interactive tables.';\n",
              "          element.innerHTML = '';\n",
              "          dataTable['output_type'] = 'display_data';\n",
              "          await google.colab.output.renderOutput(dataTable, element);\n",
              "          const docLink = document.createElement('div');\n",
              "          docLink.innerHTML = docLinkHtml;\n",
              "          element.appendChild(docLink);\n",
              "        }\n",
              "      </script>\n",
              "    </div>\n",
              "  </div>\n",
              "  "
            ]
          },
          "metadata": {},
          "execution_count": 3
        }
      ],
      "source": [
        "data = pd.read_csv('./data/meta/esc50.csv')\n",
        "data.head()"
      ]
    },
    {
      "cell_type": "markdown",
      "id": "744bfa6e",
      "metadata": {
        "id": "744bfa6e"
      },
      "source": [
        "## 1. CNN for audio classification\n",
        "\n",
        "##### SOURCES\n",
        "[1] [CNN for audio (MEDIUM)](https://towardsdatascience.com/cnns-for-audio-classification-6244954665ab)  \n",
        "[2] [Types of DCT](https://docs.scipy.org/doc/scipy/reference/generated/scipy.fftpack.dct.html#scipy.fftpack.dct)\n",
        "\n",
        "Default sampling rate of `librosa` is 22050, while for `scipy` is 44100. This implies that we have half of the length of the sequence with the former library (110250 against 220500).  "
      ]
    },
    {
      "cell_type": "markdown",
      "source": [
        "## Preprocessing"
      ],
      "metadata": {
        "id": "1SjZlqQCAV6a"
      },
      "id": "1SjZlqQCAV6a"
    },
    {
      "cell_type": "code",
      "source": [
        "# DATA AUGMENTATION\n",
        "\n",
        "#np.random.seed(42)\n",
        "#indexed_samples = np.random.choice(X.shape[0], size = 10000, replace = True)\n",
        "np.random.seed(101)\n",
        "randn_seeds = np.random.choice(len(data), size = len(data), replace = False)\n",
        "\n",
        "aug_iterations = 7\n",
        "\n",
        "new_X = []\n",
        "#new_X2 = []\n",
        "new_y = np.zeros(shape = (aug_iterations*len(randn_seeds), 1))\n",
        "\n",
        "input_length = 220500\n",
        "row_count = 0\n",
        "for i in data.index:\n",
        "\n",
        "    sample, sr_sample = librosa.load(\"./data/audio/{}\".format(data.loc[i, \"filename\"]),\n",
        "                                     sr = 44100)\n",
        "    # Min-max scaler [0, 1]\n",
        "    sample = (sample - sample.min()) / (sample.max() - sample.min())\n",
        "\n",
        "    if len(sample) > input_length:\n",
        "        sample = sample[:input_length]\n",
        "    else:\n",
        "        sample = np.pad(sample, (0, max(0, input_length - len(sample))), \"constant\")\n",
        "\n",
        "    for n in range(aug_iterations):\n",
        "        \n",
        "        if n == 0:\n",
        "            # NOISE INJECTION\n",
        "            np.random.seed(randn_seeds[i])\n",
        "            noise = np.random.randn(len( sample ))\n",
        "            augmented_data = (sample + 0.005 * noise)\n",
        "\n",
        "        elif n == 1:\n",
        "            # TIME SHIFT: right shift\n",
        "            augmented_data = np.roll(sample, 22050)\n",
        "\n",
        "        elif n == 2:\n",
        "            # PITCH SHIFT: shift down by 3\n",
        "            augmented_data = librosa.effects.pitch_shift(y = sample, sr = sr_sample,\n",
        "                                                         n_steps = 3)\n",
        "        elif n == 3:\n",
        "            # PITCH SHIFT: shift down by -3\n",
        "            augmented_data = librosa.effects.pitch_shift(y = sample, sr = sr_sample,\n",
        "                                                         n_steps = -3)\n",
        "        elif n == 4:\n",
        "            # SPEED SHIFT: faster\n",
        "            augmented_data = librosa.effects.time_stretch(y = sample, rate = 1.25)\n",
        "            augmented_data = np.append(augmented_data,\n",
        "                                       np.zeros(shape = len(sample) - len(augmented_data)))\n",
        "        elif n == 5:\n",
        "            # SPEED SHIFT: slower (returns longer array)\n",
        "            augmented_data = librosa.effects.time_stretch(y = sample, rate = 0.8)\n",
        "            augmented_data = augmented_data[:len(sample)]\n",
        "\n",
        "        else:\n",
        "            # KEEP NORMAL SAMPLE\n",
        "            augmented_data = sample\n",
        "\n",
        "        #new_instance = librosa.feature.mfcc(y = augmented_data, sr = sr_sample,\n",
        "        #                                    hop_length = 512, n_mfcc = 60)\n",
        "        \n",
        "        new_MFCC = librosa.feature.mfcc(y = augmented_data, sr = sr_sample,\n",
        "                                        hop_length = 512, n_mfcc = 60)\n",
        "        new_chromagram = librosa.feature.chroma_stft(y = augmented_data, sr = sr_sample,\n",
        "                                                     hop_length = 512, win_length = 1024,\n",
        "                                                     n_chroma = 60)\n",
        "        new_delta = librosa.feature.delta(new_MFCC)\n",
        "    \n",
        "        new_instance = np.dstack((new_MFCC, new_chromagram, new_delta))\n",
        "\n",
        "    \n",
        "        new_X += [new_instance]\n",
        "        #new_X2 += [new_instance2]\n",
        "        new_y[row_count] = data.loc[i, \"target\"]\n",
        "        \n",
        "        row_count += 1\n",
        "        \n",
        "    \n",
        "new_X = np.array(new_X)\n",
        "new_X = new_X.astype(np.float32)"
      ],
      "metadata": {
        "colab": {
          "base_uri": "https://localhost:8080/"
        },
        "id": "KRZcbx-UAYv5",
        "outputId": "23c05bdb-eaec-47da-bf67-3f29017182fc"
      },
      "id": "KRZcbx-UAYv5",
      "execution_count": 4,
      "outputs": [
        {
          "output_type": "stream",
          "name": "stderr",
          "text": [
            "/usr/local/lib/python3.8/dist-packages/librosa/core/pitch.py:153: UserWarning: Trying to estimate tuning from empty frequency set.\n",
            "  warnings.warn(\"Trying to estimate tuning from empty frequency set.\")\n",
            "/usr/local/lib/python3.8/dist-packages/librosa/core/pitch.py:153: UserWarning: Trying to estimate tuning from empty frequency set.\n",
            "  warnings.warn(\"Trying to estimate tuning from empty frequency set.\")\n"
          ]
        }
      ]
    },
    {
      "cell_type": "code",
      "execution_count": 14,
      "id": "dd7af0f4",
      "metadata": {
        "ExecuteTime": {
          "end_time": "2023-01-02T13:49:03.570049Z",
          "start_time": "2023-01-02T13:47:26.093972Z"
        },
        "colab": {
          "base_uri": "https://localhost:8080/"
        },
        "id": "dd7af0f4",
        "outputId": "5af0c4b6-9eea-4868-9d22-83da73b81fed"
      },
      "outputs": [
        {
          "output_type": "stream",
          "name": "stdout",
          "text": [
            "Training examples: 11200\n",
            "Validation examples: 1400\n",
            "Test examples: 1400\n",
            "\n",
            "Input shape: (60, 431, 3)\n"
          ]
        }
      ],
      "source": [
        "from sklearn.model_selection import train_test_split\n",
        "\n",
        "X_train, X_test, y_train, y_test = train_test_split(new_X, new_y, train_size = .8,\n",
        "                                                    random_state = 42, shuffle = True)\n",
        "X_valid, X_test, y_valid, y_test = train_test_split(X_test, y_test, train_size = .5,\n",
        "                                                    random_state = 42, shuffle = True)\n",
        "\n",
        "print(\"Training examples: {}\".format(y_train.shape[0]))\n",
        "print(\"Validation examples: {}\".format(y_valid.shape[0]))\n",
        "print(\"Test examples: {}\".format(y_test.shape[0]))\n",
        "print()\n",
        "print(\"Input shape: {}\".format(X_train[0].shape))"
      ]
    },
    {
      "cell_type": "code",
      "source": [
        "dataframe1 = pd.DataFrame(X_train.reshape(len(X_train), -1))\n",
        "dataframe1.columns = [str(i) for i in range(dataframe1.shape[1])]\n",
        "dataframe1.to_parquet(\".//data/X_train_CNN_60x431x3_7times.parquet\")\n",
        "\n",
        "dataframe2 = pd.DataFrame(X_valid.reshape(len(X_valid), -1))\n",
        "dataframe2.columns = [str(i) for i in range(dataframe2.shape[1])]\n",
        "dataframe2.to_parquet(\".//data/X_valid_CNN_60x431x3_7times.parquet\")\n",
        "\n",
        "dataframe3 = pd.DataFrame(X_test.reshape(len(X_test), -1))\n",
        "dataframe3.columns = [str(i) for i in range(dataframe3.shape[1])]\n",
        "dataframe3.to_parquet(\".//data/X_test_CNN_60x431x3_7times.parquet\")\n",
        "\n",
        "dataframe4 = pd.DataFrame(np.vstack([y_train, y_valid, y_test]))\n",
        "dataframe4.columns = [\"0\"]\n",
        "dataframe4.to_parquet(\".//data/y_CNN_7times.parquet\")"
      ],
      "metadata": {
        "id": "f2gagZq4vdSN"
      },
      "id": "f2gagZq4vdSN",
      "execution_count": null,
      "outputs": []
    },
    {
      "cell_type": "markdown",
      "id": "976f9358",
      "metadata": {
        "id": "976f9358"
      },
      "source": [
        "## Algo tries"
      ]
    },
    {
      "cell_type": "code",
      "source": [
        "BATCH_SIZE1 = 100"
      ],
      "metadata": {
        "id": "571Lw3LPBwxM"
      },
      "id": "571Lw3LPBwxM",
      "execution_count": 5,
      "outputs": []
    },
    {
      "cell_type": "code",
      "source": [
        "X_train = pd.read_parquet(\".//data/X_train_CNN_60x431x3_7times.parquet\")\n",
        "X_valid = pd.read_parquet(\".//data/X_valid_CNN_60x431x3_7times.parquet\")\n",
        "X_test = pd.read_parquet(\".//data/X_test_CNN_60x431x3_7times.parquet\")\n",
        "y = pd.read_parquet(\".//data/y_CNN_7times.parquet\")\n",
        "y[\"0\"] = y[\"0\"].astype(int)\n",
        "\n",
        "X_train = X_train.values.reshape(len(X_train), 60, 431, 3)\n",
        "X_valid = X_valid.values.reshape(len(X_valid), 60, 431, 3)\n",
        "X_test = X_test.values.reshape(len(X_test), 60, 431, 3)\n",
        "\n",
        "y_train = y.values[:len(X_train)]\n",
        "y_valid = y.values[len(X_train):len(X_train) + len(X_valid)]\n",
        "y_test = y.values[len(X_train) + len(X_valid):]"
      ],
      "metadata": {
        "id": "Ny1HO7yLvvJo"
      },
      "id": "Ny1HO7yLvvJo",
      "execution_count": 4,
      "outputs": []
    },
    {
      "cell_type": "code",
      "execution_count": 6,
      "id": "LsKnofH5n8P3",
      "metadata": {
        "id": "LsKnofH5n8P3"
      },
      "outputs": [],
      "source": [
        "# Identify and select the TPU\n",
        "try:\n",
        "  TF_MASTER = 'grpc://{}'.format(os.environ['COLAB_TPU_ADDR'])\n",
        "\n",
        "  tpu = tf.distribute.cluster_resolver.TPUClusterResolver(TF_MASTER)  # TPU detection\n",
        "  tf.config.experimental_connect_to_cluster(tpu)\n",
        "  tf.tpu.experimental.initialize_tpu_system(tpu)\n",
        "  tpu_strategy = tf.distribute.TPUStrategy(tpu)\n",
        "except:\n",
        "  pass"
      ]
    },
    {
      "cell_type": "code",
      "execution_count": 7,
      "id": "hkQ1bOISnoXp",
      "metadata": {
        "colab": {
          "base_uri": "https://localhost:8080/"
        },
        "id": "hkQ1bOISnoXp",
        "outputId": "40507d35-efce-4d19-cba4-bd37f09ce989"
      },
      "outputs": [
        {
          "output_type": "stream",
          "name": "stdout",
          "text": [
            "Model: \"M0\"\n",
            "_________________________________________________________________\n",
            " Layer (type)                Output Shape              Param #   \n",
            "=================================================================\n",
            " conv2d (Conv2D)             (None, 60, 431, 30)       6510      \n",
            "                                                                 \n",
            " max_pooling2d (MaxPooling2D  (None, 58, 143, 30)      0         \n",
            " )                                                               \n",
            "                                                                 \n",
            " dropout (Dropout)           (None, 58, 143, 30)       0         \n",
            "                                                                 \n",
            " conv2d_1 (Conv2D)           (None, 58, 143, 30)       2730      \n",
            "                                                                 \n",
            " max_pooling2d_1 (MaxPooling  (None, 58, 47, 30)       0         \n",
            " 2D)                                                             \n",
            "                                                                 \n",
            " conv2d_2 (Conv2D)           (None, 58, 47, 10)        910       \n",
            "                                                                 \n",
            " max_pooling2d_2 (MaxPooling  (None, 58, 15, 10)       0         \n",
            " 2D)                                                             \n",
            "                                                                 \n",
            " flatten (Flatten)           (None, 8700)              0         \n",
            "                                                                 \n",
            " dense (Dense)               (None, 500)               4350500   \n",
            "                                                                 \n",
            " dropout_1 (Dropout)         (None, 500)               0         \n",
            "                                                                 \n",
            " dense_1 (Dense)             (None, 50)                25050     \n",
            "                                                                 \n",
            "=================================================================\n",
            "Total params: 4,385,700\n",
            "Trainable params: 4,385,700\n",
            "Non-trainable params: 0\n",
            "_________________________________________________________________\n",
            "None\n"
          ]
        }
      ],
      "source": [
        "with tpu_strategy.scope():\n",
        "  # creating the model in the TPUStrategy\n",
        "  # scope means we will train the model on the TPU\n",
        "  model0 =  keras.models.Sequential([keras.layers.Conv2D(filters = 30, kernel_size = [12, 6],\n",
        "                                                          padding = \"same\", activation = \"relu\",\n",
        "                                                          input_shape = [60, 431, 3]),\n",
        "                                      keras.layers.MaxPool2D(pool_size = (3, 3), strides = (1, 3)),\n",
        "                                      keras.layers.Dropout(rate = .5),\n",
        "                                      keras.layers.Conv2D(filters = 30, kernel_size = (1, 3),\n",
        "                                                          padding = \"same\", activation = \"relu\"),\n",
        "                                      keras.layers.MaxPool2D(pool_size = (1, 3), strides = (1, 3)), # DON'T TOUCH THIS LAYER\n",
        "                                      keras.layers.Conv2D(filters = 10, kernel_size = (1, 3),\n",
        "                                                          padding = \"same\", activation = \"relu\"),\n",
        "                                      keras.layers.MaxPool2D(pool_size = (1, 3), strides = (1, 3)),\n",
        "                                      keras.layers.Flatten(),\n",
        "                                      keras.layers.Dense(500, activation = \"relu\"), # BOOSTS PERFORMANCE\n",
        "                                      keras.layers.Dropout(rate = .5),\n",
        "                                      keras.layers.Dense(50, activation = \"softmax\") ],\n",
        "                                    name = \"M0\")\n",
        "\n",
        "  model0.compile(loss = \"sparse_categorical_crossentropy\",\n",
        "                  metrics = [\"accuracy\"],\n",
        "                  optimizer = keras.optimizers.Adam(learning_rate = 1e-4))\n",
        "\n",
        "print(model0.summary())"
      ]
    },
    {
      "cell_type": "code",
      "source": [
        "split_train = []\n",
        "for j in tqdm(range(4)):\n",
        "  j_start = int(j*(len(X_train)/4))\n",
        "  j_stop = int((j+1)*(len(X_train)/4))\n",
        "  hist_j = model0.fit(X_train[j_start:j_stop], y_train[j_start:j_stop],\n",
        "                      epochs = 200, batch_size = BATCH_SIZE1,\n",
        "                      validation_data = (X_valid, y_valid),\n",
        "                      verbose = 0,\n",
        "                      callbacks = [keras.callbacks.EarlyStopping(monitor = \"val_accuracy\",\n",
        "                                                                 patience = 20)])\n",
        "  \n",
        "  split_train.append(hist_j.history)"
      ],
      "metadata": {
        "colab": {
          "base_uri": "https://localhost:8080/"
        },
        "id": "QcBFuFKfPOM9",
        "outputId": "43d5067c-63a9-4cc4-e4b5-e16c659dd0dd"
      },
      "id": "QcBFuFKfPOM9",
      "execution_count": 8,
      "outputs": [
        {
          "output_type": "stream",
          "name": "stderr",
          "text": [
            "100%|██████████| 4/4 [17:11<00:00, 257.80s/it]\n"
          ]
        }
      ]
    },
    {
      "cell_type": "code",
      "source": [
        "fig, ax = plt.subplots(1, 2, figsize = (14, 4))\n",
        "ax[0].plot(split_train[0][\"loss\"]+split_train[1][\"loss\"]+\n",
        "           split_train[2][\"loss\"]+split_train[3][\"loss\"],\n",
        "           label = \"Train loss\", color = \"#191970\")\n",
        "ax[0].plot(split_train[0][\"val_loss\"]+split_train[1][\"val_loss\"]+\n",
        "           split_train[2][\"val_loss\"]+split_train[3][\"val_loss\"],\n",
        "           label = \"Val loss\", color = \"#00CC33\")\n",
        "ax[0].set_title(\"Loss\")\n",
        "ax[0].legend()\n",
        "\n",
        "ax[1].plot(split_train[0][\"accuracy\"]+split_train[1][\"accuracy\"]+\n",
        "           split_train[2][\"accuracy\"]+split_train[3][\"accuracy\"],\n",
        "           label = \"Train accuracy\", color = \"#191970\")\n",
        "ax[1].plot(split_train[0][\"val_accuracy\"]+split_train[1][\"val_accuracy\"]+\n",
        "           split_train[2][\"val_accuracy\"]+split_train[3][\"val_accuracy\"],\n",
        "           label = \"Val accuracy\", color = \"#00CC33\")\n",
        "ax[1].set_title(\"Accuracy\")\n",
        "ax[1].set_ylim(0, 1.1)\n",
        "ax[1].legend()\n",
        "\n",
        "for i in range(len(ax)):\n",
        "    step_n = 0\n",
        "    for el in split_train:\n",
        "        step_n += len(el[\"val_loss\"])\n",
        "        ax[i].axvline(step_n, ls = \"--\", color = \"grey\", alpha = .5)\n",
        "\n",
        "print()\n",
        "scores0 = model0.evaluate(X_test, y_test, verbose = 2)\n",
        "print(\"=\"*71)\n",
        "print(\"Accuracy on test: {:.2f}%\".format(scores0[1]*100))\n",
        "print(\"Memory used: {:.1f} Mb\".format(\n",
        "        evaluation.keras_model_memory_usage_in_bytes(model = model0,\n",
        "                                                     batch_size = BATCH_SIZE1)/1e6))\n",
        "\n",
        "plt.show()\n",
        "#plt.savefig(\"CNN-only.jpg\", dpi = 300)"
      ],
      "metadata": {
        "colab": {
          "base_uri": "https://localhost:8080/",
          "height": 368
        },
        "id": "T8OsGAOolHYx",
        "outputId": "8207cb59-b3a3-47ef-f08c-acbf0ea493e6"
      },
      "id": "T8OsGAOolHYx",
      "execution_count": 12,
      "outputs": [
        {
          "output_type": "stream",
          "name": "stdout",
          "text": [
            "\n",
            "44/44 - 1s - loss: 0.8750 - accuracy: 0.7757 - 1s/epoch - 23ms/step\n",
            "=======================================================================\n",
            "Accuracy on test: 77.57%\n",
            "Memory used: 664.3 Mb\n"
          ]
        },
        {
          "output_type": "display_data",
          "data": {
            "text/plain": [
              "<Figure size 1008x288 with 2 Axes>"
            ],
            "image/png": "[encoded data removed]"
          },
          "metadata": {
            "needs_background": "light"
          }
        }
      ]
    },
    {
      "cell_type": "code",
      "source": [
        "print(classification_report(y_test, model0.predict(X_test).argmax(axis = 1)))"
      ],
      "metadata": {
        "colab": {
          "base_uri": "https://localhost:8080/"
        },
        "id": "Aw-m8TSK6K6n",
        "outputId": "31bbd35d-947f-4633-ed75-403112264e76"
      },
      "id": "Aw-m8TSK6K6n",
      "execution_count": 18,
      "outputs": [
        {
          "output_type": "stream",
          "name": "stdout",
          "text": [
            "44/44 [==============================] - 1s 12ms/step\n",
            "              precision    recall  f1-score   support\n",
            "\n",
            "           0       0.88      0.80      0.84        35\n",
            "           1       0.91      0.89      0.90        35\n",
            "           2       0.71      0.82      0.76        33\n",
            "           3       0.87      0.76      0.81        34\n",
            "           4       0.90      0.90      0.90        29\n",
            "           5       0.68      0.87      0.76        30\n",
            "           6       0.81      0.62      0.70        34\n",
            "           7       0.75      0.72      0.73        25\n",
            "           8       0.84      0.75      0.79        28\n",
            "           9       0.84      0.95      0.89        22\n",
            "          10       0.62      0.88      0.72        24\n",
            "          11       0.72      0.72      0.72        25\n",
            "          12       0.92      0.73      0.81        30\n",
            "          13       0.94      0.84      0.89        19\n",
            "          14       0.76      0.90      0.82        31\n",
            "          15       0.79      0.53      0.63        36\n",
            "          16       0.74      0.71      0.73        28\n",
            "          17       1.00      0.73      0.84        26\n",
            "          18       1.00      0.97      0.98        29\n",
            "          19       0.94      0.83      0.88        35\n",
            "          20       0.67      0.77      0.71        26\n",
            "          21       0.84      0.70      0.76        23\n",
            "          22       0.95      0.95      0.95        38\n",
            "          23       0.59      0.59      0.59        22\n",
            "          24       0.62      0.86      0.72        29\n",
            "          25       0.66      0.86      0.75        22\n",
            "          26       0.68      0.63      0.66        30\n",
            "          27       0.86      0.86      0.86        21\n",
            "          28       0.87      0.80      0.83        25\n",
            "          29       0.73      0.55      0.63        29\n",
            "          30       0.74      0.95      0.83        21\n",
            "          31       0.64      0.82      0.72        22\n",
            "          32       0.68      0.83      0.75        30\n",
            "          33       0.68      0.45      0.55        33\n",
            "          34       0.95      0.88      0.91        24\n",
            "          35       0.70      0.45      0.55        31\n",
            "          36       0.81      0.79      0.80        28\n",
            "          37       0.91      0.94      0.93        33\n",
            "          38       0.52      0.67      0.58        24\n",
            "          39       0.91      0.95      0.93        22\n",
            "          40       0.50      0.85      0.63        26\n",
            "          41       0.73      0.63      0.68        35\n",
            "          42       0.78      0.86      0.82        21\n",
            "          43       0.83      0.97      0.89        30\n",
            "          44       0.62      0.71      0.67        28\n",
            "          45       0.71      0.77      0.74        22\n",
            "          46       0.85      0.89      0.87        19\n",
            "          47       0.86      0.58      0.69        31\n",
            "          48       0.90      0.66      0.76        29\n",
            "          49       0.85      0.89      0.87        38\n",
            "\n",
            "    accuracy                           0.78      1400\n",
            "   macro avg       0.79      0.78      0.77      1400\n",
            "weighted avg       0.79      0.78      0.77      1400\n",
            "\n"
          ]
        }
      ]
    },
    {
      "cell_type": "markdown",
      "source": [
        "### Input with only two channels"
      ],
      "metadata": {
        "id": "xvl4eW65ELir"
      },
      "id": "xvl4eW65ELir"
    },
    {
      "cell_type": "code",
      "source": [
        "X_train2 = X_train[:, :, :, :-1]\n",
        "X_valid2 = X_valid[:, :, :, :-1]\n",
        "X_test2 = X_test[:, :, :, :-1]"
      ],
      "metadata": {
        "id": "8kxqp_3xEJa7"
      },
      "id": "8kxqp_3xEJa7",
      "execution_count": 21,
      "outputs": []
    },
    {
      "cell_type": "code",
      "source": [
        "with tpu_strategy.scope():\n",
        "  # creating the model in the TPUStrategy\n",
        "  # scope means we will train the model on the TPU\n",
        "  model2 =  keras.models.Sequential([keras.layers.Conv2D(filters = 30, kernel_size = [12, 6],\n",
        "                                                          padding = \"same\", activation = \"relu\",\n",
        "                                                          input_shape = [60, 431, 2]),\n",
        "                                      keras.layers.MaxPool2D(pool_size = (3, 3), strides = (1, 3)),\n",
        "                                      keras.layers.Dropout(rate = .5),\n",
        "                                      keras.layers.Conv2D(filters = 30, kernel_size = (1, 3),\n",
        "                                                          padding = \"same\", activation = \"relu\"),\n",
        "                                      keras.layers.MaxPool2D(pool_size = (1, 3), strides = (1, 3)), # DON'T TOUCH THIS LAYER\n",
        "                                      keras.layers.Conv2D(filters = 10, kernel_size = (1, 3),\n",
        "                                                          padding = \"same\", activation = \"relu\"),\n",
        "                                      keras.layers.MaxPool2D(pool_size = (1, 3), strides = (1, 3)),\n",
        "                                      keras.layers.Flatten(),\n",
        "                                      keras.layers.Dense(500, activation = \"relu\"), # BOOSTS PERFORMANCE\n",
        "                                      keras.layers.Dropout(rate = .5),\n",
        "                                      keras.layers.Dense(50, activation = \"softmax\") ],\n",
        "                                    name = \"M2\")\n",
        "\n",
        "  model2.compile(loss = \"sparse_categorical_crossentropy\",\n",
        "                  metrics = [\"accuracy\"],\n",
        "                  optimizer = keras.optimizers.Adam(learning_rate = 1e-4))\n",
        "\n",
        "print(model0.summary())"
      ],
      "metadata": {
        "colab": {
          "base_uri": "https://localhost:8080/"
        },
        "id": "zDee48klES1g",
        "outputId": "ec2f7806-df2c-4858-d456-6fa01808a55b"
      },
      "id": "zDee48klES1g",
      "execution_count": 23,
      "outputs": [
        {
          "output_type": "stream",
          "name": "stdout",
          "text": [
            "Model: \"M0\"\n",
            "_________________________________________________________________\n",
            " Layer (type)                Output Shape              Param #   \n",
            "=================================================================\n",
            " conv2d (Conv2D)             (None, 60, 431, 30)       6510      \n",
            "                                                                 \n",
            " max_pooling2d (MaxPooling2D  (None, 58, 143, 30)      0         \n",
            " )                                                               \n",
            "                                                                 \n",
            " dropout (Dropout)           (None, 58, 143, 30)       0         \n",
            "                                                                 \n",
            " conv2d_1 (Conv2D)           (None, 58, 143, 30)       2730      \n",
            "                                                                 \n",
            " max_pooling2d_1 (MaxPooling  (None, 58, 47, 30)       0         \n",
            " 2D)                                                             \n",
            "                                                                 \n",
            " conv2d_2 (Conv2D)           (None, 58, 47, 10)        910       \n",
            "                                                                 \n",
            " max_pooling2d_2 (MaxPooling  (None, 58, 15, 10)       0         \n",
            " 2D)                                                             \n",
            "                                                                 \n",
            " flatten (Flatten)           (None, 8700)              0         \n",
            "                                                                 \n",
            " dense (Dense)               (None, 500)               4350500   \n",
            "                                                                 \n",
            " dropout_1 (Dropout)         (None, 500)               0         \n",
            "                                                                 \n",
            " dense_1 (Dense)             (None, 50)                25050     \n",
            "                                                                 \n",
            "=================================================================\n",
            "Total params: 4,385,700\n",
            "Trainable params: 4,385,700\n",
            "Non-trainable params: 0\n",
            "_________________________________________________________________\n",
            "None\n"
          ]
        }
      ]
    },
    {
      "cell_type": "code",
      "source": [
        "split_train2 = []\n",
        "for j in tqdm(range(4)):\n",
        "  j_start = int(j*(len(X_train2)/4))\n",
        "  j_stop = int((j+1)*(len(X_train2)/4))\n",
        "  hist_j = model2.fit(X_train2[j_start:j_stop], y_train[j_start:j_stop],\n",
        "                      epochs = 200, batch_size = BATCH_SIZE1,\n",
        "                      validation_data = (X_valid2, y_valid),\n",
        "                      verbose = 0,\n",
        "                      callbacks = [keras.callbacks.EarlyStopping(monitor = \"val_accuracy\",\n",
        "                                                                 patience = 20)])\n",
        "  \n",
        "  split_train2.append(hist_j.history)"
      ],
      "metadata": {
        "colab": {
          "base_uri": "https://localhost:8080/"
        },
        "id": "clx3OtF3EnJc",
        "outputId": "d9b8b00d-366a-47b0-9b3d-b4743e2404b7"
      },
      "id": "clx3OtF3EnJc",
      "execution_count": 24,
      "outputs": [
        {
          "output_type": "stream",
          "name": "stderr",
          "text": [
            "100%|██████████| 4/4 [13:33<00:00, 203.37s/it]\n"
          ]
        }
      ]
    },
    {
      "cell_type": "code",
      "source": [
        "fig2, ax2 = plt.subplots(1, 2, figsize = (14, 4))\n",
        "ax2[0].plot(split_train2[0][\"loss\"]+split_train2[1][\"loss\"]+\n",
        "            split_train2[2][\"loss\"]+split_train2[3][\"loss\"],\n",
        "            label = \"Train loss\", color = \"#191970\")\n",
        "ax2[0].plot(split_train2[0][\"val_loss\"]+split_train2[1][\"val_loss\"]+\n",
        "            split_train2[2][\"val_loss\"]+split_train2[3][\"val_loss\"],\n",
        "            label = \"Val loss\", color = \"#00CC33\")\n",
        "ax2[0].set_title(\"Loss\")\n",
        "ax2[0].legend()\n",
        "\n",
        "ax2[1].plot(split_train2[0][\"accuracy\"]+split_train2[1][\"accuracy\"]+\n",
        "            split_train2[2][\"accuracy\"]+split_train2[3][\"accuracy\"],\n",
        "            label = \"Train accuracy\", color = \"#191970\")\n",
        "ax2[1].plot(split_train2[0][\"val_accuracy\"]+split_train2[1][\"val_accuracy\"]+\n",
        "            split_train2[2][\"val_accuracy\"]+split_train2[3][\"val_accuracy\"],\n",
        "            label = \"Val accuracy\", color = \"#00CC33\")\n",
        "ax2[1].set_title(\"Accuracy\")\n",
        "ax2[1].set_ylim(0, 1.1)\n",
        "ax2[1].legend()\n",
        "\n",
        "for i in range(len(ax2)):\n",
        "    step_n = 0\n",
        "    for el in split_train2:\n",
        "        step_n += len(el[\"val_loss\"])\n",
        "        ax2[i].axvline(step_n, ls = \"--\", color = \"grey\", alpha = .5)\n",
        "\n",
        "print()\n",
        "scores2 = model2.evaluate(X_test2, y_test, verbose = 2)\n",
        "print(\"=\"*71)\n",
        "print(\"Accuracy on test: {:.2f}%\".format(scores2[1]*100))\n",
        "print(\"Memory used: {:.1f} Mb\".format(\n",
        "        evaluation.keras_model_memory_usage_in_bytes(model = model2,\n",
        "                                                     batch_size = BATCH_SIZE1)/1e6))\n",
        "\n",
        "plt.show()\n",
        "#plt.savefig(\"CNN-only.jpg\", dpi = 300)"
      ],
      "metadata": {
        "colab": {
          "base_uri": "https://localhost:8080/",
          "height": 368
        },
        "id": "jdErLCA4EwtO",
        "outputId": "ea0115b4-8e2d-44a5-9633-8f0f04d60ec7"
      },
      "id": "jdErLCA4EwtO",
      "execution_count": 25,
      "outputs": [
        {
          "output_type": "stream",
          "name": "stdout",
          "text": [
            "\n",
            "44/44 - 10s - loss: 0.6215 - accuracy: 0.8664 - 10s/epoch - 232ms/step\n",
            "=======================================================================\n",
            "Accuracy on test: 86.64%\n",
            "Memory used: 664.3 Mb\n"
          ]
        },
        {
          "output_type": "display_data",
          "data": {
            "text/plain": [
              "<Figure size 1008x288 with 2 Axes>"
            ],
            "image/png": "[encoded data removed]"
          },
          "metadata": {
            "needs_background": "light"
          }
        }
      ]
    },
    {
      "cell_type": "markdown",
      "id": "xuSzNkPA-_jU",
      "metadata": {
        "id": "xuSzNkPA-_jU"
      },
      "source": [
        "---\n",
        "---\n",
        "---"
      ]
    }
  ],
  "metadata": {
    "accelerator": "TPU",
    "colab": {
      "machine_shape": "hm",
      "provenance": [],
      "collapsed_sections": [
        "744bfa6e"
      ],
      "toc_visible": true
    },
    "gpuClass": "standard",
    "kernelspec": {
      "display_name": "Python 3 (ipykernel)",
      "language": "python",
      "name": "python3"
    },
    "language_info": {
      "codemirror_mode": {
        "name": "ipython",
        "version": 3
      },
      "file_extension": ".py",
      "mimetype": "text/x-python",
      "name": "python",
      "nbconvert_exporter": "python",
      "pygments_lexer": "ipython3",
      "version": "3.9.12"
    }
  },
  "nbformat": 4,
  "nbformat_minor": 5
}