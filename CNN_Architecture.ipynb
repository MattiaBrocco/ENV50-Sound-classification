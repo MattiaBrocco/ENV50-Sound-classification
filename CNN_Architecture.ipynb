{
 "cells": [
  {
   "cell_type": "markdown",
   "id": "6H0l2FKpZzrM",
   "metadata": {
    "id": "6H0l2FKpZzrM"
   },
   "source": [
    "# Notebook CNN architecture\n",
    "\n",
    "A.A. 2022-2023 - HUMAN DATA ANALYTICS\n",
    "\n",
    "Authors:\n",
    "* Mattia Brocco\n",
    "* Brenda Eloisa Tellez Juarez"
   ]
  },
  {
   "cell_type": "code",
   "execution_count": 1,
   "id": "cqWaiUYsRCJ9",
   "metadata": {
    "colab": {
     "base_uri": "https://localhost:8080/"
    },
    "id": "cqWaiUYsRCJ9",
    "outputId": "6dc9094c-3412-4912-d035-127cea84f8ec"
   },
   "outputs": [
    {
     "name": "stdout",
     "output_type": "stream",
     "text": [
      "Mounted at /content/drive\n",
      "/content/drive/MyDrive/Environmental-sounds-UNIPD-2022\n"
     ]
    }
   ],
   "source": [
    "from google.colab import drive\n",
    "drive.mount(\"/content/drive\")\n",
    "\n",
    "#%cd /content/drive/MyDrive/Environmental-sounds-UNIPD-2022"
   ]
  },
  {
   "cell_type": "code",
   "execution_count": 2,
   "id": "592da296",
   "metadata": {
    "ExecuteTime": {
     "end_time": "2023-01-02T15:26:41.488268Z",
     "start_time": "2023-01-02T15:26:24.186181Z"
    },
    "id": "592da296"
   },
   "outputs": [],
   "source": [
    "import os\n",
    "import sys\n",
    "import torch\n",
    "import librosa\n",
    "import numpy as np\n",
    "import pandas as pd\n",
    "import seaborn as sns\n",
    "from tqdm import tqdm\n",
    "import tensorflow as tf\n",
    "from scipy.io import wavfile\n",
    "from tensorflow import keras\n",
    "import matplotlib.pyplot as plt\n",
    "from sklearn.metrics import classification_report\n",
    "\n",
    "import evaluation\n",
    "import CNN_support as cnns\n",
    "from gng import GrowingNeuralGas\n",
    "\n",
    "%load_ext autoreload\n",
    "%autoreload 2"
   ]
  },
  {
   "cell_type": "code",
   "execution_count": 3,
   "id": "a115cec6",
   "metadata": {
    "ExecuteTime": {
     "end_time": "2023-01-02T15:26:41.828237Z",
     "start_time": "2023-01-02T15:26:41.491121Z"
    },
    "colab": {
     "base_uri": "https://localhost:8080/",
     "height": 206
    },
    "id": "a115cec6",
    "outputId": "490a124a-0808-4566-c6c8-a63dded09b12"
   },
   "outputs": [
    {
     "data": {
      "text/html": [
       "\n",
       "  <div id=\"df-aa0ac89d-a5ab-4cc4-8fe3-6ab6f491f41c\">\n",
       "    <div class=\"colab-df-container\">\n",
       "      <div>\n",
       "<style scoped>\n",
       "    .dataframe tbody tr th:only-of-type {\n",
       "        vertical-align: middle;\n",
       "    }\n",
       "\n",
       "    .dataframe tbody tr th {\n",
       "        vertical-align: top;\n",
       "    }\n",
       "\n",
       "    .dataframe thead th {\n",
       "        text-align: right;\n",
       "    }\n",
       "</style>\n",
       "<table border=\"1\" class=\"dataframe\">\n",
       "  <thead>\n",
       "    <tr style=\"text-align: right;\">\n",
       "      <th></th>\n",
       "      <th>filename</th>\n",
       "      <th>fold</th>\n",
       "      <th>target</th>\n",
       "      <th>category</th>\n",
       "      <th>esc10</th>\n",
       "      <th>src_file</th>\n",
       "      <th>take</th>\n",
       "    </tr>\n",
       "  </thead>\n",
       "  <tbody>\n",
       "    <tr>\n",
       "      <th>0</th>\n",
       "      <td>1-100032-A-0.wav</td>\n",
       "      <td>1</td>\n",
       "      <td>0</td>\n",
       "      <td>dog</td>\n",
       "      <td>True</td>\n",
       "      <td>100032</td>\n",
       "      <td>A</td>\n",
       "    </tr>\n",
       "    <tr>\n",
       "      <th>1</th>\n",
       "      <td>1-100038-A-14.wav</td>\n",
       "      <td>1</td>\n",
       "      <td>14</td>\n",
       "      <td>chirping_birds</td>\n",
       "      <td>False</td>\n",
       "      <td>100038</td>\n",
       "      <td>A</td>\n",
       "    </tr>\n",
       "    <tr>\n",
       "      <th>2</th>\n",
       "      <td>1-100210-A-36.wav</td>\n",
       "      <td>1</td>\n",
       "      <td>36</td>\n",
       "      <td>vacuum_cleaner</td>\n",
       "      <td>False</td>\n",
       "      <td>100210</td>\n",
       "      <td>A</td>\n",
       "    </tr>\n",
       "    <tr>\n",
       "      <th>3</th>\n",
       "      <td>1-100210-B-36.wav</td>\n",
       "      <td>1</td>\n",
       "      <td>36</td>\n",
       "      <td>vacuum_cleaner</td>\n",
       "      <td>False</td>\n",
       "      <td>100210</td>\n",
       "      <td>B</td>\n",
       "    </tr>\n",
       "    <tr>\n",
       "      <th>4</th>\n",
       "      <td>1-101296-A-19.wav</td>\n",
       "      <td>1</td>\n",
       "      <td>19</td>\n",
       "      <td>thunderstorm</td>\n",
       "      <td>False</td>\n",
       "      <td>101296</td>\n",
       "      <td>A</td>\n",
       "    </tr>\n",
       "  </tbody>\n",
       "</table>\n",
       "</div>\n",
       "      <button class=\"colab-df-convert\" onclick=\"convertToInteractive('df-aa0ac89d-a5ab-4cc4-8fe3-6ab6f491f41c')\"\n",
       "              title=\"Convert this dataframe to an interactive table.\"\n",
       "              style=\"display:none;\">\n",
       "        \n",
       "  <svg xmlns=\"http://www.w3.org/2000/svg\" height=\"24px\"viewBox=\"0 0 24 24\"\n",
       "       width=\"24px\">\n",
       "    <path d=\"M0 0h24v24H0V0z\" fill=\"none\"/>\n",
       "    <path d=\"M18.56 5.44l.94 2.06.94-2.06 2.06-.94-2.06-.94-.94-2.06-.94 2.06-2.06.94zm-11 1L8.5 8.5l.94-2.06 2.06-.94-2.06-.94L8.5 2.5l-.94 2.06-2.06.94zm10 10l.94 2.06.94-2.06 2.06-.94-2.06-.94-.94-2.06-.94 2.06-2.06.94z\"/><path d=\"M17.41 7.96l-1.37-1.37c-.4-.4-.92-.59-1.43-.59-.52 0-1.04.2-1.43.59L10.3 9.45l-7.72 7.72c-.78.78-.78 2.05 0 2.83L4 21.41c.39.39.9.59 1.41.59.51 0 1.02-.2 1.41-.59l7.78-7.78 2.81-2.81c.8-.78.8-2.07 0-2.86zM5.41 20L4 18.59l7.72-7.72 1.47 1.35L5.41 20z\"/>\n",
       "  </svg>\n",
       "      </button>\n",
       "      \n",
       "  <style>\n",
       "    .colab-df-container {\n",
       "      display:flex;\n",
       "      flex-wrap:wrap;\n",
       "      gap: 12px;\n",
       "    }\n",
       "\n",
       "    .colab-df-convert {\n",
       "      background-color: #E8F0FE;\n",
       "      border: none;\n",
       "      border-radius: 50%;\n",
       "      cursor: pointer;\n",
       "      display: none;\n",
       "      fill: #1967D2;\n",
       "      height: 32px;\n",
       "      padding: 0 0 0 0;\n",
       "      width: 32px;\n",
       "    }\n",
       "\n",
       "    .colab-df-convert:hover {\n",
       "      background-color: #E2EBFA;\n",
       "      box-shadow: 0px 1px 2px rgba(60, 64, 67, 0.3), 0px 1px 3px 1px rgba(60, 64, 67, 0.15);\n",
       "      fill: #174EA6;\n",
       "    }\n",
       "\n",
       "    [theme=dark] .colab-df-convert {\n",
       "      background-color: #3B4455;\n",
       "      fill: #D2E3FC;\n",
       "    }\n",
       "\n",
       "    [theme=dark] .colab-df-convert:hover {\n",
       "      background-color: #434B5C;\n",
       "      box-shadow: 0px 1px 3px 1px rgba(0, 0, 0, 0.15);\n",
       "      filter: drop-shadow(0px 1px 2px rgba(0, 0, 0, 0.3));\n",
       "      fill: #FFFFFF;\n",
       "    }\n",
       "  </style>\n",
       "\n",
       "      <script>\n",
       "        const buttonEl =\n",
       "          document.querySelector('#df-aa0ac89d-a5ab-4cc4-8fe3-6ab6f491f41c button.colab-df-convert');\n",
       "        buttonEl.style.display =\n",
       "          google.colab.kernel.accessAllowed ? 'block' : 'none';\n",
       "\n",
       "        async function convertToInteractive(key) {\n",
       "          const element = document.querySelector('#df-aa0ac89d-a5ab-4cc4-8fe3-6ab6f491f41c');\n",
       "          const dataTable =\n",
       "            await google.colab.kernel.invokeFunction('convertToInteractive',\n",
       "                                                     [key], {});\n",
       "          if (!dataTable) return;\n",
       "\n",
       "          const docLinkHtml = 'Like what you see? Visit the ' +\n",
       "            '<a target=\"_blank\" href=https://colab.research.google.com/notebooks/data_table.ipynb>data table notebook</a>'\n",
       "            + ' to learn more about interactive tables.';\n",
       "          element.innerHTML = '';\n",
       "          dataTable['output_type'] = 'display_data';\n",
       "          await google.colab.output.renderOutput(dataTable, element);\n",
       "          const docLink = document.createElement('div');\n",
       "          docLink.innerHTML = docLinkHtml;\n",
       "          element.appendChild(docLink);\n",
       "        }\n",
       "      </script>\n",
       "    </div>\n",
       "  </div>\n",
       "  "
      ],
      "text/plain": [
       "            filename  fold  target        category  esc10  src_file take\n",
       "0   1-100032-A-0.wav     1       0             dog   True    100032    A\n",
       "1  1-100038-A-14.wav     1      14  chirping_birds  False    100038    A\n",
       "2  1-100210-A-36.wav     1      36  vacuum_cleaner  False    100210    A\n",
       "3  1-100210-B-36.wav     1      36  vacuum_cleaner  False    100210    B\n",
       "4  1-101296-A-19.wav     1      19    thunderstorm  False    101296    A"
      ]
     },
     "execution_count": 3,
     "metadata": {},
     "output_type": "execute_result"
    }
   ],
   "source": [
    "data = pd.read_csv('./data/meta/esc50.csv')\n",
    "data.head()"
   ]
  },
  {
   "cell_type": "markdown",
   "id": "976f9358",
   "metadata": {
    "id": "976f9358"
   },
   "source": [
    "## Architectural design\n",
    "First of all data is imported (due to storage requirements the data has already been stored with the train-validation-test split). The latter split is performed via `sklearn.model_selection.train_test_split` with 80% of data used for training, 10% for validation and 10% for test purposes. The method is implemented with `random_state = 42` (common to all architectures in order to provide to all the algorithms the same exact examples)."
   ]
  },
  {
   "cell_type": "code",
   "execution_count": 4,
   "id": "571Lw3LPBwxM",
   "metadata": {
    "id": "571Lw3LPBwxM"
   },
   "outputs": [],
   "source": [
    "BATCH_SIZE1 = 100"
   ]
  },
  {
   "cell_type": "code",
   "execution_count": 5,
   "id": "Ny1HO7yLvvJo",
   "metadata": {
    "id": "Ny1HO7yLvvJo"
   },
   "outputs": [],
   "source": [
    "X_train = pd.read_parquet(\".//data/X_train_CNN_60x431x3_7times.parquet\")\n",
    "X_valid = pd.read_parquet(\".//data/X_valid_CNN_60x431x3_7times.parquet\")\n",
    "X_test = pd.read_parquet(\".//data/X_test_CNN_60x431x3_7times.parquet\")\n",
    "y = pd.read_parquet(\".//data/y_CNN_7times.parquet\")\n",
    "y[\"0\"] = y[\"0\"].astype(int)\n",
    "\n",
    "X_train = X_train.values.reshape(len(X_train), 60, 431, 3)\n",
    "X_valid = X_valid.values.reshape(len(X_valid), 60, 431, 3)\n",
    "X_test = X_test.values.reshape(len(X_test), 60, 431, 3)\n",
    "\n",
    "y_train = y.values[:len(X_train)]\n",
    "y_valid = y.values[len(X_train):len(X_train) + len(X_valid)]\n",
    "y_test = y.values[len(X_train) + len(X_valid):]"
   ]
  },
  {
   "cell_type": "code",
   "execution_count": 6,
   "id": "LsKnofH5n8P3",
   "metadata": {
    "id": "LsKnofH5n8P3"
   },
   "outputs": [],
   "source": [
    "# Identify and select the TPU\n",
    "try:\n",
    "    TF_MASTER = 'grpc://{}'.format(os.environ['COLAB_TPU_ADDR'])\n",
    "\n",
    "    tpu = tf.distribute.cluster_resolver.TPUClusterResolver(TF_MASTER)  # TPU detection\n",
    "    tf.config.experimental_connect_to_cluster(tpu)\n",
    "    tf.tpu.experimental.initialize_tpu_system(tpu)\n",
    "    tpu_strategy = tf.distribute.TPUStrategy(tpu)\n",
    "except:\n",
    "    print(\"TPU not found\")"
   ]
  },
  {
   "cell_type": "code",
   "execution_count": 7,
   "id": "hkQ1bOISnoXp",
   "metadata": {
    "colab": {
     "base_uri": "https://localhost:8080/"
    },
    "id": "hkQ1bOISnoXp",
    "outputId": "20d0b5d7-50d1-4257-9814-1ccb2df421f7"
   },
   "outputs": [
    {
     "name": "stdout",
     "output_type": "stream",
     "text": [
      "Model: \"M0\"\n",
      "_________________________________________________________________\n",
      " Layer (type)                Output Shape              Param #   \n",
      "=================================================================\n",
      " conv2d (Conv2D)             (None, 60, 431, 30)       6510      \n",
      "                                                                 \n",
      " max_pooling2d (MaxPooling2D  (None, 58, 143, 30)      0         \n",
      " )                                                               \n",
      "                                                                 \n",
      " dropout (Dropout)           (None, 58, 143, 30)       0         \n",
      "                                                                 \n",
      " conv2d_1 (Conv2D)           (None, 58, 143, 30)       2730      \n",
      "                                                                 \n",
      " max_pooling2d_1 (MaxPooling  (None, 58, 47, 30)       0         \n",
      " 2D)                                                             \n",
      "                                                                 \n",
      " conv2d_2 (Conv2D)           (None, 58, 47, 10)        910       \n",
      "                                                                 \n",
      " max_pooling2d_2 (MaxPooling  (None, 58, 15, 10)       0         \n",
      " 2D)                                                             \n",
      "                                                                 \n",
      " flatten (Flatten)           (None, 8700)              0         \n",
      "                                                                 \n",
      " dense (Dense)               (None, 500)               4350500   \n",
      "                                                                 \n",
      " dropout_1 (Dropout)         (None, 500)               0         \n",
      "                                                                 \n",
      " dense_1 (Dense)             (None, 50)                25050     \n",
      "                                                                 \n",
      "=================================================================\n",
      "Total params: 4,385,700\n",
      "Trainable params: 4,385,700\n",
      "Non-trainable params: 0\n",
      "_________________________________________________________________\n",
      "None\n"
     ]
    }
   ],
   "source": [
    "with tpu_strategy.scope():\n",
    "    # creating the model in the TPUStrategy\n",
    "    # scope means we will train the model on the TPU\n",
    "    model0 =  keras.models.Sequential([keras.layers.Conv2D(filters = 30, kernel_size = [12, 6],\n",
    "                                                           padding = \"same\", activation = \"relu\",\n",
    "                                                           input_shape = [60, 431, 3]),\n",
    "                                       keras.layers.MaxPool2D(pool_size = (3, 3), strides = (1, 3)),\n",
    "                                       keras.layers.Dropout(rate = .5),\n",
    "                                       keras.layers.Conv2D(filters = 30, kernel_size = (1, 3),\n",
    "                                                           padding = \"same\", activation = \"relu\"),\n",
    "                                       keras.layers.MaxPool2D(pool_size = (1, 3), strides = (1, 3)),\n",
    "                                       keras.layers.Conv2D(filters = 10, kernel_size = (1, 3),\n",
    "                                                           padding = \"same\", activation = \"relu\"),\n",
    "                                       keras.layers.MaxPool2D(pool_size = (1, 3), strides = (1, 3)),\n",
    "                                       keras.layers.Flatten(),\n",
    "                                       keras.layers.Dense(500, activation = \"relu\"),\n",
    "                                       keras.layers.Dropout(rate = .5),\n",
    "                                       keras.layers.Dense(50, activation = \"softmax\") ],\n",
    "                                      name = \"M0\")\n",
    "\n",
    "    model0.compile(loss = \"sparse_categorical_crossentropy\",\n",
    "                   metrics = [\"accuracy\"],\n",
    "                   optimizer = keras.optimizers.Adam(learning_rate = 1e-4))\n",
    "\n",
    "print(model0.summary())"
   ]
  },
  {
   "cell_type": "markdown",
   "id": "02223617",
   "metadata": {},
   "source": [
    "In the following cell the training of the CNN is provided. This is done by splitting the training set in 4 separate datasets with the same size (2800 examples)."
   ]
  },
  {
   "cell_type": "code",
   "execution_count": 8,
   "id": "QcBFuFKfPOM9",
   "metadata": {
    "colab": {
     "base_uri": "https://localhost:8080/"
    },
    "id": "QcBFuFKfPOM9",
    "outputId": "c78ee9a2-8ad2-4ba5-f0ee-9ef7262e7bd5"
   },
   "outputs": [
    {
     "name": "stderr",
     "output_type": "stream",
     "text": [
      "100%|██████████| 4/4 [13:47<00:00, 206.96s/it]\n"
     ]
    }
   ],
   "source": [
    "split_train = []\n",
    "for j in tqdm(range(4)):\n",
    "    j_start = int(j*(len(X_train)/4))\n",
    "    j_stop = int((j+1)*(len(X_train)/4))\n",
    "    hist_j = model0.fit(X_train[j_start:j_stop], y_train[j_start:j_stop],\n",
    "                        epochs = 200, batch_size = BATCH_SIZE1,\n",
    "                        validation_data = (X_valid, y_valid),\n",
    "                        verbose = 0,\n",
    "                        callbacks = [keras.callbacks.EarlyStopping(monitor = \"val_accuracy\",\n",
    "                                                                   patience = 20)])\n",
    "  \n",
    "  split_train.append(hist_j.history)"
   ]
  },
  {
   "cell_type": "code",
   "execution_count": 9,
   "id": "T8OsGAOolHYx",
   "metadata": {
    "colab": {
     "base_uri": "https://localhost:8080/",
     "height": 368
    },
    "id": "T8OsGAOolHYx",
    "outputId": "3c4060d9-56eb-42c8-dd2e-516fa47d3ba1"
   },
   "outputs": [
    {
     "name": "stdout",
     "output_type": "stream",
     "text": [
      "\n",
      "44/44 - 10s - loss: 0.5960 - accuracy: 0.8450 - 10s/epoch - 228ms/step\n",
      "=======================================================================\n",
      "Accuracy on test: 84.50%\n",
      "Memory used: 664.3 Mb\n"
     ]
    },
    {
     "data": {
      "image/png": "[encoded data removed]",
      "text/plain": [
       "<Figure size 1008x288 with 2 Axes>"
      ]
     },
     "metadata": {
      "needs_background": "light"
     },
     "output_type": "display_data"
    }
   ],
   "source": [
    "fig, ax = plt.subplots(1, 2, figsize = (14, 4))\n",
    "ax[0].plot(split_train[0][\"loss\"]+split_train[1][\"loss\"]+\n",
    "           split_train[2][\"loss\"]+split_train[3][\"loss\"],\n",
    "           label = \"Train loss\", color = \"#191970\")\n",
    "ax[0].plot(split_train[0][\"val_loss\"]+split_train[1][\"val_loss\"]+\n",
    "           split_train[2][\"val_loss\"]+split_train[3][\"val_loss\"],\n",
    "           label = \"Val loss\", color = \"#00CC33\")\n",
    "ax[0].set_title(\"Loss\")\n",
    "ax[0].legend()\n",
    "\n",
    "ax[1].plot(split_train[0][\"accuracy\"]+split_train[1][\"accuracy\"]+\n",
    "           split_train[2][\"accuracy\"]+split_train[3][\"accuracy\"],\n",
    "           label = \"Train accuracy\", color = \"#191970\")\n",
    "ax[1].plot(split_train[0][\"val_accuracy\"]+split_train[1][\"val_accuracy\"]+\n",
    "           split_train[2][\"val_accuracy\"]+split_train[3][\"val_accuracy\"],\n",
    "           label = \"Val accuracy\", color = \"#00CC33\")\n",
    "ax[1].set_title(\"Accuracy\")\n",
    "ax[1].set_ylim(0, 1.1)\n",
    "ax[1].legend()\n",
    "\n",
    "for i in range(len(ax)):\n",
    "    step_n = 0\n",
    "    for el in split_train:\n",
    "        step_n += len(el[\"val_loss\"])\n",
    "        ax[i].axvline(step_n, ls = \"--\", color = \"grey\", alpha = .5)\n",
    "\n",
    "print()\n",
    "scores0 = model0.evaluate(X_test, y_test, verbose = 2)\n",
    "print(\"=\"*71)\n",
    "print(\"Accuracy on test: {:.2f}%\".format(scores0[1]*100))\n",
    "print(\"Memory used: {:.1f} Mb\".format(\n",
    "        evaluation.keras_model_memory_usage_in_bytes(model = model0,\n",
    "                                                     batch_size = BATCH_SIZE1)/1e6))\n",
    "\n",
    "plt.show()\n",
    "#plt.savefig(\"CNN-only.jpg\", dpi = 300)"
   ]
  },
  {
   "cell_type": "code",
   "execution_count": 11,
   "id": "Aw-m8TSK6K6n",
   "metadata": {
    "colab": {
     "base_uri": "https://localhost:8080/"
    },
    "id": "Aw-m8TSK6K6n",
    "outputId": "bd806a48-e02b-4f15-8ddf-5ce5cbd66840"
   },
   "outputs": [
    {
     "name": "stdout",
     "output_type": "stream",
     "text": [
      "44/44 [==============================] - 11s 224ms/step\n",
      "              precision    recall  f1-score   support\n",
      "\n",
      "           0       0.97      0.89      0.93        35\n",
      "           1       0.90      1.00      0.95        35\n",
      "           2       0.92      0.70      0.79        33\n",
      "           3       0.91      0.94      0.93        34\n",
      "           4       0.90      0.97      0.93        29\n",
      "           5       0.86      0.83      0.85        30\n",
      "           6       0.88      0.68      0.77        34\n",
      "           7       0.91      0.80      0.85        25\n",
      "           8       0.93      0.93      0.93        28\n",
      "           9       0.95      0.91      0.93        22\n",
      "          10       0.69      0.92      0.79        24\n",
      "          11       0.81      0.88      0.85        25\n",
      "          12       0.88      0.97      0.92        30\n",
      "          13       0.73      0.84      0.78        19\n",
      "          14       0.96      0.77      0.86        31\n",
      "          15       0.96      0.72      0.83        36\n",
      "          16       0.84      0.75      0.79        28\n",
      "          17       0.92      0.88      0.90        26\n",
      "          18       0.96      0.86      0.91        29\n",
      "          19       1.00      0.86      0.92        35\n",
      "          20       0.75      0.92      0.83        26\n",
      "          21       0.85      1.00      0.92        23\n",
      "          22       0.97      0.95      0.96        38\n",
      "          23       0.58      0.64      0.61        22\n",
      "          24       0.96      0.86      0.91        29\n",
      "          25       0.80      0.91      0.85        22\n",
      "          26       0.76      0.87      0.81        30\n",
      "          27       0.79      0.90      0.84        21\n",
      "          28       0.75      0.84      0.79        25\n",
      "          29       0.78      0.62      0.69        29\n",
      "          30       0.75      0.86      0.80        21\n",
      "          31       0.65      0.91      0.75        22\n",
      "          32       0.77      0.90      0.83        30\n",
      "          33       0.85      0.70      0.77        33\n",
      "          34       0.96      0.92      0.94        24\n",
      "          35       0.80      0.77      0.79        31\n",
      "          36       0.66      0.82      0.73        28\n",
      "          37       0.87      1.00      0.93        33\n",
      "          38       0.75      0.75      0.75        24\n",
      "          39       0.88      0.95      0.91        22\n",
      "          40       0.67      0.92      0.77        26\n",
      "          41       0.75      0.60      0.67        35\n",
      "          42       0.69      0.86      0.77        21\n",
      "          43       0.93      0.90      0.92        30\n",
      "          44       0.89      0.86      0.87        28\n",
      "          45       0.83      0.68      0.75        22\n",
      "          46       0.94      0.89      0.92        19\n",
      "          47       0.96      0.84      0.90        31\n",
      "          48       0.84      0.93      0.89        29\n",
      "          49       1.00      0.74      0.85        38\n",
      "\n",
      "    accuracy                           0.84      1400\n",
      "   macro avg       0.85      0.85      0.84      1400\n",
      "weighted avg       0.86      0.84      0.84      1400\n",
      "\n"
     ]
    }
   ],
   "source": [
    "print(classification_report(y_test, model0.predict(X_test).argmax(axis = 1)))"
   ]
  },
  {
   "cell_type": "markdown",
   "id": "xvl4eW65ELir",
   "metadata": {
    "id": "xvl4eW65ELir"
   },
   "source": [
    "### Input with only two channels\n",
    "To assess the impact of the addition of the third channel to the input (chromagram), the same architecture presented before is trained with only the first two channels (MFCC and their derivatives)."
   ]
  },
  {
   "cell_type": "code",
   "execution_count": 12,
   "id": "8kxqp_3xEJa7",
   "metadata": {
    "id": "8kxqp_3xEJa7"
   },
   "outputs": [],
   "source": [
    "X_train2 = X_train[:, :, :, :-1]\n",
    "X_valid2 = X_valid[:, :, :, :-1]\n",
    "X_test2 = X_test[:, :, :, :-1]"
   ]
  },
  {
   "cell_type": "code",
   "execution_count": 13,
   "id": "zDee48klES1g",
   "metadata": {
    "colab": {
     "base_uri": "https://localhost:8080/"
    },
    "id": "zDee48klES1g",
    "outputId": "8488b1d0-cb12-4ddc-da18-2f2e9b57ece7"
   },
   "outputs": [
    {
     "name": "stdout",
     "output_type": "stream",
     "text": [
      "Model: \"M2\"\n",
      "_________________________________________________________________\n",
      " Layer (type)                Output Shape              Param #   \n",
      "=================================================================\n",
      " conv2d_3 (Conv2D)           (None, 60, 431, 30)       4350      \n",
      "                                                                 \n",
      " max_pooling2d_3 (MaxPooling  (None, 58, 143, 30)      0         \n",
      " 2D)                                                             \n",
      "                                                                 \n",
      " dropout_2 (Dropout)         (None, 58, 143, 30)       0         \n",
      "                                                                 \n",
      " conv2d_4 (Conv2D)           (None, 58, 143, 30)       2730      \n",
      "                                                                 \n",
      " max_pooling2d_4 (MaxPooling  (None, 58, 47, 30)       0         \n",
      " 2D)                                                             \n",
      "                                                                 \n",
      " conv2d_5 (Conv2D)           (None, 58, 47, 10)        910       \n",
      "                                                                 \n",
      " max_pooling2d_5 (MaxPooling  (None, 58, 15, 10)       0         \n",
      " 2D)                                                             \n",
      "                                                                 \n",
      " flatten_1 (Flatten)         (None, 8700)              0         \n",
      "                                                                 \n",
      " dense_2 (Dense)             (None, 500)               4350500   \n",
      "                                                                 \n",
      " dropout_3 (Dropout)         (None, 500)               0         \n",
      "                                                                 \n",
      " dense_3 (Dense)             (None, 50)                25050     \n",
      "                                                                 \n",
      "=================================================================\n",
      "Total params: 4,383,540\n",
      "Trainable params: 4,383,540\n",
      "Non-trainable params: 0\n",
      "_________________________________________________________________\n",
      "None\n"
     ]
    }
   ],
   "source": [
    "with tpu_strategy.scope():\n",
    "    # creating the model in the TPUStrategy\n",
    "    # scope means we will train the model on the TPU\n",
    "    model2 =  keras.models.Sequential([keras.layers.Conv2D(filters = 30, kernel_size = [12, 6],\n",
    "                                                           padding = \"same\", activation = \"relu\",\n",
    "                                                           input_shape = [60, 431, 2]),\n",
    "                                       keras.layers.MaxPool2D(pool_size = (3, 3), strides = (1, 3)),\n",
    "                                       keras.layers.Dropout(rate = .5),\n",
    "                                       keras.layers.Conv2D(filters = 30, kernel_size = (1, 3),\n",
    "                                                           padding = \"same\", activation = \"relu\"),\n",
    "                                       keras.layers.MaxPool2D(pool_size = (1, 3), strides = (1, 3)),\n",
    "                                       keras.layers.Conv2D(filters = 10, kernel_size = (1, 3),\n",
    "                                                           padding = \"same\", activation = \"relu\"),\n",
    "                                       keras.layers.MaxPool2D(pool_size = (1, 3), strides = (1, 3)),\n",
    "                                       keras.layers.Flatten(),\n",
    "                                       keras.layers.Dense(500, activation = \"relu\"), # BOOSTS PERFORMANCE\n",
    "                                       keras.layers.Dropout(rate = .5),\n",
    "                                       keras.layers.Dense(50, activation = \"softmax\") ],\n",
    "                                      name = \"M2\")\n",
    "\n",
    "    model2.compile(loss = \"sparse_categorical_crossentropy\",\n",
    "                   metrics = [\"accuracy\"],\n",
    "                   optimizer = keras.optimizers.Adam(learning_rate = 1e-4))\n",
    "\n",
    "print(model2.summary())"
   ]
  },
  {
   "cell_type": "code",
   "execution_count": 14,
   "id": "clx3OtF3EnJc",
   "metadata": {
    "colab": {
     "base_uri": "https://localhost:8080/"
    },
    "id": "clx3OtF3EnJc",
    "outputId": "611dfe70-627d-4872-fb1c-cd5d0394d0ba"
   },
   "outputs": [
    {
     "name": "stderr",
     "output_type": "stream",
     "text": [
      "100%|██████████| 4/4 [17:52<00:00, 268.08s/it]\n"
     ]
    }
   ],
   "source": [
    "split_train2 = []\n",
    "for j in tqdm(range(4)):\n",
    "    j_start = int(j*(len(X_train2)/4))\n",
    "    j_stop = int((j+1)*(len(X_train2)/4))\n",
    "    hist_j2 = model2.fit(X_train2[j_start:j_stop], y_train[j_start:j_stop],\n",
    "                         epochs = 200, batch_size = BATCH_SIZE1,\n",
    "                         validation_data = (X_valid2, y_valid),\n",
    "                         verbose = 0,\n",
    "                         callbacks = [keras.callbacks.EarlyStopping(monitor = \"val_accuracy\",\n",
    "                                                                    patience = 20)])\n",
    "  \n",
    "    split_train2.append(hist_j2.history)"
   ]
  },
  {
   "cell_type": "code",
   "execution_count": 15,
   "id": "jdErLCA4EwtO",
   "metadata": {
    "colab": {
     "base_uri": "https://localhost:8080/",
     "height": 368
    },
    "id": "jdErLCA4EwtO",
    "outputId": "72aeafc1-0cd9-4e18-fbb5-41d803d7da4c"
   },
   "outputs": [
    {
     "name": "stdout",
     "output_type": "stream",
     "text": [
      "\n",
      "44/44 - 10s - loss: 1.3673 - accuracy: 0.6514 - 10s/epoch - 235ms/step\n",
      "=======================================================================\n",
      "Accuracy on test: 65.14%\n",
      "Memory used: 664.3 Mb\n"
     ]
    },
    {
     "data": {
      "image/png": "[encoded data removed]",
      "text/plain": [
       "<Figure size 1008x288 with 2 Axes>"
      ]
     },
     "metadata": {
      "needs_background": "light"
     },
     "output_type": "display_data"
    }
   ],
   "source": [
    "fig2, ax2 = plt.subplots(1, 2, figsize = (14, 4))\n",
    "ax2[0].plot(split_train2[0][\"loss\"]+split_train2[1][\"loss\"]+\n",
    "            split_train2[2][\"loss\"]+split_train2[3][\"loss\"],\n",
    "            label = \"Train loss\", color = \"#191970\")\n",
    "ax2[0].plot(split_train2[0][\"val_loss\"]+split_train2[1][\"val_loss\"]+\n",
    "            split_train2[2][\"val_loss\"]+split_train2[3][\"val_loss\"],\n",
    "            label = \"Val loss\", color = \"#00CC33\")\n",
    "ax2[0].set_title(\"Loss\")\n",
    "ax2[0].legend()\n",
    "\n",
    "ax2[1].plot(split_train2[0][\"accuracy\"]+split_train2[1][\"accuracy\"]+\n",
    "            split_train2[2][\"accuracy\"]+split_train2[3][\"accuracy\"],\n",
    "            label = \"Train accuracy\", color = \"#191970\")\n",
    "ax2[1].plot(split_train2[0][\"val_accuracy\"]+split_train2[1][\"val_accuracy\"]+\n",
    "            split_train2[2][\"val_accuracy\"]+split_train2[3][\"val_accuracy\"],\n",
    "            label = \"Val accuracy\", color = \"#00CC33\")\n",
    "ax2[1].set_title(\"Accuracy\")\n",
    "ax2[1].set_ylim(0, 1.1)\n",
    "ax2[1].legend()\n",
    "\n",
    "for i in range(len(ax2)):\n",
    "    step_n = 0\n",
    "    for el in split_train2:\n",
    "        step_n += len(el[\"val_loss\"])\n",
    "        ax2[i].axvline(step_n, ls = \"--\", color = \"grey\", alpha = .5)\n",
    "\n",
    "print()\n",
    "scores2 = model2.evaluate(X_test2, y_test, verbose = 2)\n",
    "print(\"=\"*71)\n",
    "print(\"Accuracy on test: {:.2f}%\".format(scores2[1]*100))\n",
    "print(\"Memory used: {:.1f} Mb\".format(\n",
    "        evaluation.keras_model_memory_usage_in_bytes(model = model2,\n",
    "                                                     batch_size = BATCH_SIZE1)/1e6))\n",
    "\n",
    "plt.show()\n",
    "#plt.savefig(\"CNN-only-2.jpg\", dpi = 300)"
   ]
  },
  {
   "cell_type": "markdown",
   "id": "xuSzNkPA-_jU",
   "metadata": {
    "id": "xuSzNkPA-_jU"
   },
   "source": [
    "---\n",
    "---\n",
    "---"
   ]
  }
 ],
 "metadata": {
  "accelerator": "TPU",
  "colab": {
   "collapsed_sections": [
    "744bfa6e"
   ],
   "machine_shape": "hm",
   "provenance": [],
   "toc_visible": true
  },
  "gpuClass": "standard",
  "kernelspec": {
   "display_name": "Python 3 (ipykernel)",
   "language": "python",
   "name": "python3"
  },
  "language_info": {
   "codemirror_mode": {
    "name": "ipython",
    "version": 3
   },
   "file_extension": ".py",
   "mimetype": "text/x-python",
   "name": "python",
   "nbconvert_exporter": "python",
   "pygments_lexer": "ipython3",
   "version": "3.9.12"
  }
 },
 "nbformat": 4,
 "nbformat_minor": 5
}
