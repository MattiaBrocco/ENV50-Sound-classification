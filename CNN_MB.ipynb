{
  "cells": [
    {
      "cell_type": "markdown",
      "source": [
        "# Project Notebook\n",
        "Authors:\n",
        "* Brocco Mattia\n",
        "* Tellez Brenda"
      ],
      "metadata": {
        "id": "6H0l2FKpZzrM"
      },
      "id": "6H0l2FKpZzrM"
    },
    {
      "cell_type": "code",
      "execution_count": 2,
      "id": "cqWaiUYsRCJ9",
      "metadata": {
        "colab": {
          "base_uri": "https://localhost:8080/"
        },
        "id": "cqWaiUYsRCJ9",
        "outputId": "c5cd37e8-bdf8-4f71-df92-5dc5fb000e10"
      },
      "outputs": [
        {
          "output_type": "stream",
          "name": "stdout",
          "text": [
            "Mounted at /content/drive\n",
            "/content/drive/MyDrive/Environmental-sounds-UNIPD-2022\n"
          ]
        }
      ],
      "source": [
        "from google.colab import drive\n",
        "drive.mount(\"/content/drive\")\n",
        "\n",
        "%cd /content/drive/MyDrive/Environmental-sounds-UNIPD-2022"
      ]
    },
    {
      "cell_type": "code",
      "execution_count": 3,
      "id": "592da296",
      "metadata": {
        "ExecuteTime": {
          "end_time": "2023-01-02T15:26:41.488268Z",
          "start_time": "2023-01-02T15:26:24.186181Z"
        },
        "id": "592da296"
      },
      "outputs": [],
      "source": [
        "import os\n",
        "import sys\n",
        "import torch\n",
        "import librosa\n",
        "import numpy as np\n",
        "import pandas as pd\n",
        "import seaborn as sns\n",
        "import tensorflow as tf\n",
        "from scipy.io import wavfile\n",
        "from tensorflow import keras\n",
        "import matplotlib.pyplot as plt\n",
        "\n",
        "import evaluation\n",
        "import CNN_support as cnns\n",
        "from gng import GrowingNeuralGas\n",
        "\n",
        "%load_ext autoreload\n",
        "%autoreload 2"
      ]
    },
    {
      "cell_type": "code",
      "execution_count": 6,
      "id": "a115cec6",
      "metadata": {
        "ExecuteTime": {
          "end_time": "2023-01-02T15:26:41.828237Z",
          "start_time": "2023-01-02T15:26:41.491121Z"
        },
        "colab": {
          "base_uri": "https://localhost:8080/",
          "height": 206
        },
        "id": "a115cec6",
        "outputId": "23de732e-2b7e-4891-99ee-b4527770af32"
      },
      "outputs": [
        {
          "output_type": "execute_result",
          "data": {
            "text/plain": [
              "            filename  fold  target        category  esc10  src_file take\n",
              "0   1-100032-A-0.wav     1       0             dog   True    100032    A\n",
              "1  1-100038-A-14.wav     1      14  chirping_birds  False    100038    A\n",
              "2  1-100210-A-36.wav     1      36  vacuum_cleaner  False    100210    A\n",
              "3  1-100210-B-36.wav     1      36  vacuum_cleaner  False    100210    B\n",
              "4  1-101296-A-19.wav     1      19    thunderstorm  False    101296    A"
            ],
            "text/html": [
              "\n",
              "  <div id=\"df-770f5dc0-eb49-4515-8a86-5c41fb740c06\">\n",
              "    <div class=\"colab-df-container\">\n",
              "      <div>\n",
              "<style scoped>\n",
              "    .dataframe tbody tr th:only-of-type {\n",
              "        vertical-align: middle;\n",
              "    }\n",
              "\n",
              "    .dataframe tbody tr th {\n",
              "        vertical-align: top;\n",
              "    }\n",
              "\n",
              "    .dataframe thead th {\n",
              "        text-align: right;\n",
              "    }\n",
              "</style>\n",
              "<table border=\"1\" class=\"dataframe\">\n",
              "  <thead>\n",
              "    <tr style=\"text-align: right;\">\n",
              "      <th></th>\n",
              "      <th>filename</th>\n",
              "      <th>fold</th>\n",
              "      <th>target</th>\n",
              "      <th>category</th>\n",
              "      <th>esc10</th>\n",
              "      <th>src_file</th>\n",
              "      <th>take</th>\n",
              "    </tr>\n",
              "  </thead>\n",
              "  <tbody>\n",
              "    <tr>\n",
              "      <th>0</th>\n",
              "      <td>1-100032-A-0.wav</td>\n",
              "      <td>1</td>\n",
              "      <td>0</td>\n",
              "      <td>dog</td>\n",
              "      <td>True</td>\n",
              "      <td>100032</td>\n",
              "      <td>A</td>\n",
              "    </tr>\n",
              "    <tr>\n",
              "      <th>1</th>\n",
              "      <td>1-100038-A-14.wav</td>\n",
              "      <td>1</td>\n",
              "      <td>14</td>\n",
              "      <td>chirping_birds</td>\n",
              "      <td>False</td>\n",
              "      <td>100038</td>\n",
              "      <td>A</td>\n",
              "    </tr>\n",
              "    <tr>\n",
              "      <th>2</th>\n",
              "      <td>1-100210-A-36.wav</td>\n",
              "      <td>1</td>\n",
              "      <td>36</td>\n",
              "      <td>vacuum_cleaner</td>\n",
              "      <td>False</td>\n",
              "      <td>100210</td>\n",
              "      <td>A</td>\n",
              "    </tr>\n",
              "    <tr>\n",
              "      <th>3</th>\n",
              "      <td>1-100210-B-36.wav</td>\n",
              "      <td>1</td>\n",
              "      <td>36</td>\n",
              "      <td>vacuum_cleaner</td>\n",
              "      <td>False</td>\n",
              "      <td>100210</td>\n",
              "      <td>B</td>\n",
              "    </tr>\n",
              "    <tr>\n",
              "      <th>4</th>\n",
              "      <td>1-101296-A-19.wav</td>\n",
              "      <td>1</td>\n",
              "      <td>19</td>\n",
              "      <td>thunderstorm</td>\n",
              "      <td>False</td>\n",
              "      <td>101296</td>\n",
              "      <td>A</td>\n",
              "    </tr>\n",
              "  </tbody>\n",
              "</table>\n",
              "</div>\n",
              "      <button class=\"colab-df-convert\" onclick=\"convertToInteractive('df-770f5dc0-eb49-4515-8a86-5c41fb740c06')\"\n",
              "              title=\"Convert this dataframe to an interactive table.\"\n",
              "              style=\"display:none;\">\n",
              "        \n",
              "  <svg xmlns=\"http://www.w3.org/2000/svg\" height=\"24px\"viewBox=\"0 0 24 24\"\n",
              "       width=\"24px\">\n",
              "    <path d=\"M0 0h24v24H0V0z\" fill=\"none\"/>\n",
              "    <path d=\"M18.56 5.44l.94 2.06.94-2.06 2.06-.94-2.06-.94-.94-2.06-.94 2.06-2.06.94zm-11 1L8.5 8.5l.94-2.06 2.06-.94-2.06-.94L8.5 2.5l-.94 2.06-2.06.94zm10 10l.94 2.06.94-2.06 2.06-.94-2.06-.94-.94-2.06-.94 2.06-2.06.94z\"/><path d=\"M17.41 7.96l-1.37-1.37c-.4-.4-.92-.59-1.43-.59-.52 0-1.04.2-1.43.59L10.3 9.45l-7.72 7.72c-.78.78-.78 2.05 0 2.83L4 21.41c.39.39.9.59 1.41.59.51 0 1.02-.2 1.41-.59l7.78-7.78 2.81-2.81c.8-.78.8-2.07 0-2.86zM5.41 20L4 18.59l7.72-7.72 1.47 1.35L5.41 20z\"/>\n",
              "  </svg>\n",
              "      </button>\n",
              "      \n",
              "  <style>\n",
              "    .colab-df-container {\n",
              "      display:flex;\n",
              "      flex-wrap:wrap;\n",
              "      gap: 12px;\n",
              "    }\n",
              "\n",
              "    .colab-df-convert {\n",
              "      background-color: #E8F0FE;\n",
              "      border: none;\n",
              "      border-radius: 50%;\n",
              "      cursor: pointer;\n",
              "      display: none;\n",
              "      fill: #1967D2;\n",
              "      height: 32px;\n",
              "      padding: 0 0 0 0;\n",
              "      width: 32px;\n",
              "    }\n",
              "\n",
              "    .colab-df-convert:hover {\n",
              "      background-color: #E2EBFA;\n",
              "      box-shadow: 0px 1px 2px rgba(60, 64, 67, 0.3), 0px 1px 3px 1px rgba(60, 64, 67, 0.15);\n",
              "      fill: #174EA6;\n",
              "    }\n",
              "\n",
              "    [theme=dark] .colab-df-convert {\n",
              "      background-color: #3B4455;\n",
              "      fill: #D2E3FC;\n",
              "    }\n",
              "\n",
              "    [theme=dark] .colab-df-convert:hover {\n",
              "      background-color: #434B5C;\n",
              "      box-shadow: 0px 1px 3px 1px rgba(0, 0, 0, 0.15);\n",
              "      filter: drop-shadow(0px 1px 2px rgba(0, 0, 0, 0.3));\n",
              "      fill: #FFFFFF;\n",
              "    }\n",
              "  </style>\n",
              "\n",
              "      <script>\n",
              "        const buttonEl =\n",
              "          document.querySelector('#df-770f5dc0-eb49-4515-8a86-5c41fb740c06 button.colab-df-convert');\n",
              "        buttonEl.style.display =\n",
              "          google.colab.kernel.accessAllowed ? 'block' : 'none';\n",
              "\n",
              "        async function convertToInteractive(key) {\n",
              "          const element = document.querySelector('#df-770f5dc0-eb49-4515-8a86-5c41fb740c06');\n",
              "          const dataTable =\n",
              "            await google.colab.kernel.invokeFunction('convertToInteractive',\n",
              "                                                     [key], {});\n",
              "          if (!dataTable) return;\n",
              "\n",
              "          const docLinkHtml = 'Like what you see? Visit the ' +\n",
              "            '<a target=\"_blank\" href=https://colab.research.google.com/notebooks/data_table.ipynb>data table notebook</a>'\n",
              "            + ' to learn more about interactive tables.';\n",
              "          element.innerHTML = '';\n",
              "          dataTable['output_type'] = 'display_data';\n",
              "          await google.colab.output.renderOutput(dataTable, element);\n",
              "          const docLink = document.createElement('div');\n",
              "          docLink.innerHTML = docLinkHtml;\n",
              "          element.appendChild(docLink);\n",
              "        }\n",
              "      </script>\n",
              "    </div>\n",
              "  </div>\n",
              "  "
            ]
          },
          "metadata": {},
          "execution_count": 6
        }
      ],
      "source": [
        "data = pd.read_csv('./data/meta/esc50.csv')\n",
        "data.head()"
      ]
    },
    {
      "cell_type": "markdown",
      "id": "744bfa6e",
      "metadata": {
        "id": "744bfa6e"
      },
      "source": [
        "## 1. CNN for audio classification\n",
        "\n",
        "##### SOURCES\n",
        "[1] [CNN for audio (MEDIUM)](https://towardsdatascience.com/cnns-for-audio-classification-6244954665ab)  \n",
        "[2] [Types of DCT](https://docs.scipy.org/doc/scipy/reference/generated/scipy.fftpack.dct.html#scipy.fftpack.dct)\n",
        "\n",
        "Default sampling rate of `librosa` is 22050, while for `scipy` is 44100. This implies that we have half of the length of the sequence with the former library (110250 against 220500).  "
      ]
    },
    {
      "cell_type": "code",
      "execution_count": null,
      "id": "a22c6cfd",
      "metadata": {
        "ExecuteTime": {
          "end_time": "2023-01-02T07:46:48.674321Z",
          "start_time": "2023-01-02T07:42:17.451571Z"
        },
        "id": "a22c6cfd",
        "scrolled": true
      },
      "outputs": [],
      "source": [
        "#pppp = cnns.SoundPreprocessing(n_fft = 1000, n_mfcc = 10, sr = 441000, max_size = (200, 1000))\n",
        "\n",
        "#W, Z = pppp.get_features(df = data, filepath = \".\\\\data\\\\audio\")"
      ]
    },
    {
      "cell_type": "code",
      "execution_count": null,
      "id": "042d3fd3",
      "metadata": {
        "ExecuteTime": {
          "end_time": "2023-01-02T10:44:50.311038Z",
          "start_time": "2023-01-02T10:44:50.054512Z"
        },
        "id": "042d3fd3"
      },
      "outputs": [],
      "source": [
        "#s, a = wavfile.read(\".\\\\data\\\\audio\\\\{}\".format(data.loc[10, \"filename\"]))\n",
        "#a = a.astype(np.float32)"
      ]
    },
    {
      "cell_type": "code",
      "execution_count": null,
      "id": "cf5b6263",
      "metadata": {
        "ExecuteTime": {
          "end_time": "2023-01-02T10:42:52.301816Z",
          "start_time": "2023-01-02T10:42:51.935812Z"
        },
        "id": "cf5b6263"
      },
      "outputs": [],
      "source": [
        "#mfcc_try = librosa.feature.mfcc(y = a, sr = s, hop_length = 512, n_mfcc = 60)\n",
        "#mfcc_try = np.divide(mfcc_try, np.linalg.norm(mfcc_try))\n",
        "#chromogram_try = librosa.feature.chroma_stft(y = a, sr = s, hop_length = 512,\n",
        "#                                             win_length = 1024, n_chroma = 60)"
      ]
    },
    {
      "cell_type": "markdown",
      "id": "4e49ca36",
      "metadata": {
        "id": "4e49ca36"
      },
      "source": [
        "## Preprocessing"
      ]
    },
    {
      "cell_type": "code",
      "execution_count": 13,
      "id": "233ad077",
      "metadata": {
        "ExecuteTime": {
          "end_time": "2023-01-02T11:29:27.578760Z",
          "start_time": "2023-01-02T11:26:34.063345Z"
        },
        "colab": {
          "base_uri": "https://localhost:8080/"
        },
        "id": "233ad077",
        "outputId": "687b4ee4-60d1-4f80-c437-84bd84f38699"
      },
      "outputs": [
        {
          "output_type": "stream",
          "name": "stderr",
          "text": [
            "/usr/local/lib/python3.8/dist-packages/librosa/core/pitch.py:153: UserWarning: Trying to estimate tuning from empty frequency set.\n",
            "  warnings.warn(\"Trying to estimate tuning from empty frequency set.\")\n"
          ]
        }
      ],
      "source": [
        "# Get data for CNN\n",
        "X = []\n",
        "y = np.zeros(shape = (len(data), 1))\n",
        "\n",
        "for i in data.index:\n",
        "    \n",
        "    sr, aud = wavfile.read(\"./data/audio/{}\".format(data.loc[i, \"filename\"]))\n",
        "    aud = aud.astype(np.float32)\n",
        "    \n",
        "    MFCC = librosa.feature.mfcc(y = aud, sr = sr, hop_length = 512, n_mfcc = 60)\n",
        "    chromagram = librosa.feature.chroma_stft(y = aud, sr = sr, hop_length = 512,\n",
        "                                             win_length = 1024, n_chroma = 60)\n",
        "    delta = librosa.feature.delta(MFCC)\n",
        "    \n",
        "    instance = np.dstack((MFCC, chromagram, delta))\n",
        "    \n",
        "    X += [instance]\n",
        "    \n",
        "    y[i] = data.loc[i, \"target\"]\n",
        "    \n",
        "X = np.array(X)"
      ]
    },
    {
      "cell_type": "code",
      "execution_count": null,
      "id": "75ec06f1",
      "metadata": {
        "ExecuteTime": {
          "end_time": "2023-01-02T11:46:12.105657Z",
          "start_time": "2023-01-02T11:29:27.581732Z"
        },
        "id": "75ec06f1",
        "colab": {
          "base_uri": "https://localhost:8080/"
        },
        "outputId": "66ed4ffb-b89b-4d3c-df01-2b1db4b608c2"
      },
      "outputs": [
        {
          "output_type": "stream",
          "name": "stderr",
          "text": [
            "/usr/local/lib/python3.8/dist-packages/librosa/core/pitch.py:153: UserWarning: Trying to estimate tuning from empty frequency set.\n",
            "  warnings.warn(\"Trying to estimate tuning from empty frequency set.\")\n"
          ]
        }
      ],
      "source": [
        "# Data Augmentation\n",
        "# SOURCE: https://medium.com/@makcedward/data-augmentation-for-audio-76912b01fdf6\n",
        "\n",
        "np.random.seed(42)\n",
        "indexed_samples = np.random.choice(X.shape[0], size = 4000,\n",
        "                                   replace = True)\n",
        "np.random.seed(101)\n",
        "randn_seeds = np.random.choice(5000, size = 4000,\n",
        "                               replace = False)\n",
        "\n",
        "new_X = []\n",
        "new_y = np.zeros(shape = (len(indexed_samples), 1))\n",
        "for n, i in enumerate(indexed_samples):\n",
        "    \n",
        "    sr_sample, sample = wavfile.read(\"./data/audio/{}\".format(data.loc[i, \"filename\"]))\n",
        "    sample = sample.astype(np.float32)\n",
        "    \n",
        "    if n%5 == 0:\n",
        "        # NOISE INJECTION\n",
        "        np.random.seed(randn_seeds[n])\n",
        "        noise = np.random.randn(len( sample ))\n",
        "        augmented_data = (sample + noise).astype(np.float32)\n",
        "        \n",
        "    elif n%5 == 1:\n",
        "        # TIME SHIFT: right shift\n",
        "        np.random.seed(randn_seeds[n])\n",
        "        shift = -1*np.random.randint(sr_sample * 0.2) # 0.2 length of sequence max\n",
        "        augmented_data = np.roll(sample, shift)\n",
        "        # Set to silence for heading/ tailing\n",
        "        augmented_data[shift:] = 0\n",
        "        \n",
        "    elif n%5 == 2:\n",
        "        # PITCH SHIFT: shift down by 3\n",
        "        augmented_data = librosa.effects.pitch_shift(y = sample, sr = sr_sample,\n",
        "                                                     n_steps = 3)\n",
        "    elif n%5 == 3:\n",
        "        # SPEED SHIFT: faster\n",
        "        augmented_data = librosa.effects.time_stretch(y = sample, rate = 1.2)\n",
        "        augmented_data = np.append(augmented_data,\n",
        "                                   np.zeros(shape = len(sample) - len(augmented_data)))\n",
        "    else:\n",
        "        # SPEED SHIFT: slower (returns longer array)\n",
        "        augmented_data = librosa.effects.time_stretch(y = sample, rate = 0.8)\n",
        "        augmented_data = augmented_data[:len(sample)]\n",
        "    \n",
        "    \n",
        "    new_MFCC = librosa.feature.mfcc(y = augmented_data, sr = sr_sample,\n",
        "                                    hop_length = 512, n_mfcc = 60)\n",
        "    new_chromagram = librosa.feature.chroma_stft(y = augmented_data, sr = sr_sample,\n",
        "                                                 hop_length = 512, win_length = 1024,\n",
        "                                                 n_chroma = 60)\n",
        "    new_delta = librosa.feature.delta(new_MFCC)\n",
        "    \n",
        "    new_instance = np.dstack((new_MFCC, new_chromagram, new_delta))\n",
        "    \n",
        "    new_X += [new_instance]\n",
        "    new_y[n] = y[i]\n",
        "    \n",
        "new_X = np.array(new_X)"
      ]
    },
    {
      "cell_type": "code",
      "execution_count": null,
      "id": "af319c07",
      "metadata": {
        "ExecuteTime": {
          "end_time": "2023-01-02T11:46:39.671549Z",
          "start_time": "2023-01-02T11:46:12.121578Z"
        },
        "id": "af319c07"
      },
      "outputs": [],
      "source": [
        "# Get stuff together\n",
        "X = np.vstack((X, new_X))\n",
        "y = np.vstack((y, new_y))"
      ]
    },
    {
      "cell_type": "code",
      "execution_count": null,
      "id": "01736996",
      "metadata": {
        "ExecuteTime": {
          "end_time": "2023-01-02T12:37:42.197050Z",
          "start_time": "2023-01-02T12:37:41.207696Z"
        },
        "colab": {
          "base_uri": "https://localhost:8080/"
        },
        "id": "01736996",
        "outputId": "adb55d5e-1b6e-4215-fba3-93c8b90c839c"
      },
      "outputs": [
        {
          "output_type": "execute_result",
          "data": {
            "text/plain": [
              "((6000, 60, 431, 3), (6000, 1))"
            ]
          },
          "metadata": {},
          "execution_count": 94
        }
      ],
      "source": [
        "X.shape, y.shape"
      ]
    },
    {
      "cell_type": "code",
      "execution_count": null,
      "id": "dd7af0f4",
      "metadata": {
        "ExecuteTime": {
          "end_time": "2023-01-02T13:49:03.570049Z",
          "start_time": "2023-01-02T13:47:26.093972Z"
        },
        "colab": {
          "base_uri": "https://localhost:8080/"
        },
        "id": "dd7af0f4",
        "outputId": "b79d9f30-b2e7-44de-d3e8-78493236158d"
      },
      "outputs": [
        {
          "output_type": "stream",
          "name": "stdout",
          "text": [
            "Training examples: 3600\n",
            "Validation examples: 900\n",
            "Test examples: 1500\n",
            "\n",
            "Input shape: (60, 431, 3)\n"
          ]
        }
      ],
      "source": [
        "from sklearn.model_selection import train_test_split\n",
        "\n",
        "X_train, X_test, y_train, y_test = train_test_split(X, y, train_size = .75, random_state = 42)\n",
        "X_train, X_valid, y_train, y_valid = train_test_split(X_train, y_train, train_size = .8, random_state = 42)\n",
        "\n",
        "print(\"Training examples: {}\".format(y_train.shape[0]))\n",
        "print(\"Validation examples: {}\".format(y_valid.shape[0]))\n",
        "print(\"Test examples: {}\".format(y_test.shape[0]))\n",
        "print()\n",
        "print(\"Input shape: {}\".format(X_train[0].shape))"
      ]
    },
    {
      "cell_type": "markdown",
      "id": "976f9358",
      "metadata": {
        "id": "976f9358"
      },
      "source": [
        "## Algo tries"
      ]
    },
    {
      "cell_type": "code",
      "execution_count": null,
      "id": "VomPND-8jyHm",
      "metadata": {
        "id": "VomPND-8jyHm"
      },
      "outputs": [],
      "source": [
        "#def array4D_to_parquet(arr, name):\n",
        "#  arr2 = pd.DataFrame(arr.reshape(arr.shape[0], -1))\n",
        "#  arr2.columns = [str(c) for c in arr2.columns]\n",
        "#  arr2.to_parquet(os.getcwd() + f\"/data/{name}.parquet\")\n",
        "\n",
        "#def target_to_parquet(arr, name):\n",
        "#  arr2 = pd.DataFrame(arr)\n",
        "#  arr2.columns = [str(c) for c in arr2.columns]\n",
        "#  arr2.to_parquet(os.getcwd() + f\"/data/{name}.parquet\")\n",
        "\n",
        "\n",
        "#array4D_to_parquet(X_train, \"X_train\")\n",
        "#array4D_to_parquet(X_valid, \"X_valid\")\n",
        "#array4D_to_parquet(X_test, \"X_test\")\n",
        "\n",
        "#target_to_parquet(y_train, \"y_train\")\n",
        "#target_to_parquet(y_valid, \"y_valid\")\n",
        "#target_to_parquet(y_test, \"y_test\")"
      ]
    },
    {
      "cell_type": "code",
      "execution_count": 14,
      "id": "sM3b8IP3lcON",
      "metadata": {
        "id": "sM3b8IP3lcON"
      },
      "outputs": [],
      "source": [
        "# ---------------------------- #\n",
        "# LOAD DATA FROM PARQUET FILES #\n",
        "# ---------------------------- #\n",
        "\n",
        "X_train = pd.read_parquet(\".//data/X_train.parquet\")\n",
        "X_valid = pd.read_parquet(\".//data/X_valid.parquet\")\n",
        "X_test = pd.read_parquet(\".//data/X_test.parquet\")\n",
        "y_train = pd.read_parquet(\".//data/y_train.parquet\")\n",
        "y_valid = pd.read_parquet(\".//data/y_valid.parquet\")\n",
        "y_test = pd.read_parquet(\".//data/y_test.parquet\")\n",
        "\n",
        "X_train = X_train.values.reshape(X_train.shape[0], 60, 431, 3)\n",
        "X_valid = X_valid.values.reshape(X_valid.shape[0], 60, 431, 3)\n",
        "X_test = X_test.values.reshape(X_test.shape[0], 60, 431, 3)\n",
        "\n",
        "y_train = y_train.values\n",
        "y_valid = y_valid.values\n",
        "y_test = y_test.values"
      ]
    },
    {
      "cell_type": "code",
      "source": [
        "BATCH_SIZE1 = int(X_train.shape[0]/20)"
      ],
      "metadata": {
        "id": "AJZn7oc0xmEF"
      },
      "id": "AJZn7oc0xmEF",
      "execution_count": 18,
      "outputs": []
    },
    {
      "cell_type": "code",
      "execution_count": 15,
      "id": "LsKnofH5n8P3",
      "metadata": {
        "id": "LsKnofH5n8P3"
      },
      "outputs": [],
      "source": [
        "# Identify and select the TPU\n",
        "try:\n",
        "  tpu = tf.distribute.cluster_resolver.TPUClusterResolver()  # TPU detection\n",
        "  tf.config.experimental_connect_to_cluster(tpu)\n",
        "  tf.tpu.experimental.initialize_tpu_system(tpu)\n",
        "  tpu_strategy = tf.distribute.TPUStrategy(tpu)\n",
        "except:\n",
        "  pass"
      ]
    },
    {
      "cell_type": "code",
      "execution_count": 16,
      "id": "hkQ1bOISnoXp",
      "metadata": {
        "colab": {
          "base_uri": "https://localhost:8080/"
        },
        "id": "hkQ1bOISnoXp",
        "outputId": "08a55278-196e-4c07-c759-38d16a662114"
      },
      "outputs": [
        {
          "output_type": "stream",
          "name": "stdout",
          "text": [
            "Model: \"M0\"\n",
            "_________________________________________________________________\n",
            " Layer (type)                Output Shape              Param #   \n",
            "=================================================================\n",
            " conv2d (Conv2D)             (None, 60, 431, 30)       6510      \n",
            "                                                                 \n",
            " max_pooling2d (MaxPooling2D  (None, 58, 143, 30)      0         \n",
            " )                                                               \n",
            "                                                                 \n",
            " dropout (Dropout)           (None, 58, 143, 30)       0         \n",
            "                                                                 \n",
            " conv2d_1 (Conv2D)           (None, 58, 143, 30)       2730      \n",
            "                                                                 \n",
            " max_pooling2d_1 (MaxPooling  (None, 58, 47, 30)       0         \n",
            " 2D)                                                             \n",
            "                                                                 \n",
            " conv2d_2 (Conv2D)           (None, 58, 47, 10)        910       \n",
            "                                                                 \n",
            " max_pooling2d_2 (MaxPooling  (None, 58, 15, 10)       0         \n",
            " 2D)                                                             \n",
            "                                                                 \n",
            " flatten (Flatten)           (None, 8700)              0         \n",
            "                                                                 \n",
            " dense (Dense)               (None, 500)               4350500   \n",
            "                                                                 \n",
            " dropout_1 (Dropout)         (None, 500)               0         \n",
            "                                                                 \n",
            " dense_1 (Dense)             (None, 50)                25050     \n",
            "                                                                 \n",
            "=================================================================\n",
            "Total params: 4,385,700\n",
            "Trainable params: 4,385,700\n",
            "Non-trainable params: 0\n",
            "_________________________________________________________________\n",
            "None\n"
          ]
        }
      ],
      "source": [
        "with tpu_strategy.scope():\n",
        "  # creating the model in the TPUStrategy\n",
        "  # scope means we will train the model on the TPU\n",
        "  model0 =  keras.models.Sequential([keras.layers.Conv2D(filters = 30, kernel_size = [12, 6],\n",
        "                                                         padding = \"same\", activation = \"relu\",\n",
        "                                                         input_shape = [60, 431, 3]),\n",
        "                                     keras.layers.MaxPool2D(pool_size = (3, 3), strides = (1, 3)),\n",
        "                                     keras.layers.Dropout(rate = .5),\n",
        "                                     keras.layers.Conv2D(filters = 30, kernel_size = (1, 3),\n",
        "                                                         padding = \"same\", activation = \"relu\"),\n",
        "                                     keras.layers.MaxPool2D(pool_size = (1, 3), strides = (1, 3)), # DON'T TOUCH THIS LAYER\n",
        "                                     keras.layers.Conv2D(filters = 10, kernel_size = (1, 3),\n",
        "                                                         padding = \"same\", activation = \"relu\"),\n",
        "                                     keras.layers.MaxPool2D(pool_size = (1, 3), strides = (1, 3)),\n",
        "                                     keras.layers.Flatten(),\n",
        "                                     keras.layers.Dense(500, activation = \"relu\"), # BOOSTS PERFORMANCE\n",
        "                                     keras.layers.Dropout(rate = .5),\n",
        "                                     keras.layers.Dense(50, activation = \"softmax\") ],\n",
        "                                    name = \"M0\")\n",
        "\n",
        "  model0.compile(loss = \"sparse_categorical_crossentropy\", metrics = [\"accuracy\"],\n",
        "                 optimizer = keras.optimizers.Adam(learning_rate = 1e-4))\n",
        "\n",
        "print(model0.summary())"
      ]
    },
    {
      "cell_type": "code",
      "execution_count": 19,
      "id": "C0LCs4eXnrYC",
      "metadata": {
        "colab": {
          "base_uri": "https://localhost:8080/",
          "height": 423
        },
        "id": "C0LCs4eXnrYC",
        "outputId": "992ef893-72a1-4954-f7ea-47bb4ca8b405"
      },
      "outputs": [
        {
          "output_type": "stream",
          "name": "stdout",
          "text": [
            "\n",
            "47/47 - 6s - loss: 1.3801 - accuracy: 0.7020 - 6s/epoch - 122ms/step\n",
            "=======================================================================\n",
            "Accuracy on test: 70.20%\n",
            "Memory used: 1192.2 Mb\n"
          ]
        },
        {
          "output_type": "display_data",
          "data": {
            "text/plain": [
              "<Figure size 1152x360 with 2 Axes>"
            ],
            "image/png": "[encoded data removed]"
          },
          "metadata": {
            "needs_background": "light"
          }
        }
      ],
      "source": [
        "history0 = model0.fit(X_train, y_train, epochs = 200, batch_size = BATCH_SIZE1,\n",
        "                      validation_data = (X_valid, y_valid), verbose = 0,\n",
        "                      callbacks = [keras.callbacks.EarlyStopping(patience = 10)])\n",
        "\n",
        "fig0, ax0 = plt.subplots(1, 2, figsize = (16, 5))\n",
        "evaluation.plot_loss(history0, ax0[0])\n",
        "evaluation.plot_accuracy(history0, ax0[1])\n",
        "\n",
        "print()\n",
        "scores0 = model0.evaluate(X_test, y_test, verbose = 2)\n",
        "print(\"=\"*71)\n",
        "print(\"Accuracy on test: {:.2f}%\".format(scores0[1]*100))\n",
        "print(\"Memory used: {:.1f} Mb\".format(\n",
        "        evaluation.keras_model_memory_usage_in_bytes(model = model0,\n",
        "                                                     batch_size = BATCH_SIZE1)/1e6))"
      ]
    },
    {
      "cell_type": "markdown",
      "id": "xuSzNkPA-_jU",
      "metadata": {
        "id": "xuSzNkPA-_jU"
      },
      "source": [
        "---\n",
        "---\n",
        "---"
      ]
    }
  ],
  "metadata": {
    "accelerator": "TPU",
    "colab": {
      "machine_shape": "hm",
      "provenance": []
    },
    "gpuClass": "standard",
    "kernelspec": {
      "display_name": "Python 3 (ipykernel)",
      "language": "python",
      "name": "python3"
    },
    "language_info": {
      "codemirror_mode": {
        "name": "ipython",
        "version": 3
      },
      "file_extension": ".py",
      "mimetype": "text/x-python",
      "name": "python",
      "nbconvert_exporter": "python",
      "pygments_lexer": "ipython3",
      "version": "3.9.12"
    }
  },
  "nbformat": 4,
  "nbformat_minor": 5
}