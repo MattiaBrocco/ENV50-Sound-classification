{
 "cells": [
  {
   "cell_type": "markdown",
   "id": "744bfa6e",
   "metadata": {
    "id": "744bfa6e"
   },
   "source": [
    "# CNN for audio classification\n",
    "\n",
    "##### SOURCES\n",
    "[1] [CNN for audio (MEDIUM)](https://towardsdatascience.com/cnns-for-audio-classification-6244954665ab)  \n",
    "[2] [Types of DCT](https://docs.scipy.org/doc/scipy/reference/generated/scipy.fftpack.dct.html#scipy.fftpack.dct)\n",
    "\n",
    "Default sampling rate of `librosa` is 22050, while for `scipy` is 44100. This implies that we have half of the length of the sequence with the former library (110250 against 220500).  "
   ]
  },
  {
   "cell_type": "code",
   "execution_count": 1,
   "id": "cqWaiUYsRCJ9",
   "metadata": {
    "colab": {
     "base_uri": "https://localhost:8080/"
    },
    "id": "cqWaiUYsRCJ9",
    "outputId": "44550cee-be5a-4409-efa2-87af50b8790f"
   },
   "outputs": [
    {
     "name": "stdout",
     "output_type": "stream",
     "text": [
      "Drive already mounted at /content/drive; to attempt to forcibly remount, call drive.mount(\"/content/drive\", force_remount=True).\n",
      "/content/drive/MyDrive/Environmental-sounds-UNIPD-2022\n"
     ]
    }
   ],
   "source": [
    "from google.colab import drive\n",
    "drive.mount(\"/content/drive\")\n",
    "\n",
    "%cd /content/drive/MyDrive/Environmental-sounds-UNIPD-2022"
   ]
  },
  {
   "cell_type": "code",
   "execution_count": 2,
   "id": "592da296",
   "metadata": {
    "ExecuteTime": {
     "end_time": "2023-01-02T15:26:41.488268Z",
     "start_time": "2023-01-02T15:26:24.186181Z"
    },
    "id": "592da296"
   },
   "outputs": [],
   "source": [
    "import os\n",
    "import sys\n",
    "import torch\n",
    "import librosa\n",
    "import numpy as np\n",
    "import pandas as pd\n",
    "import seaborn as sns\n",
    "import tensorflow as tf\n",
    "from scipy.io import wavfile\n",
    "from tensorflow import keras\n",
    "import matplotlib.pyplot as plt\n",
    "\n",
    "import evaluation\n",
    "import CNN_support as cnns\n",
    "\n",
    "%load_ext autoreload\n",
    "%autoreload 2"
   ]
  },
  {
   "cell_type": "code",
   "execution_count": 3,
   "id": "a115cec6",
   "metadata": {
    "ExecuteTime": {
     "end_time": "2023-01-02T15:26:41.828237Z",
     "start_time": "2023-01-02T15:26:41.491121Z"
    },
    "colab": {
     "base_uri": "https://localhost:8080/",
     "height": 206
    },
    "id": "a115cec6",
    "outputId": "79a71d56-fc67-4099-db5a-30627d0162c9"
   },
   "outputs": [
    {
     "data": {
      "text/html": [
       "\n",
       "  <div id=\"df-cb223757-3fd2-4b33-9237-469b6928b596\">\n",
       "    <div class=\"colab-df-container\">\n",
       "      <div>\n",
       "<style scoped>\n",
       "    .dataframe tbody tr th:only-of-type {\n",
       "        vertical-align: middle;\n",
       "    }\n",
       "\n",
       "    .dataframe tbody tr th {\n",
       "        vertical-align: top;\n",
       "    }\n",
       "\n",
       "    .dataframe thead th {\n",
       "        text-align: right;\n",
       "    }\n",
       "</style>\n",
       "<table border=\"1\" class=\"dataframe\">\n",
       "  <thead>\n",
       "    <tr style=\"text-align: right;\">\n",
       "      <th></th>\n",
       "      <th>filename</th>\n",
       "      <th>fold</th>\n",
       "      <th>target</th>\n",
       "      <th>category</th>\n",
       "      <th>esc10</th>\n",
       "      <th>src_file</th>\n",
       "      <th>take</th>\n",
       "    </tr>\n",
       "  </thead>\n",
       "  <tbody>\n",
       "    <tr>\n",
       "      <th>0</th>\n",
       "      <td>1-100032-A-0.wav</td>\n",
       "      <td>1</td>\n",
       "      <td>0</td>\n",
       "      <td>dog</td>\n",
       "      <td>True</td>\n",
       "      <td>100032</td>\n",
       "      <td>A</td>\n",
       "    </tr>\n",
       "    <tr>\n",
       "      <th>1</th>\n",
       "      <td>1-100038-A-14.wav</td>\n",
       "      <td>1</td>\n",
       "      <td>14</td>\n",
       "      <td>chirping_birds</td>\n",
       "      <td>False</td>\n",
       "      <td>100038</td>\n",
       "      <td>A</td>\n",
       "    </tr>\n",
       "    <tr>\n",
       "      <th>2</th>\n",
       "      <td>1-100210-A-36.wav</td>\n",
       "      <td>1</td>\n",
       "      <td>36</td>\n",
       "      <td>vacuum_cleaner</td>\n",
       "      <td>False</td>\n",
       "      <td>100210</td>\n",
       "      <td>A</td>\n",
       "    </tr>\n",
       "    <tr>\n",
       "      <th>3</th>\n",
       "      <td>1-100210-B-36.wav</td>\n",
       "      <td>1</td>\n",
       "      <td>36</td>\n",
       "      <td>vacuum_cleaner</td>\n",
       "      <td>False</td>\n",
       "      <td>100210</td>\n",
       "      <td>B</td>\n",
       "    </tr>\n",
       "    <tr>\n",
       "      <th>4</th>\n",
       "      <td>1-101296-A-19.wav</td>\n",
       "      <td>1</td>\n",
       "      <td>19</td>\n",
       "      <td>thunderstorm</td>\n",
       "      <td>False</td>\n",
       "      <td>101296</td>\n",
       "      <td>A</td>\n",
       "    </tr>\n",
       "  </tbody>\n",
       "</table>\n",
       "</div>\n",
       "      <button class=\"colab-df-convert\" onclick=\"convertToInteractive('df-cb223757-3fd2-4b33-9237-469b6928b596')\"\n",
       "              title=\"Convert this dataframe to an interactive table.\"\n",
       "              style=\"display:none;\">\n",
       "        \n",
       "  <svg xmlns=\"http://www.w3.org/2000/svg\" height=\"24px\"viewBox=\"0 0 24 24\"\n",
       "       width=\"24px\">\n",
       "    <path d=\"M0 0h24v24H0V0z\" fill=\"none\"/>\n",
       "    <path d=\"M18.56 5.44l.94 2.06.94-2.06 2.06-.94-2.06-.94-.94-2.06-.94 2.06-2.06.94zm-11 1L8.5 8.5l.94-2.06 2.06-.94-2.06-.94L8.5 2.5l-.94 2.06-2.06.94zm10 10l.94 2.06.94-2.06 2.06-.94-2.06-.94-.94-2.06-.94 2.06-2.06.94z\"/><path d=\"M17.41 7.96l-1.37-1.37c-.4-.4-.92-.59-1.43-.59-.52 0-1.04.2-1.43.59L10.3 9.45l-7.72 7.72c-.78.78-.78 2.05 0 2.83L4 21.41c.39.39.9.59 1.41.59.51 0 1.02-.2 1.41-.59l7.78-7.78 2.81-2.81c.8-.78.8-2.07 0-2.86zM5.41 20L4 18.59l7.72-7.72 1.47 1.35L5.41 20z\"/>\n",
       "  </svg>\n",
       "      </button>\n",
       "      \n",
       "  <style>\n",
       "    .colab-df-container {\n",
       "      display:flex;\n",
       "      flex-wrap:wrap;\n",
       "      gap: 12px;\n",
       "    }\n",
       "\n",
       "    .colab-df-convert {\n",
       "      background-color: #E8F0FE;\n",
       "      border: none;\n",
       "      border-radius: 50%;\n",
       "      cursor: pointer;\n",
       "      display: none;\n",
       "      fill: #1967D2;\n",
       "      height: 32px;\n",
       "      padding: 0 0 0 0;\n",
       "      width: 32px;\n",
       "    }\n",
       "\n",
       "    .colab-df-convert:hover {\n",
       "      background-color: #E2EBFA;\n",
       "      box-shadow: 0px 1px 2px rgba(60, 64, 67, 0.3), 0px 1px 3px 1px rgba(60, 64, 67, 0.15);\n",
       "      fill: #174EA6;\n",
       "    }\n",
       "\n",
       "    [theme=dark] .colab-df-convert {\n",
       "      background-color: #3B4455;\n",
       "      fill: #D2E3FC;\n",
       "    }\n",
       "\n",
       "    [theme=dark] .colab-df-convert:hover {\n",
       "      background-color: #434B5C;\n",
       "      box-shadow: 0px 1px 3px 1px rgba(0, 0, 0, 0.15);\n",
       "      filter: drop-shadow(0px 1px 2px rgba(0, 0, 0, 0.3));\n",
       "      fill: #FFFFFF;\n",
       "    }\n",
       "  </style>\n",
       "\n",
       "      <script>\n",
       "        const buttonEl =\n",
       "          document.querySelector('#df-cb223757-3fd2-4b33-9237-469b6928b596 button.colab-df-convert');\n",
       "        buttonEl.style.display =\n",
       "          google.colab.kernel.accessAllowed ? 'block' : 'none';\n",
       "\n",
       "        async function convertToInteractive(key) {\n",
       "          const element = document.querySelector('#df-cb223757-3fd2-4b33-9237-469b6928b596');\n",
       "          const dataTable =\n",
       "            await google.colab.kernel.invokeFunction('convertToInteractive',\n",
       "                                                     [key], {});\n",
       "          if (!dataTable) return;\n",
       "\n",
       "          const docLinkHtml = 'Like what you see? Visit the ' +\n",
       "            '<a target=\"_blank\" href=https://colab.research.google.com/notebooks/data_table.ipynb>data table notebook</a>'\n",
       "            + ' to learn more about interactive tables.';\n",
       "          element.innerHTML = '';\n",
       "          dataTable['output_type'] = 'display_data';\n",
       "          await google.colab.output.renderOutput(dataTable, element);\n",
       "          const docLink = document.createElement('div');\n",
       "          docLink.innerHTML = docLinkHtml;\n",
       "          element.appendChild(docLink);\n",
       "        }\n",
       "      </script>\n",
       "    </div>\n",
       "  </div>\n",
       "  "
      ],
      "text/plain": [
       "            filename  fold  target        category  esc10  src_file take\n",
       "0   1-100032-A-0.wav     1       0             dog   True    100032    A\n",
       "1  1-100038-A-14.wav     1      14  chirping_birds  False    100038    A\n",
       "2  1-100210-A-36.wav     1      36  vacuum_cleaner  False    100210    A\n",
       "3  1-100210-B-36.wav     1      36  vacuum_cleaner  False    100210    B\n",
       "4  1-101296-A-19.wav     1      19    thunderstorm  False    101296    A"
      ]
     },
     "execution_count": 3,
     "metadata": {},
     "output_type": "execute_result"
    }
   ],
   "source": [
    "data = pd.read_csv('./data/meta/esc50.csv')\n",
    "data.head()"
   ]
  },
  {
   "cell_type": "code",
   "execution_count": 4,
   "id": "a22c6cfd",
   "metadata": {
    "ExecuteTime": {
     "end_time": "2023-01-02T07:46:48.674321Z",
     "start_time": "2023-01-02T07:42:17.451571Z"
    },
    "id": "a22c6cfd",
    "scrolled": true
   },
   "outputs": [],
   "source": [
    "#pppp = cnns.SoundPreprocessing(n_fft = 1000, n_mfcc = 10, sr = 441000, max_size = (200, 1000))\n",
    "\n",
    "#W, Z = pppp.get_features(df = data, filepath = \".\\\\data\\\\audio\")"
   ]
  },
  {
   "cell_type": "code",
   "execution_count": 5,
   "id": "042d3fd3",
   "metadata": {
    "ExecuteTime": {
     "end_time": "2023-01-02T10:44:50.311038Z",
     "start_time": "2023-01-02T10:44:50.054512Z"
    },
    "id": "042d3fd3"
   },
   "outputs": [],
   "source": [
    "#s, a = wavfile.read(\".\\\\data\\\\audio\\\\{}\".format(data.loc[10, \"filename\"]))\n",
    "#a = a.astype(np.float32)"
   ]
  },
  {
   "cell_type": "code",
   "execution_count": 6,
   "id": "cf5b6263",
   "metadata": {
    "ExecuteTime": {
     "end_time": "2023-01-02T10:42:52.301816Z",
     "start_time": "2023-01-02T10:42:51.935812Z"
    },
    "id": "cf5b6263"
   },
   "outputs": [],
   "source": [
    "#mfcc_try = librosa.feature.mfcc(y = a, sr = s, hop_length = 512, n_mfcc = 60)\n",
    "#mfcc_try = np.divide(mfcc_try, np.linalg.norm(mfcc_try))\n",
    "#chromogram_try = librosa.feature.chroma_stft(y = a, sr = s, hop_length = 512,\n",
    "#                                             win_length = 1024, n_chroma = 60)"
   ]
  },
  {
   "cell_type": "markdown",
   "id": "4e49ca36",
   "metadata": {
    "id": "4e49ca36"
   },
   "source": [
    "## Preprocessing"
   ]
  },
  {
   "cell_type": "code",
   "execution_count": 4,
   "id": "233ad077",
   "metadata": {
    "ExecuteTime": {
     "end_time": "2023-01-02T11:29:27.578760Z",
     "start_time": "2023-01-02T11:26:34.063345Z"
    },
    "colab": {
     "base_uri": "https://localhost:8080/"
    },
    "id": "233ad077",
    "outputId": "9e5d364c-142a-4d51-d8b8-2ac262148c5a"
   },
   "outputs": [
    {
     "name": "stderr",
     "output_type": "stream",
     "text": [
      "/usr/local/lib/python3.8/dist-packages/librosa/core/pitch.py:153: UserWarning: Trying to estimate tuning from empty frequency set.\n",
      "  warnings.warn(\"Trying to estimate tuning from empty frequency set.\")\n"
     ]
    }
   ],
   "source": [
    "# Get data for CNN\n",
    "X = []\n",
    "y = np.zeros(shape = (len(data), 1))\n",
    "\n",
    "for i in data.index:\n",
    "    \n",
    "    sr, aud = wavfile.read(\"./data/audio/{}\".format(data.loc[i, \"filename\"]))\n",
    "    aud = aud.astype(np.float32)\n",
    "    \n",
    "    MFCC = librosa.feature.mfcc(y = aud, sr = sr, hop_length = 512, n_mfcc = 60)\n",
    "    chromagram = librosa.feature.chroma_stft(y = aud, sr = sr, hop_length = 512,\n",
    "                                             win_length = 1024, n_chroma = 60)\n",
    "    delta = librosa.feature.delta(MFCC)\n",
    "    \n",
    "    instance = np.dstack((MFCC, chromagram, delta))\n",
    "    \n",
    "    X += [instance]\n",
    "    \n",
    "    y[i] = data.loc[i, \"target\"]\n",
    "    \n",
    "X = np.array(X)"
   ]
  },
  {
   "cell_type": "code",
   "execution_count": 6,
   "id": "75ec06f1",
   "metadata": {
    "ExecuteTime": {
     "end_time": "2023-01-02T11:46:12.105657Z",
     "start_time": "2023-01-02T11:29:27.581732Z"
    },
    "id": "75ec06f1"
   },
   "outputs": [],
   "source": [
    "# Data Augmentation\n",
    "# SOURCE: https://medium.com/@makcedward/data-augmentation-for-audio-76912b01fdf6\n",
    "\n",
    "np.random.seed(42)\n",
    "indexed_samples = np.random.choice(X.shape[0], size = 4000,\n",
    "                                   replace = True)\n",
    "np.random.seed(101)\n",
    "randn_seeds = np.random.choice(5000, size = 4000,\n",
    "                               replace = False)\n",
    "\n",
    "new_X = []\n",
    "new_y = np.zeros(shape = (len(indexed_samples), 1))\n",
    "for n, i in enumerate(indexed_samples):\n",
    "    \n",
    "    sr_sample, sample = wavfile.read(\"./data/audio/{}\".format(data.loc[i, \"filename\"]))\n",
    "    sample = sample.astype(np.float32)\n",
    "    \n",
    "    if n%5 == 0:\n",
    "        # NOISE INJECTION\n",
    "        np.random.seed(randn_seeds[n])\n",
    "        noise = np.random.randn(len( sample ))\n",
    "        augmented_data = (sample + noise).astype(np.float32)\n",
    "        \n",
    "    elif n%5 == 1:\n",
    "        # TIME SHIFT: right shift\n",
    "        np.random.seed(randn_seeds[n])\n",
    "        shift = -1*np.random.randint(sr_sample * 0.2) # 0.2 length of sequence max\n",
    "        augmented_data = np.roll(sample, shift)\n",
    "        # Set to silence for heading/ tailing\n",
    "        augmented_data[shift:] = 0\n",
    "        \n",
    "    elif n%5 == 2:\n",
    "        # PITCH SHIFT: shift down by 3\n",
    "        augmented_data = librosa.effects.pitch_shift(y = sample, sr = sr_sample,\n",
    "                                                     n_steps = 3)\n",
    "    elif n%5 == 3:\n",
    "        # SPEED SHIFT: faster\n",
    "        augmented_data = librosa.effects.time_stretch(y = sample, rate = 1.2)\n",
    "        augmented_data = np.append(augmented_data,\n",
    "                                   np.zeros(shape = len(sample) - len(augmented_data)))\n",
    "    else:\n",
    "        # SPEED SHIFT: slower (returns longer array)\n",
    "        augmented_data = librosa.effects.time_stretch(y = sample, rate = 0.8)\n",
    "        augmented_data = augmented_data[:len(sample)]\n",
    "    \n",
    "    \n",
    "    new_MFCC = librosa.feature.mfcc(y = augmented_data, sr = sr_sample,\n",
    "                                    hop_length = 512, n_mfcc = 60)\n",
    "    new_chromagram = librosa.feature.chroma_stft(y = augmented_data, sr = sr_sample,\n",
    "                                                 hop_length = 512, win_length = 1024,\n",
    "                                                 n_chroma = 60)\n",
    "    new_delta = librosa.feature.delta(new_MFCC)\n",
    "    \n",
    "    new_instance = np.dstack((new_MFCC, new_chromagram, new_delta))\n",
    "    \n",
    "    new_X += [new_instance]\n",
    "    new_y[n] = y[i]\n",
    "    \n",
    "new_X = np.array(new_X)"
   ]
  },
  {
   "cell_type": "code",
   "execution_count": 7,
   "id": "af319c07",
   "metadata": {
    "ExecuteTime": {
     "end_time": "2023-01-02T11:46:39.671549Z",
     "start_time": "2023-01-02T11:46:12.121578Z"
    },
    "id": "af319c07"
   },
   "outputs": [],
   "source": [
    "# Get stuff together\n",
    "X = np.vstack((X, new_X))\n",
    "y = np.vstack((y, new_y))"
   ]
  },
  {
   "cell_type": "code",
   "execution_count": 8,
   "id": "01736996",
   "metadata": {
    "ExecuteTime": {
     "end_time": "2023-01-02T12:37:42.197050Z",
     "start_time": "2023-01-02T12:37:41.207696Z"
    },
    "colab": {
     "base_uri": "https://localhost:8080/"
    },
    "id": "01736996",
    "outputId": "a6d90f46-a5bb-43a0-980e-7b9eccf79ba3"
   },
   "outputs": [
    {
     "data": {
      "text/plain": [
       "((6000, 60, 431, 3), (6000, 1))"
      ]
     },
     "execution_count": 8,
     "metadata": {},
     "output_type": "execute_result"
    }
   ],
   "source": [
    "X.shape, y.shape"
   ]
  },
  {
   "cell_type": "code",
   "execution_count": 9,
   "id": "dd7af0f4",
   "metadata": {
    "ExecuteTime": {
     "end_time": "2023-01-02T13:49:03.570049Z",
     "start_time": "2023-01-02T13:47:26.093972Z"
    },
    "colab": {
     "base_uri": "https://localhost:8080/"
    },
    "id": "dd7af0f4",
    "outputId": "be1b5a8d-7baf-437a-a69f-5a77a87cd1bf"
   },
   "outputs": [
    {
     "name": "stdout",
     "output_type": "stream",
     "text": [
      "Training examples: 3600\n",
      "Validation examples: 900\n",
      "Test examples: 1500\n",
      "\n",
      "Input shape: (60, 431, 3)\n"
     ]
    }
   ],
   "source": [
    "from sklearn.model_selection import train_test_split\n",
    "\n",
    "X_train, X_test, y_train, y_test = train_test_split(X, y, train_size = .75, random_state = 42)\n",
    "X_train, X_valid, y_train, y_valid = train_test_split(X_train, y_train, train_size = .8, random_state = 42)\n",
    "\n",
    "print(\"Training examples: {}\".format(y_train.shape[0]))\n",
    "print(\"Validation examples: {}\".format(y_valid.shape[0]))\n",
    "print(\"Test examples: {}\".format(y_test.shape[0]))\n",
    "print()\n",
    "print(\"Input shape: {}\".format(X_train[0].shape))"
   ]
  },
  {
   "cell_type": "markdown",
   "id": "976f9358",
   "metadata": {
    "id": "976f9358"
   },
   "source": [
    "## Algo tries"
   ]
  },
  {
   "cell_type": "code",
   "execution_count": 32,
   "id": "TauINd7XeO35",
   "metadata": {
    "id": "TauINd7XeO35"
   },
   "outputs": [],
   "source": [
    "BATCH_SIZE1 = int(X_train.shape[0]/20)"
   ]
  },
  {
   "cell_type": "code",
   "execution_count": 10,
   "id": "VomPND-8jyHm",
   "metadata": {
    "id": "VomPND-8jyHm"
   },
   "outputs": [],
   "source": [
    "#def array4D_to_parquet(arr, name):\n",
    "#  arr2 = pd.DataFrame(arr.reshape(arr.shape[0], -1))\n",
    "#  arr2.columns = [str(c) for c in arr2.columns]\n",
    "#  arr2.to_parquet(os.getcwd() + f\"/data/{name}.parquet\")\n",
    "\n",
    "#def target_to_parquet(arr, name):\n",
    "#  arr2 = pd.DataFrame(arr)\n",
    "#  arr2.columns = [str(c) for c in arr2.columns]\n",
    "#  arr2.to_parquet(os.getcwd() + f\"/data/{name}.parquet\")"
   ]
  },
  {
   "cell_type": "code",
   "execution_count": 14,
   "id": "sM3b8IP3lcON",
   "metadata": {
    "id": "sM3b8IP3lcON"
   },
   "outputs": [],
   "source": [
    "# ---------------------------- #\n",
    "# LOAD DATA FROM PARQUET FILES #\n",
    "# ---------------------------- #\n",
    "\n",
    "X_train = pd.read_parquet(\".//data/X_train.parquet\")\n",
    "X_valid = pd.read_parquet(\".//data/X_valid.parquet\")\n",
    "X_test = pd.read_parquet(\".//data/X_test.parquet\")\n",
    "y_train = pd.read_parquet(\".//data/y_train.parquet\")\n",
    "y_valid = pd.read_parquet(\".//data/y_valid.parquet\")\n",
    "y_test = pd.read_parquet(\".//data/y_test.parquet\")\n",
    "\n",
    "X_train = X_train.values.reshape(X_train.shape[0], 60, 431, 3)\n",
    "X_valid = X_valid.values.reshape(X_valid.shape[0], 60, 431, 3)\n",
    "X_test = X_test.values.reshape(X_test.shape[0], 60, 431, 3)\n",
    "\n",
    "y_train = y_train.values\n",
    "y_valid = y_valid.values\n",
    "y_test = y_test.values"
   ]
  },
  {
   "cell_type": "code",
   "execution_count": 15,
   "id": "LsKnofH5n8P3",
   "metadata": {
    "id": "LsKnofH5n8P3"
   },
   "outputs": [],
   "source": [
    "try:\n",
    "  tpu = tf.distribute.cluster_resolver.TPUClusterResolver()  # TPU detection\n",
    "  tf.config.experimental_connect_to_cluster(tpu)\n",
    "  tf.tpu.experimental.initialize_tpu_system(tpu)\n",
    "  tpu_strategy = tf.distribute.TPUStrategy(tpu)\n",
    "except:\n",
    "  pass"
   ]
  },
  {
   "cell_type": "code",
   "execution_count": 43,
   "id": "hkQ1bOISnoXp",
   "metadata": {
    "colab": {
     "base_uri": "https://localhost:8080/"
    },
    "id": "hkQ1bOISnoXp",
    "outputId": "998e992a-5d0b-4e5d-b574-45a942f37e4c"
   },
   "outputs": [
    {
     "name": "stdout",
     "output_type": "stream",
     "text": [
      "Model: \"M0\"\n",
      "_________________________________________________________________\n",
      " Layer (type)                Output Shape              Param #   \n",
      "=================================================================\n",
      " conv2d_24 (Conv2D)          (None, 60, 431, 30)       30810     \n",
      "                                                                 \n",
      " max_pooling2d_24 (MaxPoolin  (None, 57, 143, 30)      0         \n",
      " g2D)                                                            \n",
      "                                                                 \n",
      " dropout_19 (Dropout)        (None, 57, 143, 30)       0         \n",
      "                                                                 \n",
      " conv2d_25 (Conv2D)          (None, 57, 143, 20)       1820      \n",
      "                                                                 \n",
      " max_pooling2d_25 (MaxPoolin  (None, 57, 47, 20)       0         \n",
      " g2D)                                                            \n",
      "                                                                 \n",
      " flatten_12 (Flatten)        (None, 53580)             0         \n",
      "                                                                 \n",
      " dropout_20 (Dropout)        (None, 53580)             0         \n",
      "                                                                 \n",
      " dense_13 (Dense)            (None, 50)                2679050   \n",
      "                                                                 \n",
      "=================================================================\n",
      "Total params: 2,711,680\n",
      "Trainable params: 2,711,680\n",
      "Non-trainable params: 0\n",
      "_________________________________________________________________\n",
      "None\n"
     ]
    }
   ],
   "source": [
    "with tpu_strategy.scope():\n",
    "  # creating the model in the TPUStrategy\n",
    "  # scope means we will train the model on the TPU\n",
    "  model0 =  keras.models.Sequential([keras.layers.Conv2D(filters = 30, kernel_size = [57, 6],\n",
    "                                                         padding = \"same\", activation = \"relu\",\n",
    "                                                         input_shape = [60, 431, 3]),\n",
    "                                     keras.layers.MaxPool2D(pool_size = (4, 4), strides = (1, 3)),\n",
    "                                     keras.layers.Dropout(rate = .5),\n",
    "                                     keras.layers.Conv2D(filters = 20, kernel_size = (1, 3),\n",
    "                                                         padding = \"same\", activation = \"relu\"),\n",
    "                                     keras.layers.MaxPool2D(pool_size = (1, 3), strides = (1, 3)),\n",
    "                                     keras.layers.Flatten(),\n",
    "                                     #keras.layers.Dense(100, activation = \"relu\"),\n",
    "                                     keras.layers.Dropout(rate = .5),\n",
    "                                     keras.layers.Dense(50, activation = \"softmax\") ],\n",
    "                                    name = \"M0\")\n",
    "\n",
    "  model0.compile(loss = \"sparse_categorical_crossentropy\", metrics = [\"accuracy\"],\n",
    "                 optimizer = keras.optimizers.Adam(learning_rate = 1e-4))\n",
    "\n",
    "print(model0.summary())"
   ]
  },
  {
   "cell_type": "code",
   "execution_count": 44,
   "id": "C0LCs4eXnrYC",
   "metadata": {
    "colab": {
     "base_uri": "https://localhost:8080/",
     "height": 1000
    },
    "id": "C0LCs4eXnrYC",
    "outputId": "105721a0-ddba-44cd-cb55-b8888d029fc8"
   },
   "outputs": [
    {
     "name": "stdout",
     "output_type": "stream",
     "text": [
      "Epoch 1/100\n",
      "20/20 [==============================] - 156s 3s/step - loss: 109.4510 - accuracy: 0.0233 - val_loss: 16.9636 - val_accuracy: 0.0411\n",
      "Epoch 2/100\n",
      "20/20 [==============================] - 2s 120ms/step - loss: 64.9134 - accuracy: 0.0319 - val_loss: 10.0655 - val_accuracy: 0.0511\n",
      "Epoch 3/100\n",
      "20/20 [==============================] - 2s 118ms/step - loss: 42.9907 - accuracy: 0.0489 - val_loss: 6.2614 - val_accuracy: 0.0756\n",
      "Epoch 4/100\n",
      "20/20 [==============================] - 3s 154ms/step - loss: 28.1555 - accuracy: 0.0697 - val_loss: 5.4227 - val_accuracy: 0.0989\n",
      "Epoch 5/100\n",
      "20/20 [==============================] - 2s 120ms/step - loss: 19.2974 - accuracy: 0.0867 - val_loss: 4.8671 - val_accuracy: 0.0844\n",
      "Epoch 6/100\n",
      "20/20 [==============================] - 2s 120ms/step - loss: 13.3464 - accuracy: 0.1206 - val_loss: 4.0355 - val_accuracy: 0.1033\n",
      "Epoch 7/100\n",
      "20/20 [==============================] - 2s 121ms/step - loss: 9.4313 - accuracy: 0.1656 - val_loss: 3.4336 - val_accuracy: 0.1578\n",
      "Epoch 8/100\n",
      "20/20 [==============================] - 2s 120ms/step - loss: 7.0343 - accuracy: 0.2008 - val_loss: 3.0458 - val_accuracy: 0.2022\n",
      "Epoch 9/100\n",
      "20/20 [==============================] - 2s 121ms/step - loss: 5.4258 - accuracy: 0.2347 - val_loss: 2.8439 - val_accuracy: 0.2311\n",
      "Epoch 10/100\n",
      "20/20 [==============================] - 2s 121ms/step - loss: 4.4240 - accuracy: 0.2567 - val_loss: 2.7427 - val_accuracy: 0.2678\n",
      "Epoch 11/100\n",
      "20/20 [==============================] - 2s 121ms/step - loss: 3.8593 - accuracy: 0.2833 - val_loss: 2.6219 - val_accuracy: 0.2911\n",
      "Epoch 12/100\n",
      "20/20 [==============================] - 2s 121ms/step - loss: 3.3799 - accuracy: 0.3217 - val_loss: 2.5369 - val_accuracy: 0.3267\n",
      "Epoch 13/100\n",
      "20/20 [==============================] - 2s 120ms/step - loss: 3.1275 - accuracy: 0.3297 - val_loss: 2.4789 - val_accuracy: 0.3289\n",
      "Epoch 14/100\n",
      "20/20 [==============================] - 2s 122ms/step - loss: 2.8310 - accuracy: 0.3600 - val_loss: 2.4327 - val_accuracy: 0.3522\n",
      "Epoch 15/100\n",
      "20/20 [==============================] - 2s 120ms/step - loss: 2.6014 - accuracy: 0.3933 - val_loss: 2.3569 - val_accuracy: 0.3733\n",
      "Epoch 16/100\n",
      "20/20 [==============================] - 2s 121ms/step - loss: 2.4499 - accuracy: 0.4131 - val_loss: 2.3028 - val_accuracy: 0.4000\n",
      "Epoch 17/100\n",
      "20/20 [==============================] - 2s 120ms/step - loss: 2.3278 - accuracy: 0.4239 - val_loss: 2.2495 - val_accuracy: 0.3978\n",
      "Epoch 18/100\n",
      "20/20 [==============================] - 2s 120ms/step - loss: 2.2061 - accuracy: 0.4508 - val_loss: 2.2378 - val_accuracy: 0.4100\n",
      "Epoch 19/100\n",
      "20/20 [==============================] - 2s 119ms/step - loss: 2.0887 - accuracy: 0.4786 - val_loss: 2.1273 - val_accuracy: 0.4444\n",
      "Epoch 20/100\n",
      "20/20 [==============================] - 2s 119ms/step - loss: 1.9696 - accuracy: 0.4953 - val_loss: 2.0928 - val_accuracy: 0.4467\n",
      "Epoch 21/100\n",
      "20/20 [==============================] - 2s 120ms/step - loss: 1.8299 - accuracy: 0.5156 - val_loss: 2.0394 - val_accuracy: 0.4856\n",
      "Epoch 22/100\n",
      "20/20 [==============================] - 2s 121ms/step - loss: 1.7371 - accuracy: 0.5436 - val_loss: 1.9800 - val_accuracy: 0.4944\n",
      "Epoch 23/100\n",
      "20/20 [==============================] - 2s 120ms/step - loss: 1.6348 - accuracy: 0.5611 - val_loss: 1.9195 - val_accuracy: 0.5122\n",
      "Epoch 24/100\n",
      "20/20 [==============================] - 2s 120ms/step - loss: 1.6151 - accuracy: 0.5683 - val_loss: 1.8897 - val_accuracy: 0.5233\n",
      "Epoch 25/100\n",
      "20/20 [==============================] - 2s 120ms/step - loss: 1.4870 - accuracy: 0.5944 - val_loss: 1.8489 - val_accuracy: 0.5344\n",
      "Epoch 26/100\n",
      "20/20 [==============================] - 2s 120ms/step - loss: 1.4293 - accuracy: 0.6061 - val_loss: 1.7648 - val_accuracy: 0.5622\n",
      "Epoch 27/100\n",
      "20/20 [==============================] - 2s 120ms/step - loss: 1.3380 - accuracy: 0.6217 - val_loss: 1.7454 - val_accuracy: 0.5667\n",
      "Epoch 28/100\n",
      "20/20 [==============================] - 2s 120ms/step - loss: 1.2492 - accuracy: 0.6539 - val_loss: 1.6962 - val_accuracy: 0.5744\n",
      "Epoch 29/100\n",
      "20/20 [==============================] - 2s 121ms/step - loss: 1.2255 - accuracy: 0.6483 - val_loss: 1.6260 - val_accuracy: 0.6022\n",
      "Epoch 30/100\n",
      "20/20 [==============================] - 2s 120ms/step - loss: 1.1300 - accuracy: 0.6869 - val_loss: 1.6493 - val_accuracy: 0.5944\n",
      "Epoch 31/100\n",
      "20/20 [==============================] - 2s 120ms/step - loss: 1.0759 - accuracy: 0.7028 - val_loss: 1.5692 - val_accuracy: 0.6067\n",
      "Epoch 32/100\n",
      "20/20 [==============================] - 2s 122ms/step - loss: 1.0229 - accuracy: 0.7108 - val_loss: 1.5003 - val_accuracy: 0.6278\n",
      "Epoch 33/100\n",
      "20/20 [==============================] - 2s 121ms/step - loss: 0.9911 - accuracy: 0.7178 - val_loss: 1.4939 - val_accuracy: 0.6389\n",
      "Epoch 34/100\n",
      "20/20 [==============================] - 2s 121ms/step - loss: 0.9129 - accuracy: 0.7375 - val_loss: 1.4892 - val_accuracy: 0.6344\n",
      "Epoch 35/100\n",
      "20/20 [==============================] - 2s 119ms/step - loss: 0.8748 - accuracy: 0.7486 - val_loss: 1.4306 - val_accuracy: 0.6489\n",
      "Epoch 36/100\n",
      "20/20 [==============================] - 2s 119ms/step - loss: 0.8345 - accuracy: 0.7631 - val_loss: 1.3819 - val_accuracy: 0.6611\n",
      "Epoch 37/100\n",
      "20/20 [==============================] - 2s 119ms/step - loss: 0.8180 - accuracy: 0.7675 - val_loss: 1.3630 - val_accuracy: 0.6656\n",
      "Epoch 38/100\n",
      "20/20 [==============================] - 2s 121ms/step - loss: 0.7835 - accuracy: 0.7722 - val_loss: 1.3350 - val_accuracy: 0.6744\n",
      "Epoch 39/100\n",
      "20/20 [==============================] - 2s 119ms/step - loss: 0.6898 - accuracy: 0.7992 - val_loss: 1.3394 - val_accuracy: 0.6767\n",
      "Epoch 40/100\n",
      "20/20 [==============================] - 2s 121ms/step - loss: 0.6757 - accuracy: 0.8094 - val_loss: 1.3040 - val_accuracy: 0.6822\n",
      "Epoch 41/100\n",
      "20/20 [==============================] - 2s 121ms/step - loss: 0.6623 - accuracy: 0.8136 - val_loss: 1.3295 - val_accuracy: 0.6656\n",
      "Epoch 42/100\n",
      "20/20 [==============================] - 2s 123ms/step - loss: 0.6325 - accuracy: 0.8111 - val_loss: 1.2466 - val_accuracy: 0.6911\n",
      "Epoch 43/100\n",
      "20/20 [==============================] - 2s 121ms/step - loss: 0.5914 - accuracy: 0.8236 - val_loss: 1.2795 - val_accuracy: 0.6856\n",
      "Epoch 44/100\n",
      "20/20 [==============================] - 2s 120ms/step - loss: 0.5907 - accuracy: 0.8325 - val_loss: 1.2330 - val_accuracy: 0.7078\n",
      "Epoch 45/100\n",
      "20/20 [==============================] - 2s 120ms/step - loss: 0.5540 - accuracy: 0.8417 - val_loss: 1.2154 - val_accuracy: 0.7011\n",
      "Epoch 46/100\n",
      "20/20 [==============================] - 2s 123ms/step - loss: 0.5202 - accuracy: 0.8506 - val_loss: 1.2002 - val_accuracy: 0.7089\n",
      "Epoch 47/100\n",
      "20/20 [==============================] - 2s 121ms/step - loss: 0.4829 - accuracy: 0.8642 - val_loss: 1.1437 - val_accuracy: 0.7167\n",
      "Epoch 48/100\n",
      "20/20 [==============================] - 2s 119ms/step - loss: 0.4668 - accuracy: 0.8661 - val_loss: 1.1768 - val_accuracy: 0.7178\n",
      "Epoch 49/100\n",
      "20/20 [==============================] - 2s 122ms/step - loss: 0.4657 - accuracy: 0.8644 - val_loss: 1.1559 - val_accuracy: 0.7133\n",
      "Epoch 50/100\n",
      "20/20 [==============================] - 2s 123ms/step - loss: 0.4326 - accuracy: 0.8717 - val_loss: 1.1412 - val_accuracy: 0.7178\n",
      "Epoch 51/100\n",
      "20/20 [==============================] - 2s 122ms/step - loss: 0.4015 - accuracy: 0.8819 - val_loss: 1.1341 - val_accuracy: 0.7111\n",
      "Epoch 52/100\n",
      "20/20 [==============================] - 2s 121ms/step - loss: 0.4289 - accuracy: 0.8825 - val_loss: 1.1049 - val_accuracy: 0.7289\n",
      "Epoch 53/100\n",
      "20/20 [==============================] - 2s 122ms/step - loss: 0.3830 - accuracy: 0.8908 - val_loss: 1.1057 - val_accuracy: 0.7244\n",
      "Epoch 54/100\n",
      "20/20 [==============================] - 3s 150ms/step - loss: 0.3769 - accuracy: 0.8936 - val_loss: 1.0781 - val_accuracy: 0.7311\n",
      "Epoch 55/100\n",
      "20/20 [==============================] - 2s 121ms/step - loss: 0.3482 - accuracy: 0.9006 - val_loss: 1.1113 - val_accuracy: 0.7211\n",
      "Epoch 56/100\n",
      "20/20 [==============================] - 2s 122ms/step - loss: 0.3323 - accuracy: 0.9019 - val_loss: 1.0654 - val_accuracy: 0.7367\n",
      "Epoch 57/100\n",
      "20/20 [==============================] - 2s 122ms/step - loss: 0.3245 - accuracy: 0.9019 - val_loss: 1.0908 - val_accuracy: 0.7356\n",
      "Epoch 58/100\n",
      "20/20 [==============================] - 3s 132ms/step - loss: 0.3057 - accuracy: 0.9133 - val_loss: 1.0747 - val_accuracy: 0.7378\n",
      "Epoch 59/100\n",
      "20/20 [==============================] - 2s 121ms/step - loss: 0.3083 - accuracy: 0.9131 - val_loss: 1.0473 - val_accuracy: 0.7322\n",
      "Epoch 60/100\n",
      "20/20 [==============================] - 3s 129ms/step - loss: 0.3059 - accuracy: 0.9106 - val_loss: 1.0451 - val_accuracy: 0.7333\n",
      "Epoch 61/100\n",
      "20/20 [==============================] - 2s 121ms/step - loss: 0.2862 - accuracy: 0.9225 - val_loss: 1.0341 - val_accuracy: 0.7500\n",
      "Epoch 62/100\n",
      "20/20 [==============================] - 2s 120ms/step - loss: 0.2738 - accuracy: 0.9231 - val_loss: 1.0200 - val_accuracy: 0.7478\n",
      "Epoch 63/100\n",
      "20/20 [==============================] - 2s 122ms/step - loss: 0.2526 - accuracy: 0.9303 - val_loss: 1.0057 - val_accuracy: 0.7433\n",
      "Epoch 64/100\n",
      "20/20 [==============================] - 2s 122ms/step - loss: 0.2512 - accuracy: 0.9333 - val_loss: 0.9993 - val_accuracy: 0.7533\n",
      "Epoch 65/100\n",
      "20/20 [==============================] - 2s 120ms/step - loss: 0.2280 - accuracy: 0.9361 - val_loss: 1.0461 - val_accuracy: 0.7233\n",
      "Epoch 66/100\n",
      "20/20 [==============================] - 2s 120ms/step - loss: 0.2190 - accuracy: 0.9347 - val_loss: 1.0446 - val_accuracy: 0.7378\n",
      "Epoch 67/100\n",
      "20/20 [==============================] - 2s 121ms/step - loss: 0.2343 - accuracy: 0.9358 - val_loss: 0.9937 - val_accuracy: 0.7489\n",
      "Epoch 68/100\n",
      "20/20 [==============================] - 2s 120ms/step - loss: 0.2011 - accuracy: 0.9428 - val_loss: 1.0026 - val_accuracy: 0.7456\n",
      "Epoch 69/100\n",
      "20/20 [==============================] - 2s 120ms/step - loss: 0.2119 - accuracy: 0.9444 - val_loss: 1.0090 - val_accuracy: 0.7600\n",
      "Epoch 70/100\n",
      "20/20 [==============================] - 2s 124ms/step - loss: 0.2074 - accuracy: 0.9383 - val_loss: 0.9660 - val_accuracy: 0.7611\n",
      "Epoch 71/100\n",
      "20/20 [==============================] - 2s 120ms/step - loss: 0.1823 - accuracy: 0.9481 - val_loss: 0.9818 - val_accuracy: 0.7567\n",
      "Epoch 72/100\n",
      "20/20 [==============================] - 2s 121ms/step - loss: 0.1827 - accuracy: 0.9492 - val_loss: 0.9801 - val_accuracy: 0.7556\n",
      "Epoch 73/100\n",
      "20/20 [==============================] - 2s 120ms/step - loss: 0.1604 - accuracy: 0.9544 - val_loss: 1.0137 - val_accuracy: 0.7489\n",
      "Epoch 74/100\n",
      "20/20 [==============================] - 2s 123ms/step - loss: 0.1760 - accuracy: 0.9525 - val_loss: 1.0118 - val_accuracy: 0.7422\n",
      "Epoch 75/100\n",
      "20/20 [==============================] - 2s 122ms/step - loss: 0.1617 - accuracy: 0.9539 - val_loss: 0.9877 - val_accuracy: 0.7511\n",
      "\n",
      "47/47 - 36s - loss: 1.1383 - accuracy: 0.7140 - 36s/epoch - 761ms/step\n",
      "=======================================================================\n",
      "Accuracy on test: 71.40%\n",
      "Memory used: 1146.6 Mb\n"
     ]
    },
    {
     "data": {
      "image/png": "[encoded data removed]",
      "text/plain": [
       "<Figure size 720x432 with 1 Axes>"
      ]
     },
     "metadata": {
      "needs_background": "light"
     },
     "output_type": "display_data"
    },
    {
     "data": {
      "image/png": "[encoded data removed]",
      "text/plain": [
       "<Figure size 720x432 with 1 Axes>"
      ]
     },
     "metadata": {
      "needs_background": "light"
     },
     "output_type": "display_data"
    }
   ],
   "source": [
    "history0 = model0.fit(X_train, y_train, epochs = 100, batch_size = BATCH_SIZE1,\n",
    "                      validation_data = (X_valid, y_valid), verbose = 1,\n",
    "                      callbacks = [keras.callbacks.EarlyStopping(patience = 5)])\n",
    "\n",
    "evaluation.plot_loss(history0)\n",
    "evaluation.plot_accuracy(history0)\n",
    "\n",
    "print()\n",
    "scores0 = model0.evaluate(X_test, y_test, verbose = 2)\n",
    "print(\"=\"*71)\n",
    "print(\"Accuracy on test: {:.2f}%\".format(scores0[1]*100))\n",
    "print(\"Memory used: {:.1f} Mb\".format(\n",
    "        evaluation.keras_model_memory_usage_in_bytes(model = model0,\n",
    "                                                     batch_size = BATCH_SIZE1)/1e6))"
   ]
  },
  {
   "cell_type": "code",
   "execution_count": null,
   "id": "Hf_Yziop_IzI",
   "metadata": {
    "id": "Hf_Yziop_IzI"
   },
   "outputs": [],
   "source": []
  },
  {
   "cell_type": "code",
   "execution_count": null,
   "id": "ZnbZHAgC_I76",
   "metadata": {
    "id": "ZnbZHAgC_I76"
   },
   "outputs": [],
   "source": []
  },
  {
   "cell_type": "markdown",
   "id": "xuSzNkPA-_jU",
   "metadata": {
    "id": "xuSzNkPA-_jU"
   },
   "source": [
    "---\n",
    "---\n",
    "---"
   ]
  }
 ],
 "metadata": {
  "accelerator": "TPU",
  "colab": {
   "machine_shape": "hm",
   "provenance": []
  },
  "gpuClass": "standard",
  "kernelspec": {
   "display_name": "Python 3 (ipykernel)",
   "language": "python",
   "name": "python3"
  },
  "language_info": {
   "codemirror_mode": {
    "name": "ipython",
    "version": 3
   },
   "file_extension": ".py",
   "mimetype": "text/x-python",
   "name": "python",
   "nbconvert_exporter": "python",
   "pygments_lexer": "ipython3",
   "version": "3.9.12"
  }
 },
 "nbformat": 4,
 "nbformat_minor": 5
}
