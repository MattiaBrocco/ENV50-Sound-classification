{
 "cells": [
  {
   "cell_type": "code",
   "execution_count": 1,
   "id": "38ffa703",
   "metadata": {
    "ExecuteTime": {
     "end_time": "2023-01-13T18:44:53.327263Z",
     "start_time": "2023-01-13T18:44:47.726271Z"
    }
   },
   "outputs": [],
   "source": [
    "import os\n",
    "import sys\n",
    "import librosa\n",
    "import numpy as np\n",
    "import pandas as pd\n",
    "import seaborn as sns\n",
    "from scipy.io import wavfile\n",
    "import matplotlib.pyplot as plt\n",
    "\n",
    "%load_ext autoreload\n",
    "%autoreload 2"
   ]
  },
  {
   "cell_type": "code",
   "execution_count": 2,
   "id": "9f7a7888",
   "metadata": {
    "ExecuteTime": {
     "end_time": "2023-01-13T18:44:53.532263Z",
     "start_time": "2023-01-13T18:44:53.330300Z"
    }
   },
   "outputs": [
    {
     "data": {
      "text/html": [
       "<div>\n",
       "<style scoped>\n",
       "    .dataframe tbody tr th:only-of-type {\n",
       "        vertical-align: middle;\n",
       "    }\n",
       "\n",
       "    .dataframe tbody tr th {\n",
       "        vertical-align: top;\n",
       "    }\n",
       "\n",
       "    .dataframe thead th {\n",
       "        text-align: right;\n",
       "    }\n",
       "</style>\n",
       "<table border=\"1\" class=\"dataframe\">\n",
       "  <thead>\n",
       "    <tr style=\"text-align: right;\">\n",
       "      <th></th>\n",
       "      <th>filename</th>\n",
       "      <th>fold</th>\n",
       "      <th>target</th>\n",
       "      <th>category</th>\n",
       "      <th>esc10</th>\n",
       "      <th>src_file</th>\n",
       "      <th>take</th>\n",
       "    </tr>\n",
       "  </thead>\n",
       "  <tbody>\n",
       "    <tr>\n",
       "      <th>0</th>\n",
       "      <td>1-100032-A-0.wav</td>\n",
       "      <td>1</td>\n",
       "      <td>0</td>\n",
       "      <td>dog</td>\n",
       "      <td>True</td>\n",
       "      <td>100032</td>\n",
       "      <td>A</td>\n",
       "    </tr>\n",
       "    <tr>\n",
       "      <th>1</th>\n",
       "      <td>1-100038-A-14.wav</td>\n",
       "      <td>1</td>\n",
       "      <td>14</td>\n",
       "      <td>chirping_birds</td>\n",
       "      <td>False</td>\n",
       "      <td>100038</td>\n",
       "      <td>A</td>\n",
       "    </tr>\n",
       "    <tr>\n",
       "      <th>2</th>\n",
       "      <td>1-100210-A-36.wav</td>\n",
       "      <td>1</td>\n",
       "      <td>36</td>\n",
       "      <td>vacuum_cleaner</td>\n",
       "      <td>False</td>\n",
       "      <td>100210</td>\n",
       "      <td>A</td>\n",
       "    </tr>\n",
       "    <tr>\n",
       "      <th>3</th>\n",
       "      <td>1-100210-B-36.wav</td>\n",
       "      <td>1</td>\n",
       "      <td>36</td>\n",
       "      <td>vacuum_cleaner</td>\n",
       "      <td>False</td>\n",
       "      <td>100210</td>\n",
       "      <td>B</td>\n",
       "    </tr>\n",
       "    <tr>\n",
       "      <th>4</th>\n",
       "      <td>1-101296-A-19.wav</td>\n",
       "      <td>1</td>\n",
       "      <td>19</td>\n",
       "      <td>thunderstorm</td>\n",
       "      <td>False</td>\n",
       "      <td>101296</td>\n",
       "      <td>A</td>\n",
       "    </tr>\n",
       "  </tbody>\n",
       "</table>\n",
       "</div>"
      ],
      "text/plain": [
       "            filename  fold  target        category  esc10  src_file take\n",
       "0   1-100032-A-0.wav     1       0             dog   True    100032    A\n",
       "1  1-100038-A-14.wav     1      14  chirping_birds  False    100038    A\n",
       "2  1-100210-A-36.wav     1      36  vacuum_cleaner  False    100210    A\n",
       "3  1-100210-B-36.wav     1      36  vacuum_cleaner  False    100210    B\n",
       "4  1-101296-A-19.wav     1      19    thunderstorm  False    101296    A"
      ]
     },
     "execution_count": 2,
     "metadata": {},
     "output_type": "execute_result"
    }
   ],
   "source": [
    "data = pd.read_csv('./data/meta/esc50.csv')\n",
    "data.head()"
   ]
  },
  {
   "cell_type": "code",
   "execution_count": 30,
   "id": "15bec09e",
   "metadata": {
    "ExecuteTime": {
     "end_time": "2023-01-13T22:33:58.691718Z",
     "start_time": "2023-01-13T22:32:55.107073Z"
    }
   },
   "outputs": [],
   "source": [
    "# Keep mean MFCC (60)\n",
    "X = []\n",
    "y = np.zeros(shape = (len(data), 1))\n",
    "\n",
    "for i in data.index:\n",
    "    \n",
    "    sr, aud = wavfile.read(\"./data/audio/{}\".format(data.loc[i, \"filename\"]))\n",
    "    aud = aud.astype(np.float32)\n",
    "    \n",
    "    MFCC = librosa.feature.mfcc(y = aud, sr = sr, hop_length = 512, n_mfcc = 60)\n",
    "    \n",
    "    out = np.mean(MFCC.T, axis = 0)\n",
    "    \n",
    "    #chromagram = librosa.feature.chroma_stft(y = aud, sr = sr, hop_length = 512,\n",
    "    #                                         win_length = 1024, n_chroma = 60)\n",
    "    #delta = librosa.feature.delta(MFCC)\n",
    "    \n",
    "    #instance = np.dstack((MFCC, chromagram, delta))\n",
    "    \n",
    "    X += [out]\n",
    "    \n",
    "    y[i] = data.loc[i, \"target\"]\n",
    "    \n",
    "X = np.array(X)"
   ]
  },
  {
   "cell_type": "code",
   "execution_count": 31,
   "id": "2083f434",
   "metadata": {
    "ExecuteTime": {
     "end_time": "2023-01-13T22:45:43.436890Z",
     "start_time": "2023-01-13T22:45:43.267714Z"
    }
   },
   "outputs": [],
   "source": [
    "from sklearn.preprocessing import StandardScaler\n",
    "\n",
    "stds = StandardScaler()\n",
    "X_new = stds.fit_transform(X)"
   ]
  },
  {
   "cell_type": "code",
   "execution_count": 39,
   "id": "0b1d2731",
   "metadata": {
    "ExecuteTime": {
     "end_time": "2023-01-13T22:52:56.821265Z",
     "start_time": "2023-01-13T22:52:56.673134Z"
    }
   },
   "outputs": [],
   "source": [
    "from gng import GrowingNeuralGas\n",
    "\n",
    "gnn = GrowingNeuralGas(X_new)"
   ]
  },
  {
   "cell_type": "code",
   "execution_count": 40,
   "id": "a7d49304",
   "metadata": {
    "ExecuteTime": {
     "end_time": "2023-01-13T22:55:29.885758Z",
     "start_time": "2023-01-13T22:53:02.773428Z"
    }
   },
   "outputs": [
    {
     "name": "stdout",
     "output_type": "stream",
     "text": [
      "   Pass #1\n",
      "   Pass #2\n",
      "   Pass #3\n",
      "   Pass #4\n",
      "   Pass #5\n",
      "   Pass #6\n",
      "   Pass #7\n",
      "   Pass #8\n"
     ]
    },
    {
     "data": {
      "image/png": "[encoded data removed]",
      "text/plain": [
       "<Figure size 432x288 with 1 Axes>"
      ]
     },
     "metadata": {},
     "output_type": "display_data"
    }
   ],
   "source": [
    "# a_max: maximum age\n",
    "# a: alpha\n",
    "# l: lambda\n",
    "gnn.fit_network(e_b = 0.05, e_n = 0.005, a_max = 10, l = 20,\n",
    "                a = 0.5, d = 0.995, passes = 8,\n",
    "                plot_evolution = False)"
   ]
  },
  {
   "cell_type": "code",
   "execution_count": 41,
   "id": "44c0e3ab",
   "metadata": {
    "ExecuteTime": {
     "end_time": "2023-01-13T22:55:58.595624Z",
     "start_time": "2023-01-13T22:55:36.815478Z"
    }
   },
   "outputs": [
    {
     "name": "stdout",
     "output_type": "stream",
     "text": [
      "47236.77919526529\n",
      "5\n"
     ]
    }
   ],
   "source": [
    "# 1 try (e_b = 0.1, e_n = 0.005, a_max = 10, l = 20): 36040.17\n",
    "# 2 try (e_b = 0.5, e_n = 0.1, a_max = 10, l = 20): 28533.98\n",
    "# 3 try (e_b = 0.05, e_n = 0.005, a_max = 10, l = 20): 47236.77\n",
    "print(gnn.compute_global_error())\n",
    "\n",
    "clusters = gnn.cluster_data()\n",
    "dimred = gnn.reduce_dimension(clusters)\n",
    "print(gnn.number_of_clusters())"
   ]
  }
 ],
 "metadata": {
  "kernelspec": {
   "display_name": "Python 3 (ipykernel)",
   "language": "python",
   "name": "python3"
  },
  "language_info": {
   "codemirror_mode": {
    "name": "ipython",
    "version": 3
   },
   "file_extension": ".py",
   "mimetype": "text/x-python",
   "name": "python",
   "nbconvert_exporter": "python",
   "pygments_lexer": "ipython3",
   "version": "3.9.12"
  }
 },
 "nbformat": 4,
 "nbformat_minor": 5
}
