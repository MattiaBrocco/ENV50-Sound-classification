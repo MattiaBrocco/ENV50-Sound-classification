{
  "nbformat": 4,
  "nbformat_minor": 0,
  "metadata": {
    "colab": {
      "provenance": [],
      "machine_shape": "hm",
      "toc_visible": true
    },
    "kernelspec": {
      "name": "python3",
      "display_name": "Python 3"
    },
    "language_info": {
      "name": "python"
    },
    "accelerator": "TPU",
    "gpuClass": "standard"
  },
  "cells": [
    {
      "cell_type": "code",
      "execution_count": 1,
      "metadata": {
        "colab": {
          "base_uri": "https://localhost:8080/"
        },
        "id": "JbVTCBy-fTYF",
        "outputId": "b906d121-1120-4436-aba4-1461d2e8417a"
      },
      "outputs": [
        {
          "output_type": "stream",
          "name": "stdout",
          "text": [
            "Drive already mounted at /content/drive; to attempt to forcibly remount, call drive.mount(\"/content/drive\", force_remount=True).\n",
            "/content/drive/MyDrive/Environmental-sounds-UNIPD-2022\n"
          ]
        }
      ],
      "source": [
        "from google.colab import drive\n",
        "drive.mount(\"/content/drive\")\n",
        "\n",
        "%cd /content/drive/MyDrive/Environmental-sounds-UNIPD-2022"
      ]
    },
    {
      "cell_type": "code",
      "source": [
        "import os\n",
        "import sys\n",
        "import torch\n",
        "import librosa\n",
        "import matplotlib\n",
        "import numpy as np\n",
        "import pandas as pd\n",
        "import seaborn as sns\n",
        "import tensorflow as tf\n",
        "from librosa import display\n",
        "from scipy.io import wavfile\n",
        "from tensorflow import keras\n",
        "import IPython.display as ipd\n",
        "import matplotlib.pyplot as plt\n",
        "\n",
        "from sklearn.metrics import confusion_matrix\n",
        "from sklearn.metrics import classification_report\n",
        "from sklearn.model_selection import train_test_split\n",
        "\n",
        "import evaluation\n",
        "import CNN_support as cnns\n",
        "from gng import GrowingNeuralGas\n",
        "\n",
        "%load_ext autoreload\n",
        "%autoreload 2"
      ],
      "metadata": {
        "id": "J-XNutXWfYJH"
      },
      "execution_count": 2,
      "outputs": []
    },
    {
      "cell_type": "code",
      "source": [
        "#reading the csv file\n",
        "data = pd.read_csv('./data/meta/esc50.csv')\n",
        "data.head()"
      ],
      "metadata": {
        "colab": {
          "base_uri": "https://localhost:8080/",
          "height": 206
        },
        "id": "nBxm8nabfZFH",
        "outputId": "14bedace-10ed-4923-b428-a0191725527c"
      },
      "execution_count": 3,
      "outputs": [
        {
          "output_type": "execute_result",
          "data": {
            "text/plain": [
              "            filename  fold  target        category  esc10  src_file take\n",
              "0   1-100032-A-0.wav     1       0             dog   True    100032    A\n",
              "1  1-100038-A-14.wav     1      14  chirping_birds  False    100038    A\n",
              "2  1-100210-A-36.wav     1      36  vacuum_cleaner  False    100210    A\n",
              "3  1-100210-B-36.wav     1      36  vacuum_cleaner  False    100210    B\n",
              "4  1-101296-A-19.wav     1      19    thunderstorm  False    101296    A"
            ],
            "text/html": [
              "\n",
              "  <div id=\"df-d2339ea7-5715-4696-8556-0259c1b4a51a\">\n",
              "    <div class=\"colab-df-container\">\n",
              "      <div>\n",
              "<style scoped>\n",
              "    .dataframe tbody tr th:only-of-type {\n",
              "        vertical-align: middle;\n",
              "    }\n",
              "\n",
              "    .dataframe tbody tr th {\n",
              "        vertical-align: top;\n",
              "    }\n",
              "\n",
              "    .dataframe thead th {\n",
              "        text-align: right;\n",
              "    }\n",
              "</style>\n",
              "<table border=\"1\" class=\"dataframe\">\n",
              "  <thead>\n",
              "    <tr style=\"text-align: right;\">\n",
              "      <th></th>\n",
              "      <th>filename</th>\n",
              "      <th>fold</th>\n",
              "      <th>target</th>\n",
              "      <th>category</th>\n",
              "      <th>esc10</th>\n",
              "      <th>src_file</th>\n",
              "      <th>take</th>\n",
              "    </tr>\n",
              "  </thead>\n",
              "  <tbody>\n",
              "    <tr>\n",
              "      <th>0</th>\n",
              "      <td>1-100032-A-0.wav</td>\n",
              "      <td>1</td>\n",
              "      <td>0</td>\n",
              "      <td>dog</td>\n",
              "      <td>True</td>\n",
              "      <td>100032</td>\n",
              "      <td>A</td>\n",
              "    </tr>\n",
              "    <tr>\n",
              "      <th>1</th>\n",
              "      <td>1-100038-A-14.wav</td>\n",
              "      <td>1</td>\n",
              "      <td>14</td>\n",
              "      <td>chirping_birds</td>\n",
              "      <td>False</td>\n",
              "      <td>100038</td>\n",
              "      <td>A</td>\n",
              "    </tr>\n",
              "    <tr>\n",
              "      <th>2</th>\n",
              "      <td>1-100210-A-36.wav</td>\n",
              "      <td>1</td>\n",
              "      <td>36</td>\n",
              "      <td>vacuum_cleaner</td>\n",
              "      <td>False</td>\n",
              "      <td>100210</td>\n",
              "      <td>A</td>\n",
              "    </tr>\n",
              "    <tr>\n",
              "      <th>3</th>\n",
              "      <td>1-100210-B-36.wav</td>\n",
              "      <td>1</td>\n",
              "      <td>36</td>\n",
              "      <td>vacuum_cleaner</td>\n",
              "      <td>False</td>\n",
              "      <td>100210</td>\n",
              "      <td>B</td>\n",
              "    </tr>\n",
              "    <tr>\n",
              "      <th>4</th>\n",
              "      <td>1-101296-A-19.wav</td>\n",
              "      <td>1</td>\n",
              "      <td>19</td>\n",
              "      <td>thunderstorm</td>\n",
              "      <td>False</td>\n",
              "      <td>101296</td>\n",
              "      <td>A</td>\n",
              "    </tr>\n",
              "  </tbody>\n",
              "</table>\n",
              "</div>\n",
              "      <button class=\"colab-df-convert\" onclick=\"convertToInteractive('df-d2339ea7-5715-4696-8556-0259c1b4a51a')\"\n",
              "              title=\"Convert this dataframe to an interactive table.\"\n",
              "              style=\"display:none;\">\n",
              "        \n",
              "  <svg xmlns=\"http://www.w3.org/2000/svg\" height=\"24px\"viewBox=\"0 0 24 24\"\n",
              "       width=\"24px\">\n",
              "    <path d=\"M0 0h24v24H0V0z\" fill=\"none\"/>\n",
              "    <path d=\"M18.56 5.44l.94 2.06.94-2.06 2.06-.94-2.06-.94-.94-2.06-.94 2.06-2.06.94zm-11 1L8.5 8.5l.94-2.06 2.06-.94-2.06-.94L8.5 2.5l-.94 2.06-2.06.94zm10 10l.94 2.06.94-2.06 2.06-.94-2.06-.94-.94-2.06-.94 2.06-2.06.94z\"/><path d=\"M17.41 7.96l-1.37-1.37c-.4-.4-.92-.59-1.43-.59-.52 0-1.04.2-1.43.59L10.3 9.45l-7.72 7.72c-.78.78-.78 2.05 0 2.83L4 21.41c.39.39.9.59 1.41.59.51 0 1.02-.2 1.41-.59l7.78-7.78 2.81-2.81c.8-.78.8-2.07 0-2.86zM5.41 20L4 18.59l7.72-7.72 1.47 1.35L5.41 20z\"/>\n",
              "  </svg>\n",
              "      </button>\n",
              "      \n",
              "  <style>\n",
              "    .colab-df-container {\n",
              "      display:flex;\n",
              "      flex-wrap:wrap;\n",
              "      gap: 12px;\n",
              "    }\n",
              "\n",
              "    .colab-df-convert {\n",
              "      background-color: #E8F0FE;\n",
              "      border: none;\n",
              "      border-radius: 50%;\n",
              "      cursor: pointer;\n",
              "      display: none;\n",
              "      fill: #1967D2;\n",
              "      height: 32px;\n",
              "      padding: 0 0 0 0;\n",
              "      width: 32px;\n",
              "    }\n",
              "\n",
              "    .colab-df-convert:hover {\n",
              "      background-color: #E2EBFA;\n",
              "      box-shadow: 0px 1px 2px rgba(60, 64, 67, 0.3), 0px 1px 3px 1px rgba(60, 64, 67, 0.15);\n",
              "      fill: #174EA6;\n",
              "    }\n",
              "\n",
              "    [theme=dark] .colab-df-convert {\n",
              "      background-color: #3B4455;\n",
              "      fill: #D2E3FC;\n",
              "    }\n",
              "\n",
              "    [theme=dark] .colab-df-convert:hover {\n",
              "      background-color: #434B5C;\n",
              "      box-shadow: 0px 1px 3px 1px rgba(0, 0, 0, 0.15);\n",
              "      filter: drop-shadow(0px 1px 2px rgba(0, 0, 0, 0.3));\n",
              "      fill: #FFFFFF;\n",
              "    }\n",
              "  </style>\n",
              "\n",
              "      <script>\n",
              "        const buttonEl =\n",
              "          document.querySelector('#df-d2339ea7-5715-4696-8556-0259c1b4a51a button.colab-df-convert');\n",
              "        buttonEl.style.display =\n",
              "          google.colab.kernel.accessAllowed ? 'block' : 'none';\n",
              "\n",
              "        async function convertToInteractive(key) {\n",
              "          const element = document.querySelector('#df-d2339ea7-5715-4696-8556-0259c1b4a51a');\n",
              "          const dataTable =\n",
              "            await google.colab.kernel.invokeFunction('convertToInteractive',\n",
              "                                                     [key], {});\n",
              "          if (!dataTable) return;\n",
              "\n",
              "          const docLinkHtml = 'Like what you see? Visit the ' +\n",
              "            '<a target=\"_blank\" href=https://colab.research.google.com/notebooks/data_table.ipynb>data table notebook</a>'\n",
              "            + ' to learn more about interactive tables.';\n",
              "          element.innerHTML = '';\n",
              "          dataTable['output_type'] = 'display_data';\n",
              "          await google.colab.output.renderOutput(dataTable, element);\n",
              "          const docLink = document.createElement('div');\n",
              "          docLink.innerHTML = docLinkHtml;\n",
              "          element.appendChild(docLink);\n",
              "        }\n",
              "      </script>\n",
              "    </div>\n",
              "  </div>\n",
              "  "
            ]
          },
          "metadata": {},
          "execution_count": 3
        }
      ]
    },
    {
      "cell_type": "code",
      "source": [
        "# Identify and select the TPU\n",
        "try:\n",
        "  tpu = tf.distribute.cluster_resolver.TPUClusterResolver()  # TPU detection\n",
        "  tf.config.experimental_connect_to_cluster(tpu)\n",
        "  tf.tpu.experimental.initialize_tpu_system(tpu)\n",
        "  tpu_strategy = tf.distribute.TPUStrategy(tpu)\n",
        "except:\n",
        "  print(\"TPU not found\")"
      ],
      "metadata": {
        "id": "7r3nVCBZvg4W"
      },
      "execution_count": 4,
      "outputs": []
    },
    {
      "cell_type": "code",
      "source": [
        "# Effects of augmentation\n",
        "\n",
        "a, a_sr = librosa.load(\"./data/audio/{}\".format(data.loc[120, \"filename\"]), sr = 44100)\n",
        "\n",
        "fig_aug, ax_aug = plt.subplots(4, 2, figsize = (7, 6))\n",
        "\n",
        "for i in range(8):\n",
        "  row = i//2\n",
        "  col = i%2\n",
        "\n",
        "  scaled_a = (a - a.min())/(a.max() - a.min())\n",
        "  \n",
        "  if i == 0:\n",
        "    plot_a = scaled_a\n",
        "    aug_title = \"Original audio (scaled in $[0, 1]$)\"\n",
        "  elif i == 1:\n",
        "    plot_a = scaled_a + 0.005*np.random.randn(len( scaled_a ))\n",
        "    aug_title = \"Addition of random noise\"\n",
        "  elif i == 2:\n",
        "    plot_a = np.roll(scaled_a, 22050)\n",
        "    aug_title = \"TIME SHIFT: right shift\"\n",
        "  elif i == 3:\n",
        "    plot_a = librosa.effects.pitch_shift(y = scaled_a, sr = a_sr, n_steps = 3)\n",
        "    aug_title = \"PITCH SHIFT: shift down by 3\"\n",
        "  elif i == 4:\n",
        "    plot_a = librosa.effects.pitch_shift(y = scaled_a, sr = a_sr, n_steps = -3)\n",
        "    aug_title = \"PITCH SHIFT: shift down by -3\"\n",
        "  elif i == 5:\n",
        "    plot_a = librosa.effects.time_stretch(y = scaled_a, rate = 1.25)\n",
        "    plot_a = np.append(plot_a, np.zeros(shape = len(scaled_a) - len(plot_a)))\n",
        "    aug_title = \"SPEED SHIFT: faster\"\n",
        "  elif i == 6:\n",
        "    plot_a = librosa.effects.time_stretch(y = scaled_a, rate = 0.8)\n",
        "    plot_a = plot_a[:len(scaled_a)]\n",
        "    aug_title = \"SPEED SHIFT: slower\"\n",
        "  else:\n",
        "    ax_aug[row, col].set_visible(False)\n",
        "  \n",
        "  ax_aug[row, col].plot(plot_a, color = \"#191970\")\n",
        "  ax_aug[row, col].set_xticklabels([])\n",
        "  ax_aug[row, col].set_title(aug_title)\n",
        "  ax_aug[row, col].set_ylim(-0.01, 1.01)\n",
        "    \n",
        "\n",
        "plt.tight_layout()\n",
        "plt.show()\n",
        "#plt.savefig(\"augmentation_effect.png\", dpi = 300)"
      ],
      "metadata": {
        "colab": {
          "base_uri": "https://localhost:8080/",
          "height": 441
        },
        "id": "ZeXO4FT1kKq1",
        "outputId": "d307619d-5b0a-4a21-c31b-714a799df218"
      },
      "execution_count": 5,
      "outputs": [
        {
          "output_type": "display_data",
          "data": {
            "text/plain": [
              "<Figure size 504x432 with 8 Axes>"
            ],
            "image/png": "[encoded data removed]"
          },
          "metadata": {
            "needs_background": "light"
          }
        }
      ]
    },
    {
      "cell_type": "code",
      "source": [
        "X = pd.read_parquet(\".//data/X_RNN_60x431_7times.parquet\")\n",
        "y = pd.read_parquet(\".//data/y_RNN_7times.parquet\")"
      ],
      "metadata": {
        "id": "ltEk_2LYnWzz"
      },
      "execution_count": 5,
      "outputs": []
    },
    {
      "cell_type": "markdown",
      "source": [
        "## 1. RNN with 60x431 input"
      ],
      "metadata": {
        "id": "ppfLu_Nafr05"
      }
    },
    {
      "cell_type": "code",
      "source": [
        "X1 = X.values.reshape(len(X), 60, 431)\n",
        "y1 = y.values"
      ],
      "metadata": {
        "id": "_IgYRaNbf9Iz"
      },
      "execution_count": 6,
      "outputs": []
    },
    {
      "cell_type": "code",
      "source": [
        "X_train1, X_test1, y_train1, y_test1 = train_test_split(X1, y1, train_size = .8,\n",
        "                                                        random_state = 42, shuffle = True)\n",
        "X_valid1, X_test1, y_valid1, y_test1 = train_test_split(X_test1, y_test1, train_size = .5,\n",
        "                                                          random_state = 42, shuffle = True)\n",
        "\n",
        "# one hot encoding of categories\n",
        "y_train1 = tf.keras.utils.to_categorical(y_train1)\n",
        "y_valid1 = tf.keras.utils.to_categorical(y_valid1)\n",
        "y_test1 = tf.keras.utils.to_categorical(y_test1)\n",
        "\n",
        "print(\"Training examples: {}\".format(y_train1.shape[0]))\n",
        "print(\"Validation examples: {}\".format(y_valid1.shape[0]))\n",
        "print(\"Test examples: {}\".format(y_test1.shape[0]))\n",
        "print()\n",
        "print(\"Input shape: {}\".format(X_train1[0].shape))"
      ],
      "metadata": {
        "colab": {
          "base_uri": "https://localhost:8080/"
        },
        "id": "XN3eX1ACfpR2",
        "outputId": "d9e1ce11-73bc-4fcd-b0fd-a13ee9a6075f"
      },
      "execution_count": 7,
      "outputs": [
        {
          "output_type": "stream",
          "name": "stdout",
          "text": [
            "Training examples: 11200\n",
            "Validation examples: 1400\n",
            "Test examples: 1400\n",
            "\n",
            "Input shape: (60, 431)\n"
          ]
        }
      ]
    },
    {
      "cell_type": "code",
      "source": [
        "BATCH_SIZE1 = 100"
      ],
      "metadata": {
        "id": "D31M3Y6Xg22D"
      },
      "execution_count": 8,
      "outputs": []
    },
    {
      "cell_type": "code",
      "source": [
        "with tpu_strategy.scope():\n",
        "  null_model = keras.models.Sequential([keras.Input(shape = (60, 431)),\n",
        "                                        keras.layers.Bidirectional(\n",
        "                                              keras.layers.LSTM(int(431*3),\n",
        "                                                                return_sequences = True)),\n",
        "                                        keras.layers.Flatten(),\n",
        "                                        keras.layers.Dense(400, activation = \"relu\"),\n",
        "                                        keras.layers.Dropout(0.2),\n",
        "                                        keras.layers.Dense(200, activation = \"relu\"),\n",
        "                                        keras.layers.Dropout(0.2),\n",
        "                                        keras.layers.Dense(100, activation = \"relu\"),\n",
        "                                        keras.layers.Dropout(0.2),\n",
        "                                        keras.layers.Dense(50, activation = \"softmax\")])\n",
        "  null_model.compile(loss = \"categorical_crossentropy\",\n",
        "                     optimizer = tf.keras.optimizers.Adam(learning_rate = 1e-3),\n",
        "                     metrics=[\"accuracy\"])\n",
        "\n",
        "print(null_model.summary())"
      ],
      "metadata": {
        "colab": {
          "base_uri": "https://localhost:8080/"
        },
        "id": "tt_j-IJcgqOu",
        "outputId": "eb641df2-d9ea-44be-e86b-8a7cc0ff4f06"
      },
      "execution_count": 9,
      "outputs": [
        {
          "output_type": "stream",
          "name": "stdout",
          "text": [
            "Model: \"sequential\"\n",
            "_________________________________________________________________\n",
            " Layer (type)                Output Shape              Param #   \n",
            "=================================================================\n",
            " bidirectional (Bidirectiona  (None, 60, 2586)         17843400  \n",
            " l)                                                              \n",
            "                                                                 \n",
            " flatten (Flatten)           (None, 155160)            0         \n",
            "                                                                 \n",
            " dense (Dense)               (None, 400)               62064400  \n",
            "                                                                 \n",
            " dropout (Dropout)           (None, 400)               0         \n",
            "                                                                 \n",
            " dense_1 (Dense)             (None, 200)               80200     \n",
            "                                                                 \n",
            " dropout_1 (Dropout)         (None, 200)               0         \n",
            "                                                                 \n",
            " dense_2 (Dense)             (None, 100)               20100     \n",
            "                                                                 \n",
            " dropout_2 (Dropout)         (None, 100)               0         \n",
            "                                                                 \n",
            " dense_3 (Dense)             (None, 50)                5050      \n",
            "                                                                 \n",
            "=================================================================\n",
            "Total params: 80,013,150\n",
            "Trainable params: 80,013,150\n",
            "Non-trainable params: 0\n",
            "_________________________________________________________________\n",
            "None\n"
          ]
        }
      ]
    },
    {
      "cell_type": "code",
      "source": [
        "nullHST = null_model.fit(X_train1, y_train1,\n",
        "                         epochs = 100,\n",
        "                         batch_size = BATCH_SIZE1,\n",
        "                         validation_data = (X_valid1, y_valid1),\n",
        "                         verbose = 0,\n",
        "                         callbacks = [keras.callbacks.EarlyStopping(monitor = \"val_accuracy\",\n",
        "                                                                    patience = 10)])"
      ],
      "metadata": {
        "id": "IBJZajssg3WA"
      },
      "execution_count": 10,
      "outputs": []
    },
    {
      "cell_type": "code",
      "source": [
        "fig1, ax1 = plt.subplots(1, 2, figsize = (14, 4))\n",
        "evaluation.plot_loss(nullHST, axis = ax1[0])\n",
        "evaluation.plot_accuracy(nullHST, axis = ax1[1])\n",
        "print()\n",
        "scores_NULL1 = null_model.evaluate(X_test1, y_test1, verbose = 2)\n",
        "print(\"=\"*71)\n",
        "print(\"Accuracy on test: {:.2f}%\".format(scores_NULL1[1]*100))\n",
        "print(\"Memory used: {:.1f} Mb\".format(\n",
        "        evaluation.keras_model_memory_usage_in_bytes(model = null_model,\n",
        "                                                     batch_size = BATCH_SIZE1)/1e6))\n",
        "\n",
        "plt.show()\n",
        "#plt.savefig(\"RNN-60x431.jpg\", dpi = 300)"
      ],
      "metadata": {
        "colab": {
          "base_uri": "https://localhost:8080/",
          "height": 368
        },
        "id": "BM196I2wom8b",
        "outputId": "bf07f3fa-acb7-4a61-e5a7-85ae2e05a459"
      },
      "execution_count": 13,
      "outputs": [
        {
          "output_type": "stream",
          "name": "stdout",
          "text": [
            "\n",
            "44/44 - 2s - loss: 1.1601 - accuracy: 0.7007 - 2s/epoch - 49ms/step\n",
            "=======================================================================\n",
            "Accuracy on test: 70.07%\n",
            "Memory used: 204.7 Mb\n"
          ]
        },
        {
          "output_type": "display_data",
          "data": {
            "text/plain": [
              "<Figure size 1008x288 with 2 Axes>"
            ],
            "image/png": "[encoded data removed]"
          },
          "metadata": {
            "needs_background": "light"
          }
        }
      ]
    },
    {
      "cell_type": "code",
      "source": [
        "print(\"Less represented in test set\")\n",
        "print(data.loc[data[\"target\"].isin([13, 46]), [\"target\", \"category\"]].drop_duplicates())\n",
        "print()\n",
        "print(\"More represented in test set\")\n",
        "print(data.loc[data[\"target\"].isin([22, 49]), [\"target\", \"category\"]].drop_duplicates())"
      ],
      "metadata": {
        "colab": {
          "base_uri": "https://localhost:8080/"
        },
        "id": "POpKGKmQQ8DZ",
        "outputId": "aa204478-38ad-4c73-83ab-460b5613290a"
      },
      "execution_count": 24,
      "outputs": [
        {
          "output_type": "stream",
          "name": "stdout",
          "text": [
            "Less represented in test set\n",
            "     target      category\n",
            "33       46  church_bells\n",
            "286      13      crickets\n",
            "\n",
            "More represented in test set\n",
            "    target  category\n",
            "11      22  clapping\n",
            "82      49  hand_saw\n"
          ]
        }
      ]
    },
    {
      "cell_type": "code",
      "source": [
        "data.loc[data[\"target\"].isin([2, 5, 15, ]), [\"target\", \"category\"]].drop_duplicates()"
      ],
      "metadata": {
        "id": "7I4rGMSbRhVt"
      },
      "execution_count": null,
      "outputs": []
    },
    {
      "cell_type": "code",
      "source": [
        "print(classification_report(y_test1.argmax(axis = 1),\n",
        "                            null_model.predict(X_test1).argmax(axis = 1)))"
      ],
      "metadata": {
        "colab": {
          "base_uri": "https://localhost:8080/"
        },
        "id": "vVkcdUPtDzBl",
        "outputId": "edccf475-992b-4c3f-f468-3668d567566f"
      },
      "execution_count": 14,
      "outputs": [
        {
          "output_type": "stream",
          "name": "stdout",
          "text": [
            "44/44 [==============================] - 2s 29ms/step\n",
            "              precision    recall  f1-score   support\n",
            "\n",
            "           0       0.83      0.71      0.77        35\n",
            "           1       0.94      0.91      0.93        35\n",
            "           2       0.65      0.73      0.69        33\n",
            "           3       0.91      0.91      0.91        34\n",
            "           4       0.85      0.79      0.82        29\n",
            "           5       0.61      1.00      0.76        30\n",
            "           6       0.73      0.56      0.63        34\n",
            "           7       0.84      0.64      0.73        25\n",
            "           8       0.80      0.71      0.75        28\n",
            "           9       0.81      0.77      0.79        22\n",
            "          10       0.49      0.71      0.58        24\n",
            "          11       0.45      0.84      0.58        25\n",
            "          12       0.44      0.70      0.54        30\n",
            "          13       0.81      0.89      0.85        19\n",
            "          14       0.76      0.71      0.73        31\n",
            "          15       0.75      0.33      0.46        36\n",
            "          16       0.76      0.68      0.72        28\n",
            "          17       0.49      0.96      0.65        26\n",
            "          18       0.96      0.90      0.93        29\n",
            "          19       0.92      0.69      0.79        35\n",
            "          20       0.58      0.81      0.68        26\n",
            "          21       0.88      0.91      0.89        23\n",
            "          22       0.88      0.79      0.83        38\n",
            "          23       0.50      0.50      0.50        22\n",
            "          24       0.93      0.45      0.60        29\n",
            "          25       0.72      0.59      0.65        22\n",
            "          26       0.58      0.73      0.65        30\n",
            "          27       0.88      0.71      0.79        21\n",
            "          28       0.53      0.72      0.61        25\n",
            "          29       0.76      0.45      0.57        29\n",
            "          30       0.69      0.95      0.80        21\n",
            "          31       0.38      0.73      0.50        22\n",
            "          32       0.50      0.30      0.37        30\n",
            "          33       0.94      0.48      0.64        33\n",
            "          34       0.72      0.88      0.79        24\n",
            "          35       0.57      0.77      0.66        31\n",
            "          36       0.78      0.50      0.61        28\n",
            "          37       0.93      0.76      0.83        33\n",
            "          38       0.55      0.46      0.50        24\n",
            "          39       0.55      0.95      0.70        22\n",
            "          40       0.71      0.58      0.64        26\n",
            "          41       0.85      0.63      0.72        35\n",
            "          42       0.63      0.81      0.71        21\n",
            "          43       0.97      0.93      0.95        30\n",
            "          44       0.92      0.79      0.85        28\n",
            "          45       0.67      0.64      0.65        22\n",
            "          46       0.79      1.00      0.88        19\n",
            "          47       0.78      0.90      0.84        31\n",
            "          48       0.52      0.38      0.44        29\n",
            "          49       1.00      0.26      0.42        38\n",
            "\n",
            "    accuracy                           0.70      1400\n",
            "   macro avg       0.73      0.71      0.70      1400\n",
            "weighted avg       0.74      0.70      0.70      1400\n",
            "\n"
          ]
        }
      ]
    },
    {
      "cell_type": "markdown",
      "source": [
        "## 2. RNN with 1x431 input"
      ],
      "metadata": {
        "id": "ge0BK2cdh0oV"
      }
    },
    {
      "cell_type": "code",
      "source": [
        "X2 = X.values.reshape(len(X), 60, 431).mean(axis = 1)\n",
        "y2 = y.copy().values\n",
        "\n",
        "X2 = X2.reshape(len(X2), 1, 431)\n",
        "\n",
        "X_train2, X_test2, y_train2, y_test2 = train_test_split(X2, y2, train_size = .8,\n",
        "                                                        random_state = 42, shuffle = True)\n",
        "X_valid2, X_test2, y_valid2, y_test2 = train_test_split(X_test2, y_test2, train_size = .5,\n",
        "                                                          random_state = 42, shuffle = True)\n",
        "\n",
        "# one hot encoding of categories\n",
        "y_train2 = tf.keras.utils.to_categorical(y_train2)\n",
        "y_valid2 = tf.keras.utils.to_categorical(y_valid2)\n",
        "y_test2 = tf.keras.utils.to_categorical(y_test2)\n",
        "\n",
        "print(\"Training examples: {}\".format(y_train2.shape[0]))\n",
        "print(\"Validation examples: {}\".format(y_valid2.shape[0]))\n",
        "print(\"Test examples: {}\".format(y_test2.shape[0]))\n",
        "print()\n",
        "print(\"Input shape: {}\".format(X_train2[0].shape))"
      ],
      "metadata": {
        "colab": {
          "base_uri": "https://localhost:8080/"
        },
        "id": "6Y7jS1c_iAzV",
        "outputId": "d333b918-cbf7-494a-951e-560798a5bd53"
      },
      "execution_count": 25,
      "outputs": [
        {
          "output_type": "stream",
          "name": "stdout",
          "text": [
            "Training examples: 11200\n",
            "Validation examples: 1400\n",
            "Test examples: 1400\n",
            "\n",
            "Input shape: (1, 431)\n"
          ]
        }
      ]
    },
    {
      "cell_type": "code",
      "source": [
        "BATCH_SIZE1 = 100"
      ],
      "metadata": {
        "id": "fDb4dAByiMp2"
      },
      "execution_count": 26,
      "outputs": []
    },
    {
      "cell_type": "code",
      "source": [
        "with tpu_strategy.scope():\n",
        "  model2 = keras.models.Sequential([keras.Input(shape = (1, 431)),\n",
        "                                    keras.layers.Bidirectional(\n",
        "                                              keras.layers.GRU(int(431*3),\n",
        "                                                                return_sequences = True)),\n",
        "                                    keras.layers.Flatten(),\n",
        "                                    keras.layers.Dense(400, activation = \"relu\"),\n",
        "                                    keras.layers.Dropout(0.2),\n",
        "                                    keras.layers.Dense(200, activation = \"relu\"),\n",
        "                                    keras.layers.Dropout(0.2),\n",
        "                                    keras.layers.Dense(100, activation = \"relu\"),\n",
        "                                    keras.layers.Dropout(0.2),\n",
        "                                    keras.layers.Dense(50, activation = \"softmax\")])\n",
        "  model2.compile(loss = \"categorical_crossentropy\",\n",
        "                 optimizer = tf.keras.optimizers.Adam(learning_rate = 1e-3),\n",
        "                 metrics=[\"accuracy\"])\n",
        "\n",
        "print(model2.summary())"
      ],
      "metadata": {
        "colab": {
          "base_uri": "https://localhost:8080/"
        },
        "id": "d6JGYij4ik30",
        "outputId": "ac80755d-dff1-4ab9-b52f-f384cca6341e"
      },
      "execution_count": 27,
      "outputs": [
        {
          "output_type": "stream",
          "name": "stdout",
          "text": [
            "Model: \"sequential_1\"\n",
            "_________________________________________________________________\n",
            " Layer (type)                Output Shape              Param #   \n",
            "=================================================================\n",
            " bidirectional_1 (Bidirectio  (None, 1, 2586)          13390308  \n",
            " nal)                                                            \n",
            "                                                                 \n",
            " flatten_1 (Flatten)         (None, 2586)              0         \n",
            "                                                                 \n",
            " dense_4 (Dense)             (None, 400)               1034800   \n",
            "                                                                 \n",
            " dropout_3 (Dropout)         (None, 400)               0         \n",
            "                                                                 \n",
            " dense_5 (Dense)             (None, 200)               80200     \n",
            "                                                                 \n",
            " dropout_4 (Dropout)         (None, 200)               0         \n",
            "                                                                 \n",
            " dense_6 (Dense)             (None, 100)               20100     \n",
            "                                                                 \n",
            " dropout_5 (Dropout)         (None, 100)               0         \n",
            "                                                                 \n",
            " dense_7 (Dense)             (None, 50)                5050      \n",
            "                                                                 \n",
            "=================================================================\n",
            "Total params: 14,530,458\n",
            "Trainable params: 14,530,458\n",
            "Non-trainable params: 0\n",
            "_________________________________________________________________\n",
            "None\n"
          ]
        }
      ]
    },
    {
      "cell_type": "code",
      "source": [
        "HST2 = model2.fit(X_train2, y_train2,\n",
        "                  epochs = 100,\n",
        "                  batch_size = BATCH_SIZE1,\n",
        "                  validation_data = (X_valid2, y_valid2),\n",
        "                  verbose = 0,\n",
        "                  callbacks = [keras.callbacks.EarlyStopping(monitor = \"val_accuracy\",\n",
        "                                                             patience = 10)])"
      ],
      "metadata": {
        "id": "1U5EIQvhjpnO"
      },
      "execution_count": 28,
      "outputs": []
    },
    {
      "cell_type": "code",
      "source": [
        "fig2, ax2 = plt.subplots(1, 2, figsize = (14, 4))\n",
        "evaluation.plot_loss(HST2, axis = ax2[0])\n",
        "evaluation.plot_accuracy(HST2, axis = ax2[1])\n",
        "print()\n",
        "scores2 = model2.evaluate(X_test2, y_test2, verbose = 2)\n",
        "print(\"=\"*71)\n",
        "print(\"Accuracy on test: {:.2f}%\".format(scores2[1]*100))\n",
        "print(\"Memory used: {:.1f} Mb\".format(\n",
        "        evaluation.keras_model_memory_usage_in_bytes(model = model2,\n",
        "                                                     batch_size = BATCH_SIZE1)/1e6))\n",
        "\n",
        "plt.show()\n",
        "#plt.savefig(\"RNN-1x431.jpg\", dpi = 300)"
      ],
      "metadata": {
        "colab": {
          "base_uri": "https://localhost:8080/",
          "height": 368
        },
        "id": "GEpLCxTXj2s6",
        "outputId": "1b68a2f6-75a9-4ee7-aaf3-fef6a8a22c02"
      },
      "execution_count": 29,
      "outputs": [
        {
          "output_type": "stream",
          "name": "stdout",
          "text": [
            "\n",
            "44/44 - 2s - loss: 3.0129 - accuracy: 0.2364 - 2s/epoch - 40ms/step\n",
            "=======================================================================\n",
            "Accuracy on test: 23.64%\n",
            "Memory used: 17.2 Mb\n"
          ]
        },
        {
          "output_type": "display_data",
          "data": {
            "text/plain": [
              "<Figure size 1008x288 with 2 Axes>"
            ],
            "image/png": "[encoded data removed]"
          },
          "metadata": {
            "needs_background": "light"
          }
        }
      ]
    },
    {
      "cell_type": "code",
      "source": [
        "print(classification_report(y_test2.argmax(axis = 1),\n",
        "                            model2.predict(X_test2).argmax(axis = 1)))"
      ],
      "metadata": {
        "colab": {
          "base_uri": "https://localhost:8080/"
        },
        "id": "tv2ZpAYFF9lo",
        "outputId": "a1613952-7677-4b8f-e48b-f5ace31f7640"
      },
      "execution_count": 31,
      "outputs": [
        {
          "output_type": "stream",
          "name": "stdout",
          "text": [
            "44/44 [==============================] - 3s 31ms/step\n",
            "              precision    recall  f1-score   support\n",
            "\n",
            "           0       0.50      0.34      0.41        35\n",
            "           1       0.50      0.49      0.49        35\n",
            "           2       0.23      0.18      0.20        33\n",
            "           3       0.24      0.15      0.18        34\n",
            "           4       0.13      0.10      0.12        29\n",
            "           5       0.27      0.20      0.23        30\n",
            "           6       0.17      0.21      0.18        34\n",
            "           7       0.12      0.08      0.10        25\n",
            "           8       0.30      0.11      0.16        28\n",
            "           9       0.50      0.05      0.08        22\n",
            "          10       0.12      0.42      0.18        24\n",
            "          11       0.06      0.08      0.07        25\n",
            "          12       0.25      0.03      0.06        30\n",
            "          13       0.19      0.32      0.24        19\n",
            "          14       0.40      0.06      0.11        31\n",
            "          15       0.46      0.17      0.24        36\n",
            "          16       0.10      0.18      0.13        28\n",
            "          17       0.67      0.23      0.34        26\n",
            "          18       0.27      0.55      0.36        29\n",
            "          19       0.24      0.43      0.31        35\n",
            "          20       0.26      0.23      0.24        26\n",
            "          21       0.73      0.48      0.58        23\n",
            "          22       0.29      0.13      0.18        38\n",
            "          23       0.25      0.32      0.28        22\n",
            "          24       0.45      0.52      0.48        29\n",
            "          25       0.00      0.00      0.00        22\n",
            "          26       0.13      0.13      0.13        30\n",
            "          27       0.15      0.10      0.12        21\n",
            "          28       0.15      0.20      0.17        25\n",
            "          29       0.30      0.28      0.29        29\n",
            "          30       0.45      0.48      0.47        21\n",
            "          31       0.41      0.41      0.41        22\n",
            "          32       0.16      0.23      0.19        30\n",
            "          33       0.21      0.18      0.20        33\n",
            "          34       0.56      0.58      0.57        24\n",
            "          35       0.16      0.23      0.19        31\n",
            "          36       0.00      0.00      0.00        28\n",
            "          37       0.50      0.33      0.40        33\n",
            "          38       0.27      0.33      0.30        24\n",
            "          39       0.55      0.50      0.52        22\n",
            "          40       0.00      0.00      0.00        26\n",
            "          41       0.14      0.11      0.13        35\n",
            "          42       0.22      0.24      0.23        21\n",
            "          43       0.24      0.13      0.17        30\n",
            "          44       0.24      0.29      0.26        28\n",
            "          45       0.09      0.55      0.16        22\n",
            "          46       0.08      0.11      0.09        19\n",
            "          47       0.13      0.19      0.16        31\n",
            "          48       0.40      0.14      0.21        29\n",
            "          49       0.30      0.24      0.26        38\n",
            "\n",
            "    accuracy                           0.24      1400\n",
            "   macro avg       0.27      0.24      0.23      1400\n",
            "weighted avg       0.27      0.24      0.23      1400\n",
            "\n"
          ]
        },
        {
          "output_type": "stream",
          "name": "stderr",
          "text": [
            "/usr/local/lib/python3.8/dist-packages/sklearn/metrics/_classification.py:1318: UndefinedMetricWarning: Precision and F-score are ill-defined and being set to 0.0 in labels with no predicted samples. Use `zero_division` parameter to control this behavior.\n",
            "  _warn_prf(average, modifier, msg_start, len(result))\n",
            "/usr/local/lib/python3.8/dist-packages/sklearn/metrics/_classification.py:1318: UndefinedMetricWarning: Precision and F-score are ill-defined and being set to 0.0 in labels with no predicted samples. Use `zero_division` parameter to control this behavior.\n",
            "  _warn_prf(average, modifier, msg_start, len(result))\n",
            "/usr/local/lib/python3.8/dist-packages/sklearn/metrics/_classification.py:1318: UndefinedMetricWarning: Precision and F-score are ill-defined and being set to 0.0 in labels with no predicted samples. Use `zero_division` parameter to control this behavior.\n",
            "  _warn_prf(average, modifier, msg_start, len(result))\n"
          ]
        }
      ]
    },
    {
      "cell_type": "code",
      "source": [
        "# Model never predicts an example to be:\n",
        "  # 40: helicopter -> mainly mistaken as train/rain/airplane\n",
        "print(model2.predict(X_test2[np.where(y_test2.argmax(axis = 1) == 40)]).argmax(axis = 1), end = \"\\n\\n\")\n",
        "  # 25: footsteps -> mainly mistaken as clapping but basically random\n",
        "print(model2.predict(X_test2[np.where(y_test2.argmax(axis = 1) == 25)]).argmax(axis = 1), end = \"\\n\\n\")\n",
        "  # 36: vacuum_cleaner -> mainly mistaken as rain/washing_machine\n",
        "print(model2.predict(X_test2[np.where(y_test2.argmax(axis = 1) == 36)]).argmax(axis = 1), end = \"\\n\\n\")"
      ],
      "metadata": {
        "colab": {
          "base_uri": "https://localhost:8080/"
        },
        "id": "syVhnT9TS7Aa",
        "outputId": "de665776-3002-4fbf-cb40-4b4c8fc55a07"
      },
      "execution_count": 43,
      "outputs": [
        {
          "output_type": "stream",
          "name": "stdout",
          "text": [
            "1/1 [==============================] - 0s 475ms/step\n",
            "[45 10 47 10 10 16 45 35 47 45 16 10 45 18 28 44 45 35 42  2 47 44 47 10\n",
            " 16 35]\n",
            "\n",
            "1/1 [==============================] - 0s 477ms/step\n",
            "[16 22 27 30 19  2 46 47 22  4 38 37  4 13 19 38 45 45 12  1 37  5]\n",
            "\n",
            "1/1 [==============================] - 0s 462ms/step\n",
            "[11 44 47 18 35 10 11 35 18 35 47 45 35 10 10 10 35 35 10 44 10 35 47 45\n",
            " 10 10 11 44]\n",
            "\n"
          ]
        }
      ]
    },
    {
      "cell_type": "markdown",
      "source": [
        "## 3. RNN with 1x60 input"
      ],
      "metadata": {
        "id": "FwtN1NonkFI0"
      }
    },
    {
      "cell_type": "code",
      "source": [
        "X3 = X.values.reshape(len(X), 60, 431).mean(axis = 2)\n",
        "y3 = y.copy().values\n",
        "X3 = X3.reshape(len(X3), 1, 60)\n",
        "\n",
        "#X_train3, X_test3, y_train3, y_test3 = train_test_split(X3, y3, train_size = .75,\n",
        "#                                                        random_state = 42, shuffle = True)\n",
        "#X_train3, X_valid3, y_train3, y_valid3 = train_test_split(X_train3, y_train3, train_size = .8,\n",
        "#                                                          random_state = 42, shuffle = True)\n",
        "X_train3, X_test3, y_train3, y_test3 = train_test_split(X3, y3, train_size = .8,\n",
        "                                                        random_state = 42, shuffle = True)\n",
        "X_valid3, X_test3, y_valid3, y_test3 = train_test_split(X_test3, y_test3, train_size = .5,\n",
        "                                                          random_state = 42, shuffle = True)\n",
        "\n",
        "# one hot encoding of categories\n",
        "y_train3 = tf.keras.utils.to_categorical(y_train3)\n",
        "y_valid3 = tf.keras.utils.to_categorical(y_valid3)\n",
        "y_test3 = tf.keras.utils.to_categorical(y_test3)\n",
        "\n",
        "print(\"Training examples: {}\".format(y_train3.shape[0]))\n",
        "print(\"Validation examples: {}\".format(y_valid3.shape[0]))\n",
        "print(\"Test examples: {}\".format(y_test3.shape[0]))\n",
        "print()\n",
        "print(\"Input shape: {}\".format(X_train3[0].shape))"
      ],
      "metadata": {
        "colab": {
          "base_uri": "https://localhost:8080/"
        },
        "id": "DnPNqUGNkIEz",
        "outputId": "fa96b56e-5eab-4ba2-8e12-d63f76ad2d3e"
      },
      "execution_count": 55,
      "outputs": [
        {
          "output_type": "stream",
          "name": "stdout",
          "text": [
            "Training examples: 11200\n",
            "Validation examples: 1400\n",
            "Test examples: 1400\n",
            "\n",
            "Input shape: (1, 60)\n"
          ]
        }
      ]
    },
    {
      "cell_type": "code",
      "source": [
        "with tpu_strategy.scope():\n",
        "  model3 = keras.models.Sequential([keras.Input(shape = (1, 60)),\n",
        "                                    keras.layers.Bidirectional(keras.layers.GRU(1000,\n",
        "                                                                       return_sequences = True)),\n",
        "                                    keras.layers.Flatten(),\n",
        "                                    keras.layers.Dense(500, activation = \"relu\"),\n",
        "                                    keras.layers.Dropout(0.2),\n",
        "                                    keras.layers.Dense(200, activation = \"relu\"),\n",
        "                                    keras.layers.Dropout(0.2),\n",
        "                                    keras.layers.Dense(100, activation = \"relu\"),\n",
        "                                    keras.layers.Dropout(0.2),\n",
        "                                    keras.layers.Dense(50, activation = \"softmax\")])\n",
        "  model3.compile(loss = \"categorical_crossentropy\",\n",
        "                 optimizer = tf.keras.optimizers.Adam(learning_rate = 1e-3),\n",
        "                 metrics=[\"accuracy\"])\n",
        "\n",
        "print(model3.summary())"
      ],
      "metadata": {
        "colab": {
          "base_uri": "https://localhost:8080/"
        },
        "id": "sUJmDzBWkvRU",
        "outputId": "80306bb8-8779-4026-bb62-d5379b6b09e3"
      },
      "execution_count": 56,
      "outputs": [
        {
          "output_type": "stream",
          "name": "stdout",
          "text": [
            "Model: \"sequential_2\"\n",
            "_________________________________________________________________\n",
            " Layer (type)                Output Shape              Param #   \n",
            "=================================================================\n",
            " bidirectional_2 (Bidirectio  (None, 1, 2000)          6372000   \n",
            " nal)                                                            \n",
            "                                                                 \n",
            " flatten_2 (Flatten)         (None, 2000)              0         \n",
            "                                                                 \n",
            " dense_8 (Dense)             (None, 500)               1000500   \n",
            "                                                                 \n",
            " dropout_6 (Dropout)         (None, 500)               0         \n",
            "                                                                 \n",
            " dense_9 (Dense)             (None, 200)               100200    \n",
            "                                                                 \n",
            " dropout_7 (Dropout)         (None, 200)               0         \n",
            "                                                                 \n",
            " dense_10 (Dense)            (None, 100)               20100     \n",
            "                                                                 \n",
            " dropout_8 (Dropout)         (None, 100)               0         \n",
            "                                                                 \n",
            " dense_11 (Dense)            (None, 50)                5050      \n",
            "                                                                 \n",
            "=================================================================\n",
            "Total params: 7,497,850\n",
            "Trainable params: 7,497,850\n",
            "Non-trainable params: 0\n",
            "_________________________________________________________________\n",
            "None\n"
          ]
        }
      ]
    },
    {
      "cell_type": "code",
      "source": [
        "BATCH_SIZE3 = 100"
      ],
      "metadata": {
        "id": "R5El1VTjrLra"
      },
      "execution_count": 57,
      "outputs": []
    },
    {
      "cell_type": "code",
      "source": [
        "HST3 = model3.fit(X_train3, y_train3,\n",
        "                  epochs = 200,\n",
        "                  batch_size = BATCH_SIZE3,\n",
        "                  validation_data = (X_valid3, y_valid3),\n",
        "                  verbose = 0,\n",
        "                  callbacks = [keras.callbacks.EarlyStopping(monitor = \"val_accuracy\",\n",
        "                                                             patience = 10)])"
      ],
      "metadata": {
        "id": "WM29x21Ek0X9"
      },
      "execution_count": 58,
      "outputs": []
    },
    {
      "cell_type": "code",
      "source": [
        "fig3, ax3 = plt.subplots(1, 2, figsize = (14, 4))\n",
        "evaluation.plot_loss(HST3, axis = ax3[0])\n",
        "evaluation.plot_accuracy(HST3, axis = ax3[1])\n",
        "print()\n",
        "scores3 = model3.evaluate(X_test3, y_test3, verbose = 2)\n",
        "print(\"=\"*71)\n",
        "print(\"Accuracy on test: {:.2f}%\".format(scores3[1]*100))\n",
        "print(\"Memory used: {:.1f} Mb\".format(\n",
        "        evaluation.keras_model_memory_usage_in_bytes(model = model3,\n",
        "                                                     batch_size = BATCH_SIZE3)/1e6))\n",
        "\n",
        "plt.show()\n",
        "#plt.savefig(\"RNN-1x60_8M_params.jpg\", dpi = 300)"
      ],
      "metadata": {
        "colab": {
          "base_uri": "https://localhost:8080/",
          "height": 368
        },
        "id": "GZuouXTGlGxT",
        "outputId": "6decad03-2732-4c0d-fb07-cea2cf2c4f77"
      },
      "execution_count": 59,
      "outputs": [
        {
          "output_type": "stream",
          "name": "stdout",
          "text": [
            "\n",
            "44/44 - 2s - loss: 0.6370 - accuracy: 0.8386 - 2s/epoch - 41ms/step\n",
            "=======================================================================\n",
            "Accuracy on test: 83.86%\n",
            "Memory used: 9.8 Mb\n"
          ]
        },
        {
          "output_type": "display_data",
          "data": {
            "text/plain": [
              "<Figure size 1008x288 with 2 Axes>"
            ],
            "image/png": "[encoded data removed]"
          },
          "metadata": {
            "needs_background": "light"
          }
        }
      ]
    },
    {
      "cell_type": "code",
      "source": [
        "print(classification_report(y_test3.argmax(axis = 1),\n",
        "                            model3.predict(X_test3).argmax(axis = 1)))"
      ],
      "metadata": {
        "colab": {
          "base_uri": "https://localhost:8080/"
        },
        "id": "upzw7GtjGCWh",
        "outputId": "2e24dfff-99c6-4eac-e787-724a30097986"
      },
      "execution_count": 60,
      "outputs": [
        {
          "output_type": "stream",
          "name": "stdout",
          "text": [
            "44/44 [==============================] - 3s 31ms/step\n",
            "              precision    recall  f1-score   support\n",
            "\n",
            "           0       0.80      0.94      0.87        35\n",
            "           1       0.92      0.97      0.94        35\n",
            "           2       0.85      0.85      0.85        33\n",
            "           3       0.80      0.97      0.88        34\n",
            "           4       0.93      0.90      0.91        29\n",
            "           5       0.92      0.73      0.81        30\n",
            "           6       0.83      0.85      0.84        34\n",
            "           7       0.84      0.84      0.84        25\n",
            "           8       0.86      0.89      0.88        28\n",
            "           9       0.79      0.86      0.83        22\n",
            "          10       0.76      0.92      0.83        24\n",
            "          11       0.83      1.00      0.91        25\n",
            "          12       1.00      0.73      0.85        30\n",
            "          13       0.86      0.95      0.90        19\n",
            "          14       0.93      0.81      0.86        31\n",
            "          15       0.94      0.44      0.60        36\n",
            "          16       0.88      0.75      0.81        28\n",
            "          17       0.86      0.92      0.89        26\n",
            "          18       0.96      0.93      0.95        29\n",
            "          19       0.87      0.94      0.90        35\n",
            "          20       0.84      1.00      0.91        26\n",
            "          21       0.55      0.70      0.62        23\n",
            "          22       0.90      0.95      0.92        38\n",
            "          23       0.76      0.59      0.67        22\n",
            "          24       0.95      0.66      0.78        29\n",
            "          25       0.77      0.91      0.83        22\n",
            "          26       0.83      0.83      0.83        30\n",
            "          27       0.78      0.86      0.82        21\n",
            "          28       0.88      0.92      0.90        25\n",
            "          29       0.71      0.59      0.64        29\n",
            "          30       0.68      0.90      0.78        21\n",
            "          31       0.69      0.82      0.75        22\n",
            "          32       0.79      0.73      0.76        30\n",
            "          33       0.80      0.85      0.82        33\n",
            "          34       0.56      0.96      0.71        24\n",
            "          35       0.82      0.87      0.84        31\n",
            "          36       0.96      0.93      0.95        28\n",
            "          37       1.00      0.82      0.90        33\n",
            "          38       0.80      0.50      0.62        24\n",
            "          39       0.67      0.55      0.60        22\n",
            "          40       0.83      0.92      0.87        26\n",
            "          41       0.86      0.89      0.87        35\n",
            "          42       1.00      0.81      0.89        21\n",
            "          43       0.93      0.87      0.90        30\n",
            "          44       0.92      0.86      0.89        28\n",
            "          45       0.73      0.86      0.79        22\n",
            "          46       0.82      0.95      0.88        19\n",
            "          47       0.94      0.94      0.94        31\n",
            "          48       0.89      0.86      0.88        29\n",
            "          49       0.97      0.82      0.89        38\n",
            "\n",
            "    accuracy                           0.84      1400\n",
            "   macro avg       0.84      0.84      0.83      1400\n",
            "weighted avg       0.85      0.84      0.84      1400\n",
            "\n"
          ]
        }
      ]
    },
    {
      "cell_type": "code",
      "source": [
        "# worst recall on 15 (water drops), 38 (clock tick), 39 (glass breaking)\n",
        "print(model3.predict(X_test3[np.where(y_test3.argmax(axis = 1) == 15)]).argmax(axis = 1), end = \"\\n\\n\")"
      ],
      "metadata": {
        "colab": {
          "base_uri": "https://localhost:8080/"
        },
        "id": "fpF2FuroZcQT",
        "outputId": "d4fb2cdd-fbd1-44b3-bc86-95389eb9cfeb"
      },
      "execution_count": 68,
      "outputs": [
        {
          "output_type": "stream",
          "name": "stdout",
          "text": [
            "2/2 [==============================] - 1s 441ms/step\n",
            "[13  4 38 15 31 15  4 37  6 38 38 34 26  4 15 24 38 38 34 39 13 49 34 34\n",
            " 24 15 19 49 16  4 15  1 29 19 31 15]\n",
            "\n"
          ]
        }
      ]
    },
    {
      "cell_type": "code",
      "source": [
        "# HUGE MODEL ON SAME DATA\n",
        "with tpu_strategy.scope():\n",
        "    # LSTM - complete with model definition, summary, fit and plots.\n",
        "    model_bidirectional = keras.models.Sequential()\n",
        "    model_bidirectional.add(keras.Input(shape = (1, 60)))\n",
        "    model_bidirectional.add(keras.layers.Bidirectional(keras.layers.LSTM(1024,\n",
        "                                                                        return_sequences = True)))\n",
        "    model_bidirectional.add(keras.layers.Dropout(0.2))\n",
        "    model_bidirectional.add(keras.layers.Bidirectional(keras.layers.LSTM(2048,\n",
        "                                                                        return_sequences = True)))\n",
        "    model_bidirectional.add(keras.layers.Dropout(0.2))\n",
        "    model_bidirectional.add(keras.layers.Bidirectional(keras.layers.LSTM(3036,\n",
        "                                                                        return_sequences = False)))\n",
        "    model_bidirectional.add(keras.layers.Dropout(0.2))  \n",
        "    model_bidirectional.add(keras.layers.Flatten())         \n",
        "    model_bidirectional.add(keras.layers.Dense(50, activation=\"softmax\"))\n",
        "\n",
        "    model_bidirectional.compile(loss = \"categorical_crossentropy\",\n",
        "                                optimizer = tf.keras.optimizers.Adam(learning_rate = 1e-3),\n",
        "                                metrics=[\"accuracy\"])\n",
        "    \n",
        "print(model_bidirectional.summary())"
      ],
      "metadata": {
        "colab": {
          "base_uri": "https://localhost:8080/"
        },
        "id": "YhTIZmTqD5SB",
        "outputId": "53c112f5-7243-46a3-91d5-67900d49a337"
      },
      "execution_count": 61,
      "outputs": [
        {
          "output_type": "stream",
          "name": "stdout",
          "text": [
            "Model: \"sequential_3\"\n",
            "_________________________________________________________________\n",
            " Layer (type)                Output Shape              Param #   \n",
            "=================================================================\n",
            " bidirectional_3 (Bidirectio  (None, 1, 2048)          8888320   \n",
            " nal)                                                            \n",
            "                                                                 \n",
            " dropout_9 (Dropout)         (None, 1, 2048)           0         \n",
            "                                                                 \n",
            " bidirectional_4 (Bidirectio  (None, 1, 4096)          67125248  \n",
            " nal)                                                            \n",
            "                                                                 \n",
            " dropout_10 (Dropout)        (None, 1, 4096)           0         \n",
            "                                                                 \n",
            " bidirectional_5 (Bidirectio  (None, 6072)             173246304 \n",
            " nal)                                                            \n",
            "                                                                 \n",
            " dropout_11 (Dropout)        (None, 6072)              0         \n",
            "                                                                 \n",
            " flatten_3 (Flatten)         (None, 6072)              0         \n",
            "                                                                 \n",
            " dense_12 (Dense)            (None, 50)                303650    \n",
            "                                                                 \n",
            "=================================================================\n",
            "Total params: 249,563,522\n",
            "Trainable params: 249,563,522\n",
            "Non-trainable params: 0\n",
            "_________________________________________________________________\n",
            "None\n"
          ]
        }
      ]
    },
    {
      "cell_type": "code",
      "source": [
        "HST3huge = model_bidirectional.fit(X_train3, y_train3,\n",
        "                                   epochs = 200,\n",
        "                                   batch_size = BATCH_SIZE3,\n",
        "                                   validation_data = (X_valid3, y_valid3),\n",
        "                                   verbose = 0,\n",
        "                                   callbacks = [keras.callbacks.EarlyStopping(monitor = \"val_accuracy\",\n",
        "                                                                              patience = 10)])"
      ],
      "metadata": {
        "id": "3LOfsMpKEBD6"
      },
      "execution_count": 62,
      "outputs": []
    },
    {
      "cell_type": "code",
      "source": [
        "fig4, ax4 = plt.subplots(1, 2, figsize = (14, 4))\n",
        "evaluation.plot_loss(HST3huge, axis = ax4[0])\n",
        "evaluation.plot_accuracy(HST3huge, axis = ax4[1])\n",
        "print()\n",
        "scores3huge = model_bidirectional.evaluate(X_test3, y_test3, verbose = 2)\n",
        "print(\"=\"*71)\n",
        "print(\"Accuracy on test: {:.2f}%\".format(scores3huge[1]*100))\n",
        "print(\"Memory used: {:.1f} Mb\".format(\n",
        "        evaluation.keras_model_memory_usage_in_bytes(model = model_bidirectional,\n",
        "                                                     batch_size = BATCH_SIZE3)/1e6))\n",
        "\n",
        "plt.show()\n",
        "#plt.savefig(\"RNN-1x60_250M_params.jpg\", dpi = 300)"
      ],
      "metadata": {
        "colab": {
          "base_uri": "https://localhost:8080/",
          "height": 368
        },
        "id": "K_up9uWxEMPY",
        "outputId": "de1f415b-629c-482e-d35b-851f2521ff98"
      },
      "execution_count": 78,
      "outputs": [
        {
          "output_type": "stream",
          "name": "stdout",
          "text": [
            "\n",
            "44/44 - 1s - loss: 0.4229 - accuracy: 0.8950 - 986ms/epoch - 22ms/step\n",
            "=======================================================================\n",
            "Accuracy on test: 89.50%\n",
            "Memory used: 261.8 Mb\n"
          ]
        },
        {
          "output_type": "display_data",
          "data": {
            "text/plain": [
              "<Figure size 1008x288 with 2 Axes>"
            ],
            "image/png": "[encoded data removed]"
          },
          "metadata": {
            "needs_background": "light"
          }
        }
      ]
    },
    {
      "cell_type": "code",
      "source": [
        "print(classification_report(y_test3.argmax(axis = 1),\n",
        "                            model_bidirectional.predict(X_test3).argmax(axis = 1)))"
      ],
      "metadata": {
        "colab": {
          "base_uri": "https://localhost:8080/"
        },
        "id": "f_uT3jiLGHo1",
        "outputId": "04f5a349-8d53-4bde-c320-88ff72c59bd3"
      },
      "execution_count": 64,
      "outputs": [
        {
          "output_type": "stream",
          "name": "stdout",
          "text": [
            "44/44 [==============================] - 5s 62ms/step\n",
            "              precision    recall  f1-score   support\n",
            "\n",
            "           0       0.94      0.89      0.91        35\n",
            "           1       0.92      0.97      0.94        35\n",
            "           2       0.86      0.97      0.91        33\n",
            "           3       0.92      0.97      0.94        34\n",
            "           4       0.90      0.97      0.93        29\n",
            "           5       0.88      0.77      0.82        30\n",
            "           6       0.86      0.91      0.89        34\n",
            "           7       0.68      0.84      0.75        25\n",
            "           8       0.93      0.89      0.91        28\n",
            "           9       0.87      0.91      0.89        22\n",
            "          10       0.85      0.92      0.88        24\n",
            "          11       0.93      1.00      0.96        25\n",
            "          12       0.91      1.00      0.95        30\n",
            "          13       0.95      0.95      0.95        19\n",
            "          14       0.91      0.94      0.92        31\n",
            "          15       0.97      0.83      0.90        36\n",
            "          16       0.93      0.96      0.95        28\n",
            "          17       0.91      0.81      0.86        26\n",
            "          18       0.96      0.93      0.95        29\n",
            "          19       0.94      0.97      0.96        35\n",
            "          20       0.83      0.96      0.89        26\n",
            "          21       0.87      0.87      0.87        23\n",
            "          22       0.97      1.00      0.99        38\n",
            "          23       1.00      0.82      0.90        22\n",
            "          24       1.00      0.86      0.93        29\n",
            "          25       0.95      0.95      0.95        22\n",
            "          26       0.90      0.90      0.90        30\n",
            "          27       0.90      0.90      0.90        21\n",
            "          28       0.95      0.84      0.89        25\n",
            "          29       0.70      0.90      0.79        29\n",
            "          30       0.91      0.95      0.93        21\n",
            "          31       0.78      0.82      0.80        22\n",
            "          32       0.92      0.80      0.86        30\n",
            "          33       0.94      0.94      0.94        33\n",
            "          34       0.95      0.83      0.89        24\n",
            "          35       0.92      0.77      0.84        31\n",
            "          36       1.00      0.89      0.94        28\n",
            "          37       1.00      0.79      0.88        33\n",
            "          38       0.94      0.71      0.81        24\n",
            "          39       0.84      0.95      0.89        22\n",
            "          40       0.91      0.81      0.86        26\n",
            "          41       0.82      0.91      0.86        35\n",
            "          42       1.00      0.67      0.80        21\n",
            "          43       0.93      0.90      0.92        30\n",
            "          44       0.84      0.96      0.90        28\n",
            "          45       0.83      0.91      0.87        22\n",
            "          46       0.86      0.95      0.90        19\n",
            "          47       0.94      0.94      0.94        31\n",
            "          48       0.71      0.86      0.78        29\n",
            "          49       0.85      0.87      0.86        38\n",
            "\n",
            "    accuracy                           0.90      1400\n",
            "   macro avg       0.90      0.89      0.89      1400\n",
            "weighted avg       0.90      0.90      0.90      1400\n",
            "\n"
          ]
        }
      ]
    },
    {
      "cell_type": "markdown",
      "source": [
        "## 4. LSTM with GRU"
      ],
      "metadata": {
        "id": "1UmKx6HSlPV5"
      }
    },
    {
      "cell_type": "code",
      "source": [
        "with tpu_strategy.scope():\n",
        "    #Considering the GRU layer\n",
        "    model_bidirectional2 = keras.models.Sequential()\n",
        "    model_bidirectional2.add(keras.Input(shape = (1, 60)))\n",
        "    model_bidirectional2.add(keras.layers.GRU(256, return_sequences = True))\n",
        "    model_bidirectional2.add(keras.layers.Bidirectional(keras.layers.LSTM(1024, return_sequences = True)))\n",
        "    model_bidirectional2.add(keras.layers.Dropout(0.2))\n",
        "    model_bidirectional2.add(keras.layers.Bidirectional(keras.layers.LSTM(2048, return_sequences = True)))\n",
        "    model_bidirectional2.add(keras.layers.Dropout(0.2))\n",
        "    model_bidirectional2.add(keras.layers.GRU(512, return_sequences = False))\n",
        "    model_bidirectional2.add(keras.layers.Dropout(0.2))  \n",
        "    model_bidirectional2.add(keras.layers.Flatten())         \n",
        "    model_bidirectional2.add(keras.layers.Dense(50, activation=\"softmax\"))\n",
        "\n",
        "    model_bidirectional2.compile(loss = \"categorical_crossentropy\",\n",
        "                                 optimizer = tf.keras.optimizers.Adam(learning_rate = 0.001),\n",
        "                                 metrics = [\"accuracy\"])\n",
        "    \n",
        "print(model_bidirectional2.summary())"
      ],
      "metadata": {
        "colab": {
          "base_uri": "https://localhost:8080/"
        },
        "id": "BfuqP-yfGLyd",
        "outputId": "68d19049-4934-44d8-c8a7-8f0aebf8762c"
      },
      "execution_count": 53,
      "outputs": [
        {
          "output_type": "stream",
          "name": "stdout",
          "text": [
            "Model: \"sequential_4\"\n",
            "_________________________________________________________________\n",
            " Layer (type)                Output Shape              Param #   \n",
            "=================================================================\n",
            " gru_1 (GRU)                 (None, 1, 256)            244224    \n",
            "                                                                 \n",
            " bidirectional_6 (Bidirectio  (None, 1, 2048)          10493952  \n",
            " nal)                                                            \n",
            "                                                                 \n",
            " dropout_12 (Dropout)        (None, 1, 2048)           0         \n",
            "                                                                 \n",
            " bidirectional_7 (Bidirectio  (None, 1, 4096)          67125248  \n",
            " nal)                                                            \n",
            "                                                                 \n",
            " dropout_13 (Dropout)        (None, 1, 4096)           0         \n",
            "                                                                 \n",
            " gru_2 (GRU)                 (None, 512)               7080960   \n",
            "                                                                 \n",
            " dropout_14 (Dropout)        (None, 512)               0         \n",
            "                                                                 \n",
            " flatten_4 (Flatten)         (None, 512)               0         \n",
            "                                                                 \n",
            " dense_13 (Dense)            (None, 50)                25650     \n",
            "                                                                 \n",
            "=================================================================\n",
            "Total params: 84,970,034\n",
            "Trainable params: 84,970,034\n",
            "Non-trainable params: 0\n",
            "_________________________________________________________________\n",
            "None\n"
          ]
        }
      ]
    },
    {
      "cell_type": "code",
      "source": [
        "HST4huge = model_bidirectional2.fit(X_train3, y_train3,\n",
        "                                    epochs = 200,\n",
        "                                    batch_size = BATCH_SIZE3,\n",
        "                                    validation_data = (X_valid3, y_valid3),\n",
        "                                    verbose = 0,\n",
        "                                    callbacks = [keras.callbacks.EarlyStopping(monitor = \"val_accuracy\",\n",
        "                                                                               patience = 10)])"
      ],
      "metadata": {
        "id": "BoRHR6-JGO6L"
      },
      "execution_count": 55,
      "outputs": []
    },
    {
      "cell_type": "code",
      "source": [
        "fig5, ax5 = plt.subplots(1, 2, figsize = (14, 4))\n",
        "evaluation.plot_loss(HST4huge, axis = ax5[0])\n",
        "evaluation.plot_accuracy(HST4huge, axis = ax5[1])\n",
        "print()\n",
        "scores4 = model_bidirectional2.evaluate(X_test3, y_test3, verbose = 2)\n",
        "print(\"=\"*71)\n",
        "print(\"Accuracy on test: {:.2f}%\".format(scores4[1]*100))\n",
        "print(\"Memory used: {:.1f} Mb\".format(\n",
        "        evaluation.keras_model_memory_usage_in_bytes(model = model_bidirectional2,\n",
        "                                                     batch_size = BATCH_SIZE3)/1e6))\n",
        "\n",
        "plt.show()\n",
        "#plt.savefig(\"RNN-1x60_GRU_85M_params.jpg\", dpi = 300)"
      ],
      "metadata": {
        "colab": {
          "base_uri": "https://localhost:8080/",
          "height": 368
        },
        "id": "dfIBbrNqGYKl",
        "outputId": "ce7a325f-5ee9-4162-a071-e2b602b644b6"
      },
      "execution_count": 57,
      "outputs": [
        {
          "output_type": "stream",
          "name": "stdout",
          "text": [
            "\n",
            "44/44 - 1s - loss: 0.4092 - accuracy: 0.8814 - 813ms/epoch - 18ms/step\n",
            "=======================================================================\n",
            "Accuracy on test: 88.14%\n",
            "Memory used: 90.6 Mb\n"
          ]
        },
        {
          "output_type": "display_data",
          "data": {
            "text/plain": [
              "<Figure size 1008x288 with 2 Axes>"
            ],
            "image/png": "[encoded data removed]"
          },
          "metadata": {
            "needs_background": "light"
          }
        }
      ]
    },
    {
      "cell_type": "code",
      "source": [
        "print(classification_report(y_test3.argmax(axis = 1),\n",
        "                            model_bidirectional2.predict(X_test3).argmax(axis = 1)))"
      ],
      "metadata": {
        "id": "8qY1yVYyGKG3"
      },
      "execution_count": null,
      "outputs": []
    },
    {
      "cell_type": "code",
      "source": [
        "#saving the model\n",
        "#from keras.models import save_model\n",
        "\n",
        "#save_model(model_bidirectional2, \"model_bidirectional2.h5\")"
      ],
      "metadata": {
        "id": "qjc8IqPu68li"
      },
      "execution_count": 59,
      "outputs": []
    },
    {
      "cell_type": "markdown",
      "source": [
        "## Adversarial attacks"
      ],
      "metadata": {
        "id": "5-R6OX12BXOT"
      }
    },
    {
      "cell_type": "code",
      "source": [
        "with tpu_strategy.scope():\n",
        "    #Considering the GRU layer\n",
        "    best_model = keras.models.Sequential()\n",
        "    best_model.add(keras.Input(shape = (1, 60)))\n",
        "    best_model.add(keras.layers.GRU(256, return_sequences = True))\n",
        "    best_model.add(keras.layers.Bidirectional(keras.layers.LSTM(1024, return_sequences = True)))\n",
        "    best_model.add(keras.layers.Dropout(0.2))\n",
        "    best_model.add(keras.layers.Bidirectional(keras.layers.LSTM(2048, return_sequences = True)))\n",
        "    best_model.add(keras.layers.Dropout(0.2))\n",
        "    best_model.add(keras.layers.GRU(512, return_sequences = False))\n",
        "    best_model.add(keras.layers.Dropout(0.2))  \n",
        "    best_model.add(keras.layers.Flatten())         \n",
        "    best_model.add(keras.layers.Dense(50))\n",
        "    best_model.add(tf.keras.layers.Activation(tf.nn.softmax)) # separate activation\n",
        "\n",
        "    best_model.compile(loss = \"sparse_categorical_crossentropy\",\n",
        "                       optimizer = tf.keras.optimizers.Adam(learning_rate = 0.001),\n",
        "                       metrics = [\"accuracy\"])"
      ],
      "metadata": {
        "id": "ADcRxkzwBmIB"
      },
      "execution_count": 20,
      "outputs": []
    },
    {
      "cell_type": "code",
      "source": [
        "best_model.fit(X_train3, y_train3.argmax(axis = 1),\n",
        "               epochs = 200, batch_size = 100, verbose = 0,\n",
        "               validation_data = (X_valid3, y_valid3.argmax(axis = 1)),\n",
        "               callbacks = [keras.callbacks.EarlyStopping(monitor = \"val_accuracy\",\n",
        "                                                          patience = 10)])"
      ],
      "metadata": {
        "colab": {
          "base_uri": "https://localhost:8080/"
        },
        "id": "yKl_r2dREsLB",
        "outputId": "012451b6-19a1-4936-e30a-a263c722182b"
      },
      "execution_count": 29,
      "outputs": [
        {
          "output_type": "execute_result",
          "data": {
            "text/plain": [
              "<keras.callbacks.History at 0x7f73c80d9c40>"
            ]
          },
          "metadata": {},
          "execution_count": 29
        }
      ]
    },
    {
      "cell_type": "code",
      "source": [
        "try:\n",
        "  import cleverhans\n",
        "except:\n",
        "  # Install bleeding edge version of cleverhans\n",
        "  !pip install git+https://github.com/CNOCycle/cleverhans.git@feature/tf2.x\n",
        "  import cleverhans"
      ],
      "metadata": {
        "id": "yQgEPBhcB84y"
      },
      "execution_count": 8,
      "outputs": []
    },
    {
      "cell_type": "code",
      "source": [
        "print(\"\\nTensorflow Version: \" + tf.__version__)\n",
        "print(\"Cleverhans Version: \" + cleverhans.__version__)\n",
        "print(\"GPU Available: \", tf.test.is_gpu_available())"
      ],
      "metadata": {
        "colab": {
          "base_uri": "https://localhost:8080/"
        },
        "id": "gkN1GyimB-UA",
        "outputId": "8aea4276-110d-4cf9-f8df-79df8affb1d0"
      },
      "execution_count": 30,
      "outputs": [
        {
          "output_type": "stream",
          "name": "stdout",
          "text": [
            "\n",
            "Tensorflow Version: 2.11.0\n",
            "Cleverhans Version: 3.0.1-4f6bf54f63245e74e916ddde75918c0a\n",
            "GPU Available:  False\n"
          ]
        }
      ]
    },
    {
      "cell_type": "code",
      "source": [
        "# Import the attack\n",
        "from cleverhans.future.tf2.attacks import fast_gradient_method\n",
        "\n",
        "#The attack requires the model to ouput the logits\n",
        "logits_model = tf.keras.Model(best_model.input,\n",
        "                              best_model.layers[-1].output)\n",
        "\n",
        "random_index = np.random.randint(X_test3.shape[0])\n",
        "\n",
        "original_audio = X_test3[random_index]\n",
        "#The .reshape just gives it the proper form to input into the model, a batch of 1 a.k.a a tensor\n",
        "original_audio = tf.convert_to_tensor(original_audio.reshape((-1, 1, 60)))\n",
        "\n",
        "original_label = y_test3[random_index].argmax()\n",
        "# Give label proper shape and type for cleverhans\n",
        "original_label = np.reshape(original_label, (1,)).astype('int64')\n",
        "\n",
        "epsilon = 0.1\n",
        "adv_example_untargeted_label = fast_gradient_method(logits_model, original_audio,\n",
        "                                                    epsilon, np.inf, targeted=False)\n",
        "adv_pred = best_model.predict(adv_example_untargeted_label)\n",
        "adv_pred_class = np.argmax(adv_pred, axis=1)\n",
        "print(\"Adversarial example predicted class:\", adv_pred_class)\n",
        "\n",
        "epsilon = 0.1\n",
        "# The target value may have to be changed to work, some inputs\n",
        "# are more easily missclassified as different labels\n",
        "target = 2\n",
        "\n",
        "# Give target label proper size and dtype to feed through\n",
        "adv_label = np.reshape(target, (1,)).astype('int64')\n",
        "adv_label_one_hot = tf.one_hot(adv_label, depth = 50)\n",
        "adv_example_targeted_label = fast_gradient_method(logits_model, original_audio, epsilon,\n",
        "                                                  np.inf, y = y_test3.argmax(axis = 1),\n",
        "                                                  targeted=True)\n",
        "adv_pred_label = best_model.predict(adv_example_targeted_label)\n",
        "\n",
        "#Without the labels we cannot compute this\n",
        "adv_loss, adv_acc = best_model.evaluate(adv_example_untargeted_label,\n",
        "                                        adv_label_one_hot)\n",
        "print(\"Adversarial example accuracy:\", adv_acc)"
      ],
      "metadata": {
        "id": "nwCfq0-7BZGe"
      },
      "execution_count": null,
      "outputs": []
    }
  ]
}