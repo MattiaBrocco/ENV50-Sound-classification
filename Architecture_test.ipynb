{
  "nbformat": 4,
  "nbformat_minor": 0,
  "metadata": {
    "colab": {
      "provenance": [],
      "collapsed_sections": [
        "ge0BK2cdh0oV"
      ],
      "toc_visible": true,
      "machine_shape": "hm"
    },
    "kernelspec": {
      "name": "python3",
      "display_name": "Python 3"
    },
    "language_info": {
      "name": "python"
    },
    "accelerator": "TPU",
    "gpuClass": "standard"
  },
  "cells": [
    {
      "cell_type": "code",
      "execution_count": 1,
      "metadata": {
        "colab": {
          "base_uri": "https://localhost:8080/"
        },
        "id": "JbVTCBy-fTYF",
        "outputId": "6e8b238d-915d-4fe1-90e3-9cfef7c5a973"
      },
      "outputs": [
        {
          "output_type": "stream",
          "name": "stdout",
          "text": [
            "Mounted at /content/drive\n",
            "/content/drive/MyDrive/Environmental-sounds-UNIPD-2022\n"
          ]
        }
      ],
      "source": [
        "from google.colab import drive\n",
        "drive.mount(\"/content/drive\")\n",
        "\n",
        "%cd /content/drive/MyDrive/Environmental-sounds-UNIPD-2022"
      ]
    },
    {
      "cell_type": "code",
      "source": [
        "import os\n",
        "import sys\n",
        "import torch\n",
        "import librosa\n",
        "import matplotlib\n",
        "import numpy as np\n",
        "import pandas as pd\n",
        "import seaborn as sns\n",
        "import tensorflow as tf\n",
        "from librosa import display\n",
        "from scipy.io import wavfile\n",
        "from tensorflow import keras\n",
        "import IPython.display as ipd\n",
        "import matplotlib.pyplot as plt\n",
        "\n",
        "from sklearn.metrics import confusion_matrix\n",
        "from sklearn.metrics import classification_report\n",
        "\n",
        "import evaluation\n",
        "import CNN_support as cnns\n",
        "from gng import GrowingNeuralGas\n",
        "\n",
        "%load_ext autoreload\n",
        "%autoreload 2"
      ],
      "metadata": {
        "id": "J-XNutXWfYJH"
      },
      "execution_count": 2,
      "outputs": []
    },
    {
      "cell_type": "code",
      "source": [
        "#reading the csv file\n",
        "data = pd.read_csv('./data/meta/esc50.csv')\n",
        "data.head()"
      ],
      "metadata": {
        "colab": {
          "base_uri": "https://localhost:8080/",
          "height": 206
        },
        "id": "nBxm8nabfZFH",
        "outputId": "d000ca4c-007b-4640-e1de-d38402aa11a9"
      },
      "execution_count": 3,
      "outputs": [
        {
          "output_type": "execute_result",
          "data": {
            "text/plain": [
              "            filename  fold  target        category  esc10  src_file take\n",
              "0   1-100032-A-0.wav     1       0             dog   True    100032    A\n",
              "1  1-100038-A-14.wav     1      14  chirping_birds  False    100038    A\n",
              "2  1-100210-A-36.wav     1      36  vacuum_cleaner  False    100210    A\n",
              "3  1-100210-B-36.wav     1      36  vacuum_cleaner  False    100210    B\n",
              "4  1-101296-A-19.wav     1      19    thunderstorm  False    101296    A"
            ],
            "text/html": [
              "\n",
              "  <div id=\"df-3b01af4c-ddc4-4d7d-9ea3-442b79fab29e\">\n",
              "    <div class=\"colab-df-container\">\n",
              "      <div>\n",
              "<style scoped>\n",
              "    .dataframe tbody tr th:only-of-type {\n",
              "        vertical-align: middle;\n",
              "    }\n",
              "\n",
              "    .dataframe tbody tr th {\n",
              "        vertical-align: top;\n",
              "    }\n",
              "\n",
              "    .dataframe thead th {\n",
              "        text-align: right;\n",
              "    }\n",
              "</style>\n",
              "<table border=\"1\" class=\"dataframe\">\n",
              "  <thead>\n",
              "    <tr style=\"text-align: right;\">\n",
              "      <th></th>\n",
              "      <th>filename</th>\n",
              "      <th>fold</th>\n",
              "      <th>target</th>\n",
              "      <th>category</th>\n",
              "      <th>esc10</th>\n",
              "      <th>src_file</th>\n",
              "      <th>take</th>\n",
              "    </tr>\n",
              "  </thead>\n",
              "  <tbody>\n",
              "    <tr>\n",
              "      <th>0</th>\n",
              "      <td>1-100032-A-0.wav</td>\n",
              "      <td>1</td>\n",
              "      <td>0</td>\n",
              "      <td>dog</td>\n",
              "      <td>True</td>\n",
              "      <td>100032</td>\n",
              "      <td>A</td>\n",
              "    </tr>\n",
              "    <tr>\n",
              "      <th>1</th>\n",
              "      <td>1-100038-A-14.wav</td>\n",
              "      <td>1</td>\n",
              "      <td>14</td>\n",
              "      <td>chirping_birds</td>\n",
              "      <td>False</td>\n",
              "      <td>100038</td>\n",
              "      <td>A</td>\n",
              "    </tr>\n",
              "    <tr>\n",
              "      <th>2</th>\n",
              "      <td>1-100210-A-36.wav</td>\n",
              "      <td>1</td>\n",
              "      <td>36</td>\n",
              "      <td>vacuum_cleaner</td>\n",
              "      <td>False</td>\n",
              "      <td>100210</td>\n",
              "      <td>A</td>\n",
              "    </tr>\n",
              "    <tr>\n",
              "      <th>3</th>\n",
              "      <td>1-100210-B-36.wav</td>\n",
              "      <td>1</td>\n",
              "      <td>36</td>\n",
              "      <td>vacuum_cleaner</td>\n",
              "      <td>False</td>\n",
              "      <td>100210</td>\n",
              "      <td>B</td>\n",
              "    </tr>\n",
              "    <tr>\n",
              "      <th>4</th>\n",
              "      <td>1-101296-A-19.wav</td>\n",
              "      <td>1</td>\n",
              "      <td>19</td>\n",
              "      <td>thunderstorm</td>\n",
              "      <td>False</td>\n",
              "      <td>101296</td>\n",
              "      <td>A</td>\n",
              "    </tr>\n",
              "  </tbody>\n",
              "</table>\n",
              "</div>\n",
              "      <button class=\"colab-df-convert\" onclick=\"convertToInteractive('df-3b01af4c-ddc4-4d7d-9ea3-442b79fab29e')\"\n",
              "              title=\"Convert this dataframe to an interactive table.\"\n",
              "              style=\"display:none;\">\n",
              "        \n",
              "  <svg xmlns=\"http://www.w3.org/2000/svg\" height=\"24px\"viewBox=\"0 0 24 24\"\n",
              "       width=\"24px\">\n",
              "    <path d=\"M0 0h24v24H0V0z\" fill=\"none\"/>\n",
              "    <path d=\"M18.56 5.44l.94 2.06.94-2.06 2.06-.94-2.06-.94-.94-2.06-.94 2.06-2.06.94zm-11 1L8.5 8.5l.94-2.06 2.06-.94-2.06-.94L8.5 2.5l-.94 2.06-2.06.94zm10 10l.94 2.06.94-2.06 2.06-.94-2.06-.94-.94-2.06-.94 2.06-2.06.94z\"/><path d=\"M17.41 7.96l-1.37-1.37c-.4-.4-.92-.59-1.43-.59-.52 0-1.04.2-1.43.59L10.3 9.45l-7.72 7.72c-.78.78-.78 2.05 0 2.83L4 21.41c.39.39.9.59 1.41.59.51 0 1.02-.2 1.41-.59l7.78-7.78 2.81-2.81c.8-.78.8-2.07 0-2.86zM5.41 20L4 18.59l7.72-7.72 1.47 1.35L5.41 20z\"/>\n",
              "  </svg>\n",
              "      </button>\n",
              "      \n",
              "  <style>\n",
              "    .colab-df-container {\n",
              "      display:flex;\n",
              "      flex-wrap:wrap;\n",
              "      gap: 12px;\n",
              "    }\n",
              "\n",
              "    .colab-df-convert {\n",
              "      background-color: #E8F0FE;\n",
              "      border: none;\n",
              "      border-radius: 50%;\n",
              "      cursor: pointer;\n",
              "      display: none;\n",
              "      fill: #1967D2;\n",
              "      height: 32px;\n",
              "      padding: 0 0 0 0;\n",
              "      width: 32px;\n",
              "    }\n",
              "\n",
              "    .colab-df-convert:hover {\n",
              "      background-color: #E2EBFA;\n",
              "      box-shadow: 0px 1px 2px rgba(60, 64, 67, 0.3), 0px 1px 3px 1px rgba(60, 64, 67, 0.15);\n",
              "      fill: #174EA6;\n",
              "    }\n",
              "\n",
              "    [theme=dark] .colab-df-convert {\n",
              "      background-color: #3B4455;\n",
              "      fill: #D2E3FC;\n",
              "    }\n",
              "\n",
              "    [theme=dark] .colab-df-convert:hover {\n",
              "      background-color: #434B5C;\n",
              "      box-shadow: 0px 1px 3px 1px rgba(0, 0, 0, 0.15);\n",
              "      filter: drop-shadow(0px 1px 2px rgba(0, 0, 0, 0.3));\n",
              "      fill: #FFFFFF;\n",
              "    }\n",
              "  </style>\n",
              "\n",
              "      <script>\n",
              "        const buttonEl =\n",
              "          document.querySelector('#df-3b01af4c-ddc4-4d7d-9ea3-442b79fab29e button.colab-df-convert');\n",
              "        buttonEl.style.display =\n",
              "          google.colab.kernel.accessAllowed ? 'block' : 'none';\n",
              "\n",
              "        async function convertToInteractive(key) {\n",
              "          const element = document.querySelector('#df-3b01af4c-ddc4-4d7d-9ea3-442b79fab29e');\n",
              "          const dataTable =\n",
              "            await google.colab.kernel.invokeFunction('convertToInteractive',\n",
              "                                                     [key], {});\n",
              "          if (!dataTable) return;\n",
              "\n",
              "          const docLinkHtml = 'Like what you see? Visit the ' +\n",
              "            '<a target=\"_blank\" href=https://colab.research.google.com/notebooks/data_table.ipynb>data table notebook</a>'\n",
              "            + ' to learn more about interactive tables.';\n",
              "          element.innerHTML = '';\n",
              "          dataTable['output_type'] = 'display_data';\n",
              "          await google.colab.output.renderOutput(dataTable, element);\n",
              "          const docLink = document.createElement('div');\n",
              "          docLink.innerHTML = docLinkHtml;\n",
              "          element.appendChild(docLink);\n",
              "        }\n",
              "      </script>\n",
              "    </div>\n",
              "  </div>\n",
              "  "
            ]
          },
          "metadata": {},
          "execution_count": 3
        }
      ]
    },
    {
      "cell_type": "code",
      "source": [
        "# Identify and select the TPU\n",
        "try:\n",
        "  tpu = tf.distribute.cluster_resolver.TPUClusterResolver()  # TPU detection\n",
        "  tf.config.experimental_connect_to_cluster(tpu)\n",
        "  tf.tpu.experimental.initialize_tpu_system(tpu)\n",
        "  tpu_strategy = tf.distribute.TPUStrategy(tpu)\n",
        "except:\n",
        "  print(\"TPU not found\")"
      ],
      "metadata": {
        "id": "7r3nVCBZvg4W"
      },
      "execution_count": 6,
      "outputs": []
    },
    {
      "cell_type": "markdown",
      "source": [
        "## 1. RNN with 60x431 input"
      ],
      "metadata": {
        "id": "ppfLu_Nafr05"
      }
    },
    {
      "cell_type": "code",
      "source": [
        "X1 = pd.read_parquet(\".//data/X_RNN_60x431_8times.parquet\")\n",
        "y1 = pd.read_parquet(\".//data/y_RNN_60x431_8times.parquet\")\n",
        "\n",
        "X1 = X1.values.reshape(len(X1), 60, 431)\n",
        "y1 = y1.values"
      ],
      "metadata": {
        "id": "_IgYRaNbf9Iz"
      },
      "execution_count": 4,
      "outputs": []
    },
    {
      "cell_type": "code",
      "source": [
        "from sklearn.model_selection import train_test_split\n",
        "\n",
        "X_train1, X_test1, y_train1, y_test1 = train_test_split(X1, y1, train_size = .75,\n",
        "                                                        random_state = 42, shuffle = True)\n",
        "X_train1, X_valid1, y_train1, y_valid1 = train_test_split(X_train1, y_train1, train_size = .8,\n",
        "                                                          random_state = 42, shuffle = True)\n",
        "\n",
        "# one hot encoding of categories\n",
        "y_train1 = tf.keras.utils.to_categorical(y_train1)\n",
        "y_valid1 = tf.keras.utils.to_categorical(y_valid1)\n",
        "y_test1 = tf.keras.utils.to_categorical(y_test1)\n",
        "\n",
        "print(\"Training examples: {}\".format(y_train1.shape[0]))\n",
        "print(\"Validation examples: {}\".format(y_valid1.shape[0]))\n",
        "print(\"Test examples: {}\".format(y_test1.shape[0]))\n",
        "print()\n",
        "print(\"Input shape: {}\".format(X_train1[0].shape))"
      ],
      "metadata": {
        "colab": {
          "base_uri": "https://localhost:8080/"
        },
        "id": "XN3eX1ACfpR2",
        "outputId": "0a328bbd-a503-46b0-a569-7d5e64a54387"
      },
      "execution_count": 5,
      "outputs": [
        {
          "output_type": "stream",
          "name": "stdout",
          "text": [
            "Training examples: 9600\n",
            "Validation examples: 2400\n",
            "Test examples: 4000\n",
            "\n",
            "Input shape: (60, 431)\n"
          ]
        }
      ]
    },
    {
      "cell_type": "code",
      "source": [
        "BATCH_SIZE1 = 100"
      ],
      "metadata": {
        "id": "D31M3Y6Xg22D"
      },
      "execution_count": 7,
      "outputs": []
    },
    {
      "cell_type": "code",
      "source": [
        "with tpu_strategy.scope():\n",
        "  null_model = keras.models.Sequential([keras.Input(shape = (60, 431)),\n",
        "                                        keras.layers.Bidirectional(\n",
        "                                              keras.layers.LSTM(int(431*3),\n",
        "                                                                return_sequences = True)),\n",
        "                                        keras.layers.Flatten(),\n",
        "                                        keras.layers.Dense(400, activation = \"relu\"),\n",
        "                                        keras.layers.Dropout(0.2),\n",
        "                                        keras.layers.Dense(200, activation = \"relu\"),\n",
        "                                        keras.layers.Dropout(0.2),\n",
        "                                        keras.layers.Dense(100, activation = \"relu\"),\n",
        "                                        keras.layers.Dropout(0.2),\n",
        "                                        keras.layers.Dense(50, activation = \"softmax\")])\n",
        "  null_model.compile(loss = \"categorical_crossentropy\",\n",
        "                     optimizer = tf.keras.optimizers.Adam(learning_rate = 1e-3),\n",
        "                     metrics=[\"accuracy\"])\n",
        "\n",
        "print(null_model.summary())"
      ],
      "metadata": {
        "colab": {
          "base_uri": "https://localhost:8080/"
        },
        "id": "tt_j-IJcgqOu",
        "outputId": "ce8b8a8b-e9d5-440c-a906-24a4655e0c90"
      },
      "execution_count": 8,
      "outputs": [
        {
          "output_type": "stream",
          "name": "stdout",
          "text": [
            "Model: \"sequential\"\n",
            "_________________________________________________________________\n",
            " Layer (type)                Output Shape              Param #   \n",
            "=================================================================\n",
            " bidirectional (Bidirectiona  (None, 60, 2586)         17843400  \n",
            " l)                                                              \n",
            "                                                                 \n",
            " flatten (Flatten)           (None, 155160)            0         \n",
            "                                                                 \n",
            " dense (Dense)               (None, 400)               62064400  \n",
            "                                                                 \n",
            " dropout (Dropout)           (None, 400)               0         \n",
            "                                                                 \n",
            " dense_1 (Dense)             (None, 200)               80200     \n",
            "                                                                 \n",
            " dropout_1 (Dropout)         (None, 200)               0         \n",
            "                                                                 \n",
            " dense_2 (Dense)             (None, 100)               20100     \n",
            "                                                                 \n",
            " dropout_2 (Dropout)         (None, 100)               0         \n",
            "                                                                 \n",
            " dense_3 (Dense)             (None, 50)                5050      \n",
            "                                                                 \n",
            "=================================================================\n",
            "Total params: 80,013,150\n",
            "Trainable params: 80,013,150\n",
            "Non-trainable params: 0\n",
            "_________________________________________________________________\n",
            "None\n"
          ]
        }
      ]
    },
    {
      "cell_type": "code",
      "source": [
        "nullHST = null_model.fit(X_train1, y_train1,\n",
        "                         epochs = 100,\n",
        "                         batch_size = BATCH_SIZE1,\n",
        "                         validation_data = (X_valid1, y_valid1),\n",
        "                         verbose = 0,\n",
        "                         callbacks = [keras.callbacks.EarlyStopping(monitor = \"val_accuracy\",\n",
        "                                                                    patience = 10)])"
      ],
      "metadata": {
        "id": "IBJZajssg3WA"
      },
      "execution_count": 9,
      "outputs": []
    },
    {
      "cell_type": "code",
      "source": [
        "# Plot loss\n",
        "fig1, ax1 = plt.subplots(1, 2, figsize = (14, 4))\n",
        "ax1[0].plot(nullHST.history['loss'], label='Train loss')\n",
        "ax1[0].plot(nullHST.history['val_loss'], label='Val loss')\n",
        "ax1[0].legend()\n",
        "ax1[0].set_xlabel('Epoch')\n",
        "ax1[0].set_ylabel('Loss')\n",
        "\n",
        "# Plot accuracy\n",
        "ax1[1].plot(nullHST.history['accuracy'], label='Train accuracy')\n",
        "ax1[1].plot(nullHST.history['val_accuracy'], label='Val accuracy')\n",
        "ax1[1].legend()\n",
        "ax1[1].set_xlabel('Epoch')\n",
        "ax1[1].set_ylabel('Accuracy')\n",
        "ax1[1].set_ylim(0, 1.05)\n",
        "\n",
        "print()\n",
        "scores_NULL1 = null_model.evaluate(X_test1,#.reshape(len(X_test), 1, X_test.shape[1]),\n",
        "                                  y_test1, verbose = 2)\n",
        "print(\"=\"*71)\n",
        "print(\"Accuracy on test: {:.2f}%\".format(scores_NULL1[1]*100))\n",
        "print(\"Memory used: {:.1f} Mb\".format(\n",
        "        evaluation.keras_model_memory_usage_in_bytes(model = null_model,\n",
        "                                                     batch_size = BATCH_SIZE1)/1e6))\n",
        "\n",
        "plt.show()"
      ],
      "metadata": {
        "colab": {
          "base_uri": "https://localhost:8080/",
          "height": 366
        },
        "id": "MCu3m1gMg620",
        "outputId": "6f9569e4-5cc7-4544-a6c0-1292d7a82268"
      },
      "execution_count": 10,
      "outputs": [
        {
          "output_type": "stream",
          "name": "stdout",
          "text": [
            "\n",
            "125/125 - 6s - loss: 2.2000 - accuracy: 0.5133 - 6s/epoch - 48ms/step\n",
            "=======================================================================\n",
            "Accuracy on test: 51.33%\n",
            "Memory used: 204.7 Mb\n"
          ]
        },
        {
          "output_type": "display_data",
          "data": {
            "text/plain": [
              "<Figure size 1008x288 with 2 Axes>"
            ],
            "image/png": "[encoded data removed]"
          },
          "metadata": {
            "needs_background": "light"
          }
        }
      ]
    },
    {
      "cell_type": "markdown",
      "source": [
        "## 2. RNN with 1x431 input"
      ],
      "metadata": {
        "id": "ge0BK2cdh0oV"
      }
    },
    {
      "cell_type": "code",
      "source": [
        "X2 = pd.read_parquet(\".//data/X_RNN_1x431.parquet\")\n",
        "y2 = pd.read_parquet(\".//data/y_RNN_1x431.parquet\")\n",
        "\n",
        "X2 = X2.values.reshape(len(X2), 1, 431)\n",
        "y2 = y2.values\n",
        "\n",
        "\n",
        "from sklearn.model_selection import train_test_split\n",
        "\n",
        "X_train2, X_test2, y_train2, y_test2 = train_test_split(X2, y2, train_size = .75,\n",
        "                                                        random_state = 42, shuffle = True)\n",
        "X_train2, X_valid2, y_train2, y_valid2 = train_test_split(X_train2, y_train2, train_size = .8,\n",
        "                                                          random_state = 42, shuffle = True)\n",
        "\n",
        "# one hot encoding of categories\n",
        "y_train2 = tf.keras.utils.to_categorical(y_train2)\n",
        "y_valid2 = tf.keras.utils.to_categorical(y_valid2)\n",
        "y_test2 = tf.keras.utils.to_categorical(y_test2)\n",
        "\n",
        "print(\"Training examples: {}\".format(y_train2.shape[0]))\n",
        "print(\"Validation examples: {}\".format(y_valid2.shape[0]))\n",
        "print(\"Test examples: {}\".format(y_test2.shape[0]))\n",
        "print()\n",
        "print(\"Input shape: {}\".format(X_train2[0].shape))"
      ],
      "metadata": {
        "colab": {
          "base_uri": "https://localhost:8080/"
        },
        "id": "6Y7jS1c_iAzV",
        "outputId": "87ac141d-d6d0-47f0-a319-e9ffa8285140"
      },
      "execution_count": 38,
      "outputs": [
        {
          "output_type": "stream",
          "name": "stdout",
          "text": [
            "Training examples: 6000\n",
            "Validation examples: 1500\n",
            "Test examples: 2500\n",
            "\n",
            "Input shape: (1, 431)\n"
          ]
        }
      ]
    },
    {
      "cell_type": "code",
      "source": [
        "BATCH_SIZE1 = 100"
      ],
      "metadata": {
        "id": "fDb4dAByiMp2"
      },
      "execution_count": 23,
      "outputs": []
    },
    {
      "cell_type": "code",
      "source": [
        "with tpu_strategy.scope():\n",
        "  model2 = keras.models.Sequential([keras.Input(shape = (1, 431)),\n",
        "                                    keras.layers.Bidirectional(\n",
        "                                              keras.layers.LSTM(int(431*3),\n",
        "                                                                return_sequences = True)),\n",
        "                                    keras.layers.Flatten(),\n",
        "                                    keras.layers.Dense(400, activation = \"relu\"),\n",
        "                                    keras.layers.Dropout(0.2),\n",
        "                                    keras.layers.Dense(200, activation = \"relu\"),\n",
        "                                    keras.layers.Dropout(0.2),\n",
        "                                    keras.layers.Dense(100, activation = \"relu\"),\n",
        "                                    keras.layers.Dropout(0.2),\n",
        "                                    keras.layers.Dense(50, activation = \"softmax\")])\n",
        "  model2.compile(loss = \"categorical_crossentropy\",\n",
        "                 optimizer = tf.keras.optimizers.Adam(learning_rate = 1e-3),\n",
        "                 metrics=[\"accuracy\"])\n",
        "\n",
        "print(model2.summary())"
      ],
      "metadata": {
        "colab": {
          "base_uri": "https://localhost:8080/"
        },
        "id": "d6JGYij4ik30",
        "outputId": "c07b52b0-cb99-4a19-cdcb-300443a05e29"
      },
      "execution_count": 39,
      "outputs": [
        {
          "output_type": "stream",
          "name": "stdout",
          "text": [
            "Model: \"sequential_3\"\n",
            "_________________________________________________________________\n",
            " Layer (type)                Output Shape              Param #   \n",
            "=================================================================\n",
            " bidirectional_2 (Bidirectio  (None, 1, 2586)          17843400  \n",
            " nal)                                                            \n",
            "                                                                 \n",
            " flatten_3 (Flatten)         (None, 2586)              0         \n",
            "                                                                 \n",
            " dense_12 (Dense)            (None, 400)               1034800   \n",
            "                                                                 \n",
            " dropout_9 (Dropout)         (None, 400)               0         \n",
            "                                                                 \n",
            " dense_13 (Dense)            (None, 200)               80200     \n",
            "                                                                 \n",
            " dropout_10 (Dropout)        (None, 200)               0         \n",
            "                                                                 \n",
            " dense_14 (Dense)            (None, 100)               20100     \n",
            "                                                                 \n",
            " dropout_11 (Dropout)        (None, 100)               0         \n",
            "                                                                 \n",
            " dense_15 (Dense)            (None, 50)                5050      \n",
            "                                                                 \n",
            "=================================================================\n",
            "Total params: 18,983,550\n",
            "Trainable params: 18,983,550\n",
            "Non-trainable params: 0\n",
            "_________________________________________________________________\n",
            "None\n"
          ]
        }
      ]
    },
    {
      "cell_type": "code",
      "source": [
        "HST2 = model2.fit(X_train2, y_train2,\n",
        "                  epochs = 100,\n",
        "                  batch_size = BATCH_SIZE1,\n",
        "                  validation_data = (X_valid2, y_valid2),\n",
        "                  verbose = 0,\n",
        "                  callbacks = [keras.callbacks.EarlyStopping(monitor = \"val_accuracy\",\n",
        "                                                             patience = 10)])"
      ],
      "metadata": {
        "id": "1U5EIQvhjpnO"
      },
      "execution_count": 40,
      "outputs": []
    },
    {
      "cell_type": "code",
      "source": [
        "# Plot loss\n",
        "fig1, ax1 = plt.subplots(1, 2, figsize = (14, 4))\n",
        "ax1[0].plot(HST2.history['loss'], label='Train loss')\n",
        "ax1[0].plot(HST2.history['val_loss'], label='Val loss')\n",
        "ax1[0].legend()\n",
        "ax1[0].set_xlabel('Epoch')\n",
        "ax1[0].set_ylabel('Loss')\n",
        "\n",
        "# Plot accuracy\n",
        "ax1[1].plot(HST2.history['accuracy'], label='Train accuracy')\n",
        "ax1[1].plot(HST2.history['val_accuracy'], label='Val accuracy')\n",
        "ax1[1].legend()\n",
        "ax1[1].set_xlabel('Epoch')\n",
        "ax1[1].set_ylabel('Accuracy')\n",
        "ax1[1].set_ylim(0, 1.05)\n",
        "\n",
        "print()\n",
        "scores2 = model2.evaluate(X_test2, y_test2, verbose = 2)\n",
        "print(\"=\"*71)\n",
        "print(\"Accuracy on test: {:.2f}%\".format(scores2[1]*100))\n",
        "print(\"Memory used: {:.1f} Mb\".format(\n",
        "        evaluation.keras_model_memory_usage_in_bytes(model = model2,\n",
        "                                                     batch_size = BATCH_SIZE1)/1e6))\n",
        "\n",
        "plt.show()"
      ],
      "metadata": {
        "colab": {
          "base_uri": "https://localhost:8080/",
          "height": 366
        },
        "id": "GEpLCxTXj2s6",
        "outputId": "a29131c6-12a2-48b1-a70e-ab0386445fab"
      },
      "execution_count": 41,
      "outputs": [
        {
          "output_type": "stream",
          "name": "stdout",
          "text": [
            "\n",
            "79/79 - 2s - loss: 3.8597 - accuracy: 0.0592 - 2s/epoch - 27ms/step\n",
            "=======================================================================\n",
            "Accuracy on test: 5.92%\n",
            "Memory used: 21.6 Mb\n"
          ]
        },
        {
          "output_type": "display_data",
          "data": {
            "text/plain": [
              "<Figure size 1008x288 with 2 Axes>"
            ],
            "image/png": "[encoded data removed]"
          },
          "metadata": {
            "needs_background": "light"
          }
        }
      ]
    },
    {
      "cell_type": "markdown",
      "source": [
        "## 3. RNN with 1x60 input"
      ],
      "metadata": {
        "id": "FwtN1NonkFI0"
      }
    },
    {
      "cell_type": "code",
      "source": [
        "X3 = pd.read_parquet(\".//data/X_RNN_60x431_8times.parquet\").values\n",
        "y3 = pd.read_parquet(\".//data/y_RNN_60x431_8times.parquet\").values\n",
        "X3 = X3.reshape(len(X3), 60, 431).mean(axis = 2).reshape(len(X3), 1, 60)\n",
        "\n",
        "from sklearn.model_selection import train_test_split\n",
        "\n",
        "X_train3, X_test3, y_train3, y_test3 = train_test_split(X3, y3, train_size = .75,\n",
        "                                                        random_state = 42, shuffle = True)\n",
        "X_train3, X_valid3, y_train3, y_valid3 = train_test_split(X_train3, y_train3, train_size = .8,\n",
        "                                                          random_state = 42, shuffle = True)\n",
        "\n",
        "# one hot encoding of categories\n",
        "y_train3 = tf.keras.utils.to_categorical(y_train3)\n",
        "y_valid3 = tf.keras.utils.to_categorical(y_valid3)\n",
        "y_test3 = tf.keras.utils.to_categorical(y_test3)\n",
        "\n",
        "print(\"Training examples: {}\".format(y_train3.shape[0]))\n",
        "print(\"Validation examples: {}\".format(y_valid3.shape[0]))\n",
        "print(\"Test examples: {}\".format(y_test3.shape[0]))\n",
        "print()\n",
        "print(\"Input shape: {}\".format(X_train3[0].shape))"
      ],
      "metadata": {
        "colab": {
          "base_uri": "https://localhost:8080/"
        },
        "id": "DnPNqUGNkIEz",
        "outputId": "e6c52017-9bab-44cc-b596-5f6178e6fb5a"
      },
      "execution_count": 22,
      "outputs": [
        {
          "output_type": "stream",
          "name": "stdout",
          "text": [
            "Training examples: 9600\n",
            "Validation examples: 2400\n",
            "Test examples: 4000\n",
            "\n",
            "Input shape: (1, 60)\n"
          ]
        }
      ]
    },
    {
      "cell_type": "code",
      "source": [
        "with tpu_strategy.scope():\n",
        "  model3 = keras.models.Sequential([keras.Input(shape = (1, 60)),\n",
        "                                    #keras.layers.LSTM(200,\n",
        "                                    #                  return_sequences = True),\n",
        "                                    keras.layers.Bidirectional(keras.layers.LSTM(1000,\n",
        "                                                                       return_sequences = True)),\n",
        "                                    keras.layers.Flatten(),\n",
        "                                    keras.layers.Dense(500, activation = \"relu\"),\n",
        "                                    keras.layers.Dropout(0.2),\n",
        "                                    keras.layers.Dense(200, activation = \"relu\"),\n",
        "                                    keras.layers.Dropout(0.2),\n",
        "                                    keras.layers.Dense(100, activation = \"relu\"),\n",
        "                                    keras.layers.Dropout(0.2),\n",
        "                                    keras.layers.Dense(50, activation = \"softmax\")])\n",
        "  model3.compile(loss = \"categorical_crossentropy\",\n",
        "                 optimizer = tf.keras.optimizers.Adam(learning_rate = 1e-3),\n",
        "                 metrics=[\"accuracy\"])\n",
        "\n",
        "print(model3.summary())"
      ],
      "metadata": {
        "colab": {
          "base_uri": "https://localhost:8080/"
        },
        "id": "sUJmDzBWkvRU",
        "outputId": "e5da8def-2d50-41d7-fb10-fde016a09aac"
      },
      "execution_count": 35,
      "outputs": [
        {
          "output_type": "stream",
          "name": "stdout",
          "text": [
            "Model: \"sequential_5\"\n",
            "_________________________________________________________________\n",
            " Layer (type)                Output Shape              Param #   \n",
            "=================================================================\n",
            " bidirectional_5 (Bidirectio  (None, 1, 2000)          8488000   \n",
            " nal)                                                            \n",
            "                                                                 \n",
            " flatten_5 (Flatten)         (None, 2000)              0         \n",
            "                                                                 \n",
            " dense_16 (Dense)            (None, 500)               1000500   \n",
            "                                                                 \n",
            " dropout_11 (Dropout)        (None, 500)               0         \n",
            "                                                                 \n",
            " dense_17 (Dense)            (None, 200)               100200    \n",
            "                                                                 \n",
            " dropout_12 (Dropout)        (None, 200)               0         \n",
            "                                                                 \n",
            " dense_18 (Dense)            (None, 100)               20100     \n",
            "                                                                 \n",
            " dropout_13 (Dropout)        (None, 100)               0         \n",
            "                                                                 \n",
            " dense_19 (Dense)            (None, 50)                5050      \n",
            "                                                                 \n",
            "=================================================================\n",
            "Total params: 9,613,850\n",
            "Trainable params: 9,613,850\n",
            "Non-trainable params: 0\n",
            "_________________________________________________________________\n",
            "None\n"
          ]
        }
      ]
    },
    {
      "cell_type": "code",
      "source": [
        "BATCH_SIZE3 = 100"
      ],
      "metadata": {
        "id": "R5El1VTjrLra"
      },
      "execution_count": 32,
      "outputs": []
    },
    {
      "cell_type": "code",
      "source": [
        "HST3 = model3.fit(X_train3, y_train3,\n",
        "                  epochs = 200,\n",
        "                  batch_size = BATCH_SIZE3,\n",
        "                  validation_data = (X_valid3, y_valid3),\n",
        "                  verbose = 0,\n",
        "                  callbacks = [keras.callbacks.EarlyStopping(monitor = \"val_accuracy\",\n",
        "                                                             patience = 10)])"
      ],
      "metadata": {
        "id": "WM29x21Ek0X9"
      },
      "execution_count": 36,
      "outputs": []
    },
    {
      "cell_type": "code",
      "source": [
        "# Plot loss\n",
        "fig1, ax1 = plt.subplots(1, 2, figsize = (14, 4))\n",
        "ax1[0].plot(HST3.history['loss'], label='Train loss')\n",
        "ax1[0].plot(HST3.history['val_loss'], label='Val loss')\n",
        "ax1[0].legend()\n",
        "ax1[0].set_xlabel('Epoch')\n",
        "ax1[0].set_ylabel('Loss')\n",
        "\n",
        "# Plot accuracy\n",
        "ax1[1].plot(HST3.history['accuracy'], label='Train accuracy')\n",
        "ax1[1].plot(HST3.history['val_accuracy'], label='Val accuracy')\n",
        "ax1[1].legend()\n",
        "ax1[1].set_xlabel('Epoch')\n",
        "ax1[1].set_ylabel('Accuracy')\n",
        "ax1[1].set_ylim(0, 1.05)\n",
        "\n",
        "print()\n",
        "scores3 = model3.evaluate(X_test3, y_test3, verbose = 2)\n",
        "print(\"=\"*71)\n",
        "print(\"Accuracy on test: {:.2f}%\".format(scores3[1]*100))\n",
        "print(\"Memory used: {:.1f} Mb\".format(\n",
        "        evaluation.keras_model_memory_usage_in_bytes(model = model3,\n",
        "                                                     batch_size = BATCH_SIZE3)/1e6))\n",
        "\n",
        "plt.show()"
      ],
      "metadata": {
        "colab": {
          "base_uri": "https://localhost:8080/",
          "height": 366
        },
        "id": "GZuouXTGlGxT",
        "outputId": "735ed7db-272a-40cf-8f78-7a5a3a98c209"
      },
      "execution_count": 37,
      "outputs": [
        {
          "output_type": "stream",
          "name": "stdout",
          "text": [
            "\n",
            "125/125 - 2s - loss: 1.4727 - accuracy: 0.7098 - 2s/epoch - 14ms/step\n",
            "=======================================================================\n",
            "Accuracy on test: 70.98%\n",
            "Memory used: 11.9 Mb\n"
          ]
        },
        {
          "output_type": "display_data",
          "data": {
            "text/plain": [
              "<Figure size 1008x288 with 2 Axes>"
            ],
            "image/png": "[encoded data removed]"
          },
          "metadata": {
            "needs_background": "light"
          }
        }
      ]
    },
    {
      "cell_type": "code",
      "source": [
        "# HUGE MODEL ON SAME DATA\n",
        "with tpu_strategy.scope():\n",
        "    # LSTM - complete with model definition, summary, fit and plots.\n",
        "    model_bidirectional = keras.models.Sequential()\n",
        "    model_bidirectional.add(keras.Input(shape = (1, 60)))\n",
        "    model_bidirectional.add(keras.layers.Bidirectional(keras.layers.LSTM(1024,\n",
        "                                                                        return_sequences = True)))\n",
        "    model_bidirectional.add(keras.layers.Dropout(0.2))\n",
        "    model_bidirectional.add(keras.layers.Bidirectional(keras.layers.LSTM(2048,\n",
        "                                                                        return_sequences = True)))\n",
        "    model_bidirectional.add(keras.layers.Dropout(0.2))\n",
        "    model_bidirectional.add(keras.layers.Bidirectional(keras.layers.LSTM(3036,\n",
        "                                                                        return_sequences = False)))\n",
        "    model_bidirectional.add(keras.layers.Dropout(0.2))  \n",
        "    model_bidirectional.add(keras.layers.Flatten())         \n",
        "    model_bidirectional.add(keras.layers.Dense(50, activation=\"softmax\"))\n",
        "\n",
        "    model_bidirectional.compile(loss = \"categorical_crossentropy\",\n",
        "                                optimizer = tf.keras.optimizers.Adam(learning_rate = 1e-3),\n",
        "                                metrics=[\"accuracy\"])\n",
        "    \n",
        "print(model_bidirectional.summary())"
      ],
      "metadata": {
        "colab": {
          "base_uri": "https://localhost:8080/"
        },
        "id": "YhTIZmTqD5SB",
        "outputId": "7a57da04-47d5-424c-c948-5526977f465b"
      },
      "execution_count": 39,
      "outputs": [
        {
          "output_type": "stream",
          "name": "stdout",
          "text": [
            "Model: \"sequential_7\"\n",
            "_________________________________________________________________\n",
            " Layer (type)                Output Shape              Param #   \n",
            "=================================================================\n",
            " bidirectional_7 (Bidirectio  (None, 1, 2048)          8888320   \n",
            " nal)                                                            \n",
            "                                                                 \n",
            " dropout_14 (Dropout)        (None, 1, 2048)           0         \n",
            "                                                                 \n",
            " bidirectional_8 (Bidirectio  (None, 1, 4096)          67125248  \n",
            " nal)                                                            \n",
            "                                                                 \n",
            " dropout_15 (Dropout)        (None, 1, 4096)           0         \n",
            "                                                                 \n",
            " bidirectional_9 (Bidirectio  (None, 6072)             173246304 \n",
            " nal)                                                            \n",
            "                                                                 \n",
            " dropout_16 (Dropout)        (None, 6072)              0         \n",
            "                                                                 \n",
            " flatten_6 (Flatten)         (None, 6072)              0         \n",
            "                                                                 \n",
            " dense_20 (Dense)            (None, 50)                303650    \n",
            "                                                                 \n",
            "=================================================================\n",
            "Total params: 249,563,522\n",
            "Trainable params: 249,563,522\n",
            "Non-trainable params: 0\n",
            "_________________________________________________________________\n",
            "None\n"
          ]
        }
      ]
    },
    {
      "cell_type": "code",
      "source": [
        "HST3huge = model_bidirectional.fit(X_train3, y_train3,\n",
        "                                   epochs = 200,\n",
        "                                   batch_size = BATCH_SIZE3,\n",
        "                                   validation_data = (X_valid3, y_valid3),\n",
        "                                   verbose = 0,\n",
        "                                   callbacks = [keras.callbacks.EarlyStopping(monitor = \"val_accuracy\",\n",
        "                                                                              patience = 10)])"
      ],
      "metadata": {
        "id": "3LOfsMpKEBD6"
      },
      "execution_count": 40,
      "outputs": []
    },
    {
      "cell_type": "code",
      "source": [
        "# Plot loss\n",
        "fig1, ax1 = plt.subplots(1, 2, figsize = (14, 4))\n",
        "ax1[0].plot(HST3huge.history['loss'], label='Train loss')\n",
        "ax1[0].plot(HST3huge.history['val_loss'], label='Val loss')\n",
        "ax1[0].legend()\n",
        "ax1[0].set_xlabel('Epoch')\n",
        "ax1[0].set_ylabel('Loss')\n",
        "\n",
        "# Plot accuracy\n",
        "ax1[1].plot(HST3huge.history['accuracy'], label='Train accuracy')\n",
        "ax1[1].plot(HST3huge.history['val_accuracy'], label='Val accuracy')\n",
        "ax1[1].legend()\n",
        "ax1[1].set_xlabel('Epoch')\n",
        "ax1[1].set_ylabel('Accuracy')\n",
        "ax1[1].set_ylim(0, 1.05)\n",
        "\n",
        "print()\n",
        "scores3huge = model_bidirectional.evaluate(X_test3, y_test3, verbose = 2)\n",
        "print(\"=\"*71)\n",
        "print(\"Accuracy on test: {:.2f}%\".format(scores3huge[1]*100))\n",
        "print(\"Memory used: {:.1f} Mb\".format(\n",
        "        evaluation.keras_model_memory_usage_in_bytes(model = model_bidirectional,\n",
        "                                                     batch_size = BATCH_SIZE3)/1e6))\n",
        "\n",
        "plt.show()"
      ],
      "metadata": {
        "colab": {
          "base_uri": "https://localhost:8080/",
          "height": 370
        },
        "id": "K_up9uWxEMPY",
        "outputId": "0b2dacbb-4cd7-4e30-d915-097a25994fa4"
      },
      "execution_count": 41,
      "outputs": [
        {
          "output_type": "stream",
          "name": "stdout",
          "text": [
            "\n",
            "125/125 - 3s - loss: 1.3183 - accuracy: 0.7438 - 3s/epoch - 22ms/step\n",
            "=======================================================================\n",
            "Accuracy on test: 74.38%\n",
            "Memory used: 261.8 Mb\n"
          ]
        },
        {
          "output_type": "display_data",
          "data": {
            "text/plain": [
              "<Figure size 1008x288 with 2 Axes>"
            ],
            "image/png": "[encoded data removed]"
          },
          "metadata": {
            "needs_background": "light"
          }
        }
      ]
    },
    {
      "cell_type": "code",
      "source": [
        "#saving the model\n",
        "save_model(model_bidirectional,\"model_bidirectional.h5\")"
      ],
      "metadata": {
        "id": "ImvLTB_CGnG9"
      },
      "execution_count": null,
      "outputs": []
    },
    {
      "cell_type": "markdown",
      "source": [
        "## 4. LSTM with GRU"
      ],
      "metadata": {
        "id": "1UmKx6HSlPV5"
      }
    },
    {
      "cell_type": "code",
      "source": [
        "with tpu_strategy.scope():\n",
        "    #Considering the GRU layer\n",
        "    model_bidirectional2 = keras.models.Sequential()\n",
        "    model_bidirectional2.add(keras.Input(shape = (1, 60)))\n",
        "    model_bidirectional2.add(keras.layers.GRU(256, return_sequences = True))\n",
        "    model_bidirectional2.add(keras.layers.Bidirectional(keras.layers.LSTM(1024, return_sequences = True)))\n",
        "    model_bidirectional2.add(keras.layers.Dropout(0.2))\n",
        "    model_bidirectional2.add(keras.layers.Bidirectional(keras.layers.LSTM(2048, return_sequences = True)))\n",
        "    model_bidirectional2.add(keras.layers.Dropout(0.2))\n",
        "    model_bidirectional2.add(keras.layers.GRU(512, return_sequences = False))\n",
        "    model_bidirectional2.add(keras.layers.Dropout(0.2))  \n",
        "    model_bidirectional2.add(keras.layers.Flatten())         \n",
        "    model_bidirectional2.add(keras.layers.Dense(50, activation=\"softmax\"))\n",
        "\n",
        "    model_bidirectional2.compile(loss = \"categorical_crossentropy\",\n",
        "                                 optimizer = tf.keras.optimizers.Adam(learning_rate = 0.001),\n",
        "                                 metrics = [\"accuracy\"])\n",
        "    \n",
        "print(model_bidirectional2.summary())"
      ],
      "metadata": {
        "colab": {
          "base_uri": "https://localhost:8080/"
        },
        "id": "BfuqP-yfGLyd",
        "outputId": "f3fcd881-a8e0-4897-a1ba-a4b09de67fef"
      },
      "execution_count": 42,
      "outputs": [
        {
          "output_type": "stream",
          "name": "stdout",
          "text": [
            "Model: \"sequential_8\"\n",
            "_________________________________________________________________\n",
            " Layer (type)                Output Shape              Param #   \n",
            "=================================================================\n",
            " gru (GRU)                   (None, 1, 256)            244224    \n",
            "                                                                 \n",
            " bidirectional_10 (Bidirecti  (None, 1, 2048)          10493952  \n",
            " onal)                                                           \n",
            "                                                                 \n",
            " dropout_17 (Dropout)        (None, 1, 2048)           0         \n",
            "                                                                 \n",
            " bidirectional_11 (Bidirecti  (None, 1, 4096)          67125248  \n",
            " onal)                                                           \n",
            "                                                                 \n",
            " dropout_18 (Dropout)        (None, 1, 4096)           0         \n",
            "                                                                 \n",
            " gru_1 (GRU)                 (None, 512)               7080960   \n",
            "                                                                 \n",
            " dropout_19 (Dropout)        (None, 512)               0         \n",
            "                                                                 \n",
            " flatten_7 (Flatten)         (None, 512)               0         \n",
            "                                                                 \n",
            " dense_21 (Dense)            (None, 50)                25650     \n",
            "                                                                 \n",
            "=================================================================\n",
            "Total params: 84,970,034\n",
            "Trainable params: 84,970,034\n",
            "Non-trainable params: 0\n",
            "_________________________________________________________________\n",
            "None\n"
          ]
        }
      ]
    },
    {
      "cell_type": "code",
      "source": [
        "HST4huge = model_bidirectional2.fit(X_train3, y_train3,\n",
        "                                    epochs = 200,\n",
        "                                    batch_size = BATCH_SIZE3,\n",
        "                                    validation_data = (X_valid3, y_valid3),\n",
        "                                    verbose = 0,\n",
        "                                    callbacks = [keras.callbacks.EarlyStopping(monitor = \"val_accuracy\",\n",
        "                                                                               patience = 10)])"
      ],
      "metadata": {
        "id": "BoRHR6-JGO6L"
      },
      "execution_count": 43,
      "outputs": []
    },
    {
      "cell_type": "code",
      "source": [
        "# Plot loss\n",
        "fig1, ax1 = plt.subplots(1, 2, figsize = (14, 4))\n",
        "ax1[0].plot(HST4huge.history['loss'], label='Train loss')\n",
        "ax1[0].plot(HST4huge.history['val_loss'], label='Val loss')\n",
        "ax1[0].legend()\n",
        "ax1[0].set_xlabel('Epoch')\n",
        "ax1[0].set_ylabel('Loss')\n",
        "\n",
        "# Plot accuracy\n",
        "ax1[1].plot(HST4huge.history['accuracy'], label='Train accuracy')\n",
        "ax1[1].plot(HST4huge.history['val_accuracy'], label='Val accuracy')\n",
        "ax1[1].legend()\n",
        "ax1[1].set_xlabel('Epoch')\n",
        "ax1[1].set_ylabel('Accuracy')\n",
        "ax1[1].set_ylim(0, 1.05)\n",
        "\n",
        "print()\n",
        "scores4 = model_bidirectional.evaluate(X_test3, y_test3, verbose = 2)\n",
        "print(\"=\"*71)\n",
        "print(\"Accuracy on test: {:.2f}%\".format(scores4[1]*100))\n",
        "print(\"Memory used: {:.1f} Mb\".format(\n",
        "        evaluation.keras_model_memory_usage_in_bytes(model = model_bidirectional2,\n",
        "                                                     batch_size = BATCH_SIZE3)/1e6))\n",
        "\n",
        "plt.show()"
      ],
      "metadata": {
        "colab": {
          "base_uri": "https://localhost:8080/",
          "height": 366
        },
        "id": "dfIBbrNqGYKl",
        "outputId": "507ada0c-1ab1-4898-e236-6529c31f432b"
      },
      "execution_count": 46,
      "outputs": [
        {
          "output_type": "stream",
          "name": "stdout",
          "text": [
            "\n",
            "125/125 - 2s - loss: 1.3183 - accuracy: 0.7438 - 2s/epoch - 14ms/step\n",
            "=======================================================================\n",
            "Accuracy on test: 74.38%\n",
            "Memory used: 90.6 Mb\n"
          ]
        },
        {
          "output_type": "display_data",
          "data": {
            "text/plain": [
              "<Figure size 1008x288 with 2 Axes>"
            ],
            "image/png": "[encoded data removed]"
          },
          "metadata": {
            "needs_background": "light"
          }
        }
      ]
    }
  ]
}