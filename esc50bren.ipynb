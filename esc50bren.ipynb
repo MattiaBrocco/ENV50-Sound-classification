{
 "cells": [
  {
   "cell_type": "code",
   "execution_count": null,
   "metadata": {
    "execution": {
     "iopub.execute_input": "2022-12-29T13:53:44.519336Z",
     "iopub.status.busy": "2022-12-29T13:53:44.518967Z",
     "iopub.status.idle": "2022-12-29T13:53:47.300551Z",
     "shell.execute_reply": "2022-12-29T13:53:47.299481Z",
     "shell.execute_reply.started": "2022-12-29T13:53:44.519298Z"
    }
   },
   "outputs": [],
   "source": [
    "!apt-get install libav-tools -y"
   ]
  },
  {
   "cell_type": "code",
   "execution_count": null,
   "metadata": {
    "_cell_guid": "b1076dfc-b9ad-4769-8c92-a6c4dae69d19",
    "_uuid": "8f2839f25d086af736a60e9eeb907d3b93b6e0e5",
    "execution": {
     "iopub.execute_input": "2022-12-29T13:53:51.337451Z",
     "iopub.status.busy": "2022-12-29T13:53:51.336993Z",
     "iopub.status.idle": "2022-12-29T13:53:54.682037Z",
     "shell.execute_reply": "2022-12-29T13:53:54.680917Z",
     "shell.execute_reply.started": "2022-12-29T13:53:51.337408Z"
    }
   },
   "outputs": [],
   "source": [
    "# This Python 3 environment comes with many helpful analytics libraries installed\n",
    "# It is defined by the kaggle/python Docker image: https://github.com/kaggle/docker-python\n",
    "# For example, here's several helpful packages to load\n",
    "\n",
    "import numpy as np # linear algebra\n",
    "import pandas as pd # data processing, CSV file I/O (e.g. pd.read_csv)\n",
    "\n",
    "# Input data files are available in the read-only \"../input/\" directory\n",
    "# For example, running this (by clicking run or pressing Shift+Enter) will list all files under the input directory\n",
    "\n",
    "import os\n",
    "for dirname, _, filenames in os.walk('/kaggle/input'):\n",
    "    for filename in filenames:\n",
    "        print(os.path.join(dirname, filename))\n",
    "\n",
    "# You can write up to 20GB to the current directory (/kaggle/working/) that gets preserved as output when you create a version using \"Save & Run All\" \n",
    "# You can also write temporary files to /kaggle/temp/, but they won't be saved outside of the current session"
   ]
  },
  {
   "cell_type": "code",
   "execution_count": null,
   "metadata": {
    "execution": {
     "iopub.execute_input": "2022-12-26T16:59:05.574752Z",
     "iopub.status.busy": "2022-12-26T16:59:05.574361Z",
     "iopub.status.idle": "2022-12-26T16:59:06.988573Z",
     "shell.execute_reply": "2022-12-26T16:59:06.987630Z",
     "shell.execute_reply.started": "2022-12-26T16:59:05.574718Z"
    }
   },
   "outputs": [],
   "source": [
    "!apt-get install libav-tools -y"
   ]
  },
  {
   "cell_type": "code",
   "execution_count": null,
   "metadata": {
    "execution": {
     "iopub.execute_input": "2022-12-29T15:33:54.661877Z",
     "iopub.status.busy": "2022-12-29T15:33:54.661185Z",
     "iopub.status.idle": "2022-12-29T15:33:54.676862Z",
     "shell.execute_reply": "2022-12-29T15:33:54.675869Z",
     "shell.execute_reply.started": "2022-12-29T15:33:54.661835Z"
    }
   },
   "outputs": [],
   "source": [
    "# Math libraries\n",
    "import math\n",
    "import statistics\n",
    "import scipy.stats\n",
    "\n",
    "## ML Libraries\n",
    "from sklearn import feature_extraction, linear_model, model_selection, preprocessing, metrics\n",
    "from sklearn.feature_extraction.text import CountVectorizer\n",
    "from sklearn.model_selection import train_test_split, GridSearchCV\n",
    "from sklearn.linear_model import LinearRegression, LogisticRegression\n",
    "from sklearn.tree import DecisionTreeClassifier\n",
    "from sklearn.pipeline import Pipeline\n",
    "from sklearn import metrics\n",
    "from sklearn.metrics import f1_score, roc_curve, auc, accuracy_score, confusion_matrix, classification_report, mean_squared_error, roc_auc_score , recall_score , precision_score\n",
    "from sklearn.svm import SVC\n",
    "from sklearn.preprocessing import LabelEncoder, StandardScaler\n",
    "from sklearn.neural_network import MLPClassifier\n",
    "from sklearn.decomposition import PCA\n",
    "\n",
    "## Visualization libraries\n",
    "import matplotlib.pyplot as plt\n",
    "import seaborn as sns\n",
    "from matplotlib.colors import ListedColormap\n",
    "from subprocess import check_output\n",
    "from tqdm import tqdm\n",
    "\n",
    "#Keras\n",
    "import tensorflow as tf\n",
    "from tensorflow import keras\n",
    "from tensorflow.keras.metrics import AUC\n",
    "from keras.wrappers.scikit_learn import KerasClassifier\n",
    "from keras.utils import np_utils\n",
    "from keras.models import Sequential\n",
    "from keras.layers import Dense, Dropout, Flatten\n",
    "from keras.callbacks import EarlyStopping\n",
    "from keras import backend as K\n",
    "\n",
    "#Audio libraries\n",
    "import IPython.display as ipd\n",
    "import librosa\n",
    "from librosa import display\n",
    "from scipy.io import wavfile as wav\n",
    "\n",
    "#Torch libraries\n",
    "import torch\n",
    "import torchvision\n",
    "import torchvision.transforms as tt\n",
    "from torch import nn\n",
    "import torch.nn.functional as F\n",
    "from torch.utils.data import TensorDataset, DataLoader\n",
    "from torch import Tensor\n",
    "import torch.optim as optim\n",
    "from torch.optim import lr_scheduler\n",
    "\n",
    "#Others\n",
    "import time\n",
    "import logging\n",
    "logging.disable(logging.WARNING)\n",
    "import warnings\n",
    "warnings.filterwarnings(\"ignore\")\n",
    "import gc\n",
    "gc.enable()\n",
    "np.random.seed(42)"
   ]
  },
  {
   "cell_type": "code",
   "execution_count": null,
   "metadata": {
    "execution": {
     "iopub.execute_input": "2022-12-29T15:39:38.528113Z",
     "iopub.status.busy": "2022-12-29T15:39:38.527798Z",
     "iopub.status.idle": "2022-12-29T15:39:38.566084Z",
     "shell.execute_reply": "2022-12-29T15:39:38.564502Z",
     "shell.execute_reply.started": "2022-12-29T15:39:38.528080Z"
    }
   },
   "outputs": [],
   "source": [
    "#reading the csv file\n",
    "data = pd.read_csv('/kaggle/input/environmental-sound-classification-50/esc50.csv')\n",
    "data"
   ]
  },
  {
   "cell_type": "code",
   "execution_count": null,
   "metadata": {
    "execution": {
     "iopub.execute_input": "2022-12-29T15:39:42.221776Z",
     "iopub.status.busy": "2022-12-29T15:39:42.221408Z",
     "iopub.status.idle": "2022-12-29T15:39:42.237938Z",
     "shell.execute_reply": "2022-12-29T15:39:42.236591Z",
     "shell.execute_reply.started": "2022-12-29T15:39:42.221727Z"
    }
   },
   "outputs": [],
   "source": [
    "data2=pd.DataFrame(data)\n",
    "data2.head()"
   ]
  },
  {
   "cell_type": "code",
   "execution_count": null,
   "metadata": {
    "execution": {
     "iopub.execute_input": "2022-12-27T23:06:24.298112Z",
     "iopub.status.busy": "2022-12-27T23:06:24.297618Z",
     "iopub.status.idle": "2022-12-27T23:06:24.316440Z",
     "shell.execute_reply": "2022-12-27T23:06:24.314893Z",
     "shell.execute_reply.started": "2022-12-27T23:06:24.298072Z"
    }
   },
   "outputs": [],
   "source": [
    "data2.tail()"
   ]
  },
  {
   "cell_type": "code",
   "execution_count": null,
   "metadata": {
    "execution": {
     "iopub.execute_input": "2022-12-27T23:06:36.519492Z",
     "iopub.status.busy": "2022-12-27T23:06:36.519050Z",
     "iopub.status.idle": "2022-12-27T23:06:36.547683Z",
     "shell.execute_reply": "2022-12-27T23:06:36.546684Z",
     "shell.execute_reply.started": "2022-12-27T23:06:36.519454Z"
    }
   },
   "outputs": [],
   "source": [
    "data2.describe()"
   ]
  },
  {
   "cell_type": "code",
   "execution_count": null,
   "metadata": {
    "execution": {
     "iopub.execute_input": "2022-12-27T23:06:55.677354Z",
     "iopub.status.busy": "2022-12-27T23:06:55.676903Z",
     "iopub.status.idle": "2022-12-27T23:06:55.696756Z",
     "shell.execute_reply": "2022-12-27T23:06:55.695410Z",
     "shell.execute_reply.started": "2022-12-27T23:06:55.677309Z"
    }
   },
   "outputs": [],
   "source": [
    "data2.info()"
   ]
  },
  {
   "cell_type": "code",
   "execution_count": null,
   "metadata": {
    "execution": {
     "iopub.execute_input": "2022-12-27T23:08:19.551834Z",
     "iopub.status.busy": "2022-12-27T23:08:19.551376Z",
     "iopub.status.idle": "2022-12-27T23:08:19.560320Z",
     "shell.execute_reply": "2022-12-27T23:08:19.558868Z",
     "shell.execute_reply.started": "2022-12-27T23:08:19.551773Z"
    }
   },
   "outputs": [],
   "source": [
    "data2.shape"
   ]
  },
  {
   "cell_type": "code",
   "execution_count": null,
   "metadata": {
    "execution": {
     "iopub.execute_input": "2022-12-27T23:08:33.316197Z",
     "iopub.status.busy": "2022-12-27T23:08:33.315670Z",
     "iopub.status.idle": "2022-12-27T23:08:33.324878Z",
     "shell.execute_reply": "2022-12-27T23:08:33.323380Z",
     "shell.execute_reply.started": "2022-12-27T23:08:33.316158Z"
    }
   },
   "outputs": [],
   "source": [
    "data2.columns"
   ]
  },
  {
   "cell_type": "code",
   "execution_count": null,
   "metadata": {
    "execution": {
     "iopub.execute_input": "2022-12-29T13:55:07.619116Z",
     "iopub.status.busy": "2022-12-29T13:55:07.618502Z",
     "iopub.status.idle": "2022-12-29T13:55:07.634152Z",
     "shell.execute_reply": "2022-12-29T13:55:07.633062Z",
     "shell.execute_reply.started": "2022-12-29T13:55:07.619063Z"
    }
   },
   "outputs": [],
   "source": [
    "labels = list(data['category'].unique())\n",
    "labels"
   ]
  },
  {
   "cell_type": "code",
   "execution_count": null,
   "metadata": {
    "execution": {
     "iopub.execute_input": "2022-12-27T23:18:46.781191Z",
     "iopub.status.busy": "2022-12-27T23:18:46.780709Z",
     "iopub.status.idle": "2022-12-27T23:18:48.770861Z",
     "shell.execute_reply": "2022-12-27T23:18:48.769355Z",
     "shell.execute_reply.started": "2022-12-27T23:18:46.781149Z"
    }
   },
   "outputs": [],
   "source": [
    "#Visualizing unique values\n",
    "sns.countplot(labels).set_title(\"Unique values labels\")\n",
    "plt.xticks(rotation=90)\n",
    "sns.set(rc={'figure.figsize':(11,8)})"
   ]
  },
  {
   "cell_type": "code",
   "execution_count": null,
   "metadata": {
    "execution": {
     "iopub.execute_input": "2022-12-27T23:20:25.490854Z",
     "iopub.status.busy": "2022-12-27T23:20:25.490410Z",
     "iopub.status.idle": "2022-12-27T23:20:25.502207Z",
     "shell.execute_reply": "2022-12-27T23:20:25.500914Z",
     "shell.execute_reply.started": "2022-12-27T23:20:25.490817Z"
    }
   },
   "outputs": [],
   "source": [
    "data2['category'].value_counts(dropna=False)"
   ]
  },
  {
   "cell_type": "code",
   "execution_count": null,
   "metadata": {
    "execution": {
     "iopub.execute_input": "2022-12-27T23:21:17.099044Z",
     "iopub.status.busy": "2022-12-27T23:21:17.098615Z",
     "iopub.status.idle": "2022-12-27T23:21:17.109906Z",
     "shell.execute_reply": "2022-12-27T23:21:17.109036Z",
     "shell.execute_reply.started": "2022-12-27T23:21:17.099010Z"
    }
   },
   "outputs": [],
   "source": [
    "#Searching for null values\n",
    "np.where(pd.isnull(data2).sum())"
   ]
  },
  {
   "cell_type": "code",
   "execution_count": null,
   "metadata": {
    "execution": {
     "iopub.execute_input": "2022-12-27T23:27:12.353576Z",
     "iopub.status.busy": "2022-12-27T23:27:12.352985Z",
     "iopub.status.idle": "2022-12-27T23:27:12.366628Z",
     "shell.execute_reply": "2022-12-27T23:27:12.365115Z",
     "shell.execute_reply.started": "2022-12-27T23:27:12.353524Z"
    }
   },
   "outputs": [],
   "source": [
    "#Searching for duplicates\n",
    "data2.duplicated().sum()"
   ]
  },
  {
   "cell_type": "code",
   "execution_count": null,
   "metadata": {
    "execution": {
     "iopub.execute_input": "2022-12-27T15:37:52.467601Z",
     "iopub.status.busy": "2022-12-27T15:37:52.467163Z",
     "iopub.status.idle": "2022-12-27T15:37:52.553440Z",
     "shell.execute_reply": "2022-12-27T15:37:52.552330Z",
     "shell.execute_reply.started": "2022-12-27T15:37:52.467565Z"
    }
   },
   "outputs": [],
   "source": [
    "# Let's grab a single audio file from each class\n",
    "files = dict()\n",
    "for i in range(len(labels)):\n",
    "    tmp = data[data['category'] == labels[i]][:1].reset_index()\n",
    "    path = '../input/environmental-sound-classification-50/audio/audio/{}'.format(tmp['filename'][0])\n",
    "    files[labels[i]] = path"
   ]
  },
  {
   "cell_type": "code",
   "execution_count": null,
   "metadata": {
    "execution": {
     "iopub.execute_input": "2022-12-27T15:37:54.994878Z",
     "iopub.status.busy": "2022-12-27T15:37:54.994435Z",
     "iopub.status.idle": "2022-12-27T15:38:07.029658Z",
     "shell.execute_reply": "2022-12-27T15:38:07.028304Z",
     "shell.execute_reply.started": "2022-12-27T15:37:54.994839Z"
    }
   },
   "outputs": [],
   "source": [
    "fig = plt.figure(figsize=(15,15))\n",
    "fig.subplots_adjust(hspace=0.4, wspace=0.4)\n",
    "for i, label in enumerate(labels[:10]):\n",
    "    fn = files[label]\n",
    "    fig.add_subplot(5, 2, i+1)\n",
    "    plt.title(label)\n",
    "    data, sample_rate = librosa.load(fn)\n",
    "    display.waveshow(data, sr = sample_rate, color=\"pink\")"
   ]
  },
  {
   "cell_type": "code",
   "execution_count": null,
   "metadata": {
    "execution": {
     "iopub.execute_input": "2022-12-27T15:38:15.802954Z",
     "iopub.status.busy": "2022-12-27T15:38:15.802553Z",
     "iopub.status.idle": "2022-12-27T15:38:16.011550Z",
     "shell.execute_reply": "2022-12-27T15:38:16.010344Z",
     "shell.execute_reply.started": "2022-12-27T15:38:15.802923Z"
    }
   },
   "outputs": [],
   "source": [
    "s1 = r\"../input/environmental-sound-classification-50/audio/audio/1-100210-B-36.wav\"\n",
    "x,freq = librosa.load(s1)\n",
    "sr=freq"
   ]
  },
  {
   "cell_type": "code",
   "execution_count": null,
   "metadata": {
    "execution": {
     "iopub.execute_input": "2022-12-27T15:38:18.376486Z",
     "iopub.status.busy": "2022-12-27T15:38:18.376050Z",
     "iopub.status.idle": "2022-12-27T15:38:18.396655Z",
     "shell.execute_reply": "2022-12-27T15:38:18.395396Z",
     "shell.execute_reply.started": "2022-12-27T15:38:18.376449Z"
    }
   },
   "outputs": [],
   "source": [
    "sound1=ipd.Audio(s1)\n",
    "sound1"
   ]
  },
  {
   "cell_type": "code",
   "execution_count": null,
   "metadata": {
    "execution": {
     "iopub.execute_input": "2022-12-27T15:38:23.136826Z",
     "iopub.status.busy": "2022-12-27T15:38:23.136370Z",
     "iopub.status.idle": "2022-12-27T15:38:23.624480Z",
     "shell.execute_reply": "2022-12-27T15:38:23.623001Z",
     "shell.execute_reply.started": "2022-12-27T15:38:23.136787Z"
    }
   },
   "outputs": [],
   "source": [
    "plt.figure(figsize=(8,2))\n",
    "plt.title(\"Vacuum Cleaner Sound\")\n",
    "librosa.display.waveshow(x,sr=freq, color='pink')"
   ]
  },
  {
   "cell_type": "code",
   "execution_count": null,
   "metadata": {
    "execution": {
     "iopub.execute_input": "2022-12-27T15:38:26.726746Z",
     "iopub.status.busy": "2022-12-27T15:38:26.726338Z",
     "iopub.status.idle": "2022-12-27T15:38:27.320611Z",
     "shell.execute_reply": "2022-12-27T15:38:27.319335Z",
     "shell.execute_reply.started": "2022-12-27T15:38:26.726713Z"
    }
   },
   "outputs": [],
   "source": [
    "#Spectrogram\n",
    "X=librosa.stft(x) #stft -> Short-time Fourier transform\n",
    "desibel=librosa.amplitude_to_db(abs(X)) #Translation from amplitude to desibel(db) value\n",
    "plt.figure(figsize=(10,4))\n",
    "librosa.display.specshow(desibel, sr=sr,x_axis=\"time\",y_axis=\"hz\", cmap='PiYG')\n",
    "plt.title(\"Vacuum Cleaner Spectogram\")\n",
    "plt.colorbar()"
   ]
  },
  {
   "cell_type": "code",
   "execution_count": null,
   "metadata": {
    "execution": {
     "iopub.execute_input": "2022-12-27T15:38:31.915243Z",
     "iopub.status.busy": "2022-12-27T15:38:31.914581Z",
     "iopub.status.idle": "2022-12-27T15:38:32.741912Z",
     "shell.execute_reply": "2022-12-27T15:38:32.740266Z",
     "shell.execute_reply.started": "2022-12-27T15:38:31.915187Z"
    }
   },
   "outputs": [],
   "source": [
    "data_h, data_p = librosa.effects.hpss(x)\n",
    "spec_h = librosa.feature.melspectrogram(data_h, sr=sr)\n",
    "spec_p = librosa.feature.melspectrogram(data_p, sr=sr)\n",
    "db_spec_h = librosa.power_to_db(spec_h,ref=np.max)\n",
    "db_spec_p = librosa.power_to_db(spec_p,ref=np.max)"
   ]
  },
  {
   "cell_type": "code",
   "execution_count": null,
   "metadata": {
    "execution": {
     "iopub.execute_input": "2022-12-27T15:38:34.940897Z",
     "iopub.status.busy": "2022-12-27T15:38:34.940489Z",
     "iopub.status.idle": "2022-12-27T15:38:35.341765Z",
     "shell.execute_reply": "2022-12-27T15:38:35.340359Z",
     "shell.execute_reply.started": "2022-12-27T15:38:34.940865Z"
    }
   },
   "outputs": [],
   "source": [
    "librosa.display.specshow(db_spec_h,y_axis='mel', x_axis='s', sr=sr, cmap='PiYG')\n",
    "plt.title(\"Vacuum Cleaner Harmonic Mel Spectogram\")\n",
    "plt.colorbar()"
   ]
  },
  {
   "cell_type": "code",
   "execution_count": null,
   "metadata": {
    "execution": {
     "iopub.execute_input": "2022-12-27T15:38:41.301106Z",
     "iopub.status.busy": "2022-12-27T15:38:41.300668Z",
     "iopub.status.idle": "2022-12-27T15:38:41.698011Z",
     "shell.execute_reply": "2022-12-27T15:38:41.696832Z",
     "shell.execute_reply.started": "2022-12-27T15:38:41.301069Z"
    }
   },
   "outputs": [],
   "source": [
    "librosa.display.specshow(db_spec_p,y_axis='mel', x_axis='s', sr=sr, cmap='PiYG')\n",
    "plt.title(\"Vacuum Cleaner Percuisive Mel Spectogram\")\n",
    "plt.colorbar()"
   ]
  },
  {
   "cell_type": "code",
   "execution_count": null,
   "metadata": {
    "execution": {
     "iopub.execute_input": "2022-12-27T15:38:44.562832Z",
     "iopub.status.busy": "2022-12-27T15:38:44.562418Z",
     "iopub.status.idle": "2022-12-27T15:38:44.961504Z",
     "shell.execute_reply": "2022-12-27T15:38:44.960309Z",
     "shell.execute_reply.started": "2022-12-27T15:38:44.562801Z"
    }
   },
   "outputs": [],
   "source": [
    "mfcc=librosa.feature.mfcc(x,sr=sr)\n",
    "print(\"shape of mfcc:\" ,mfcc.shape)\n",
    "\n",
    "plt.figure(figsize=(15,6))\n",
    "librosa.display.specshow(mfcc,x_axis=\"s\", cmap='PiYG')\n",
    "plt.title(\"Vacuum Cleaner Mel-Frequency Cepstral Coefficients\")\n",
    "plt.colorbar()"
   ]
  },
  {
   "cell_type": "code",
   "execution_count": null,
   "metadata": {
    "execution": {
     "iopub.execute_input": "2022-12-27T15:38:48.306759Z",
     "iopub.status.busy": "2022-12-27T15:38:48.306312Z",
     "iopub.status.idle": "2022-12-27T15:38:48.550827Z",
     "shell.execute_reply": "2022-12-27T15:38:48.549580Z",
     "shell.execute_reply.started": "2022-12-27T15:38:48.306721Z"
    }
   },
   "outputs": [],
   "source": [
    "#Zero Crossing Rate\n",
    "zero_crossing=librosa.zero_crossings(x)\n",
    "print(\"Type of Zero Crossing Rate\",type(zero_crossing))\n",
    "print(zero_crossing, \" --> See it contains booleans\")\n",
    "print(\"Total Number of Zero Crossing is: \",sum(zero_crossing))"
   ]
  },
  {
   "cell_type": "code",
   "execution_count": null,
   "metadata": {
    "execution": {
     "iopub.execute_input": "2022-12-27T15:38:51.186709Z",
     "iopub.status.busy": "2022-12-27T15:38:51.186299Z",
     "iopub.status.idle": "2022-12-27T15:38:51.483494Z",
     "shell.execute_reply": "2022-12-27T15:38:51.482641Z",
     "shell.execute_reply.started": "2022-12-27T15:38:51.186677Z"
    }
   },
   "outputs": [],
   "source": [
    "plt.figure(figsize=(15,5))\n",
    "plt.title(\"Vacuum Cleaner Zero Crossing Rate\")\n",
    "plt.plot(x[4000:5100],  color='pink')\n",
    "plt.grid()"
   ]
  },
  {
   "cell_type": "code",
   "execution_count": null,
   "metadata": {
    "execution": {
     "iopub.execute_input": "2022-12-27T15:38:55.112191Z",
     "iopub.status.busy": "2022-12-27T15:38:55.111788Z",
     "iopub.status.idle": "2022-12-27T15:38:55.835905Z",
     "shell.execute_reply": "2022-12-27T15:38:55.834638Z",
     "shell.execute_reply.started": "2022-12-27T15:38:55.112157Z"
    }
   },
   "outputs": [],
   "source": [
    "#Spectral Centroid\n",
    "spec_cent=librosa.feature.spectral_centroid(x)\n",
    "print(spec_cent.shape)\n",
    "\n",
    "plt.figure(figsize=(15,5))\n",
    "plt.title(\"Vacuum Cleaner Spectral Centroid\")\n",
    "plt.semilogy(spec_cent.T, \"r\", color='pink')\n",
    "plt.ylabel(\"Hz\")"
   ]
  },
  {
   "cell_type": "code",
   "execution_count": null,
   "metadata": {
    "execution": {
     "iopub.execute_input": "2022-12-27T15:38:58.791410Z",
     "iopub.status.busy": "2022-12-27T15:38:58.790024Z",
     "iopub.status.idle": "2022-12-27T15:38:59.177046Z",
     "shell.execute_reply": "2022-12-27T15:38:59.176052Z",
     "shell.execute_reply.started": "2022-12-27T15:38:58.791352Z"
    }
   },
   "outputs": [],
   "source": [
    "#Spectral Roll off\n",
    "spec_roll=librosa.feature.spectral_rolloff(x,sr=sr)\n",
    "print(spec_roll.shape)\n",
    "\n",
    "plt.figure(figsize=(15,5))\n",
    "plt.title(\"Vacuum Cleaner Spectral Roll off\")\n",
    "plt.semilogy(spec_roll.T,\"r\", color='pink')\n",
    "plt.ylabel(\"Hz\")"
   ]
  },
  {
   "cell_type": "code",
   "execution_count": null,
   "metadata": {
    "execution": {
     "iopub.execute_input": "2022-12-27T15:39:02.908578Z",
     "iopub.status.busy": "2022-12-27T15:39:02.908144Z",
     "iopub.status.idle": "2022-12-27T15:39:02.937185Z",
     "shell.execute_reply": "2022-12-27T15:39:02.936331Z",
     "shell.execute_reply.started": "2022-12-27T15:39:02.908541Z"
    }
   },
   "outputs": [],
   "source": [
    "spec_band=librosa.feature.spectral_bandwidth(x,sr=sr)\n",
    "print(\"Spectral Bandwidth Shape: \",spec_band.shape)\n",
    "print(\"Spectral Bandwidth: \", spec_band)"
   ]
  },
  {
   "cell_type": "code",
   "execution_count": null,
   "metadata": {
    "execution": {
     "iopub.execute_input": "2022-12-27T15:39:06.674664Z",
     "iopub.status.busy": "2022-12-27T15:39:06.673875Z",
     "iopub.status.idle": "2022-12-27T15:39:07.343556Z",
     "shell.execute_reply": "2022-12-27T15:39:07.342197Z",
     "shell.execute_reply.started": "2022-12-27T15:39:06.674616Z"
    }
   },
   "outputs": [],
   "source": [
    "S = librosa.magphase(librosa.stft(x, window=np.ones, center=False))[0]\n",
    "RMSEn= librosa.feature.rms(S=S)\n",
    "print(RMSEn.shape)\n",
    "\n",
    "\n",
    "fig, ax = plt.subplots(nrows=2, sharex=True)\n",
    "times = librosa.times_like(RMSEn)\n",
    "plt.title(\"Root Mean Squared Energy & log Pawer Spectogram\")\n",
    "ax[0].semilogy(times, RMSEn[0], label='RMS Energy', color='pink')\n",
    "ax[0].set(xticks=[])\n",
    "ax[0].legend()\n",
    "ax[0].label_outer()\n",
    "librosa.display.specshow(librosa.amplitude_to_db(S, ref=np.max), y_axis='log', x_axis='time', ax=ax[1], cmap='PiYG')\n",
    "ax[1].set(title='log Power spectrogram')\n",
    "plt.show()"
   ]
  },
  {
   "cell_type": "code",
   "execution_count": null,
   "metadata": {
    "execution": {
     "iopub.execute_input": "2022-12-27T15:39:11.378736Z",
     "iopub.status.busy": "2022-12-27T15:39:11.378270Z",
     "iopub.status.idle": "2022-12-27T15:39:11.584077Z",
     "shell.execute_reply": "2022-12-27T15:39:11.582807Z",
     "shell.execute_reply.started": "2022-12-27T15:39:11.378702Z"
    }
   },
   "outputs": [],
   "source": [
    "s2 = r\"/kaggle/input/environmental-sound-classification-50/audio/audio/1-11687-A-47.wav\" \n",
    "x,freq = librosa.load(s2)\n",
    "sr=freq"
   ]
  },
  {
   "cell_type": "code",
   "execution_count": null,
   "metadata": {
    "execution": {
     "iopub.execute_input": "2022-12-27T15:39:13.306765Z",
     "iopub.status.busy": "2022-12-27T15:39:13.306272Z",
     "iopub.status.idle": "2022-12-27T15:39:13.324556Z",
     "shell.execute_reply": "2022-12-27T15:39:13.323370Z",
     "shell.execute_reply.started": "2022-12-27T15:39:13.306726Z"
    }
   },
   "outputs": [],
   "source": [
    "sound2=ipd.Audio(s2)\n",
    "sound2"
   ]
  },
  {
   "cell_type": "code",
   "execution_count": null,
   "metadata": {
    "execution": {
     "iopub.execute_input": "2022-12-27T15:39:16.686765Z",
     "iopub.status.busy": "2022-12-27T15:39:16.686379Z",
     "iopub.status.idle": "2022-12-27T15:39:17.133103Z",
     "shell.execute_reply": "2022-12-27T15:39:17.131700Z",
     "shell.execute_reply.started": "2022-12-27T15:39:16.686736Z"
    }
   },
   "outputs": [],
   "source": [
    "plt.figure(figsize=(8,2))\n",
    "plt.title(\"Airplane Sound\")\n",
    "librosa.display.waveshow(x,sr=freq, color=\"pink\")"
   ]
  },
  {
   "cell_type": "code",
   "execution_count": null,
   "metadata": {
    "execution": {
     "iopub.execute_input": "2022-12-27T15:39:20.398447Z",
     "iopub.status.busy": "2022-12-27T15:39:20.397995Z",
     "iopub.status.idle": "2022-12-27T15:39:20.985962Z",
     "shell.execute_reply": "2022-12-27T15:39:20.984626Z",
     "shell.execute_reply.started": "2022-12-27T15:39:20.398411Z"
    }
   },
   "outputs": [],
   "source": [
    "#Spectrogram\n",
    "X=librosa.stft(x) #stft -> Short-time Fourier transform\n",
    "desibel=librosa.amplitude_to_db(abs(X)) #Translation from amplitude to desibel(db) value\n",
    "plt.figure(figsize=(10,4))\n",
    "librosa.display.specshow(desibel, sr=sr,x_axis=\"time\",y_axis=\"hz\", cmap='PiYG')\n",
    "plt.title(\"Airplane Spectogram\")\n",
    "plt.colorbar()"
   ]
  },
  {
   "cell_type": "code",
   "execution_count": null,
   "metadata": {
    "execution": {
     "iopub.execute_input": "2022-12-27T15:39:24.321727Z",
     "iopub.status.busy": "2022-12-27T15:39:24.321328Z",
     "iopub.status.idle": "2022-12-27T15:39:24.662660Z",
     "shell.execute_reply": "2022-12-27T15:39:24.660954Z",
     "shell.execute_reply.started": "2022-12-27T15:39:24.321696Z"
    }
   },
   "outputs": [],
   "source": [
    "data_h, data_p = librosa.effects.hpss(x)\n",
    "spec_h = librosa.feature.melspectrogram(data_h, sr=sr)\n",
    "spec_p = librosa.feature.melspectrogram(data_p, sr=sr)\n",
    "db_spec_h = librosa.power_to_db(spec_h,ref=np.max)\n",
    "db_spec_p = librosa.power_to_db(spec_p,ref=np.max)"
   ]
  },
  {
   "cell_type": "code",
   "execution_count": null,
   "metadata": {
    "execution": {
     "iopub.execute_input": "2022-12-27T15:39:27.387011Z",
     "iopub.status.busy": "2022-12-27T15:39:27.386605Z",
     "iopub.status.idle": "2022-12-27T15:39:27.717123Z",
     "shell.execute_reply": "2022-12-27T15:39:27.715854Z",
     "shell.execute_reply.started": "2022-12-27T15:39:27.386979Z"
    }
   },
   "outputs": [],
   "source": [
    "librosa.display.specshow(db_spec_h,y_axis='mel', x_axis='s', sr=sr, cmap='PiYG')\n",
    "plt.title(\"Airplane Harmonic Mel Spectogram\")\n",
    "plt.colorbar()"
   ]
  },
  {
   "cell_type": "code",
   "execution_count": null,
   "metadata": {
    "execution": {
     "iopub.execute_input": "2022-12-27T15:39:30.891054Z",
     "iopub.status.busy": "2022-12-27T15:39:30.890642Z",
     "iopub.status.idle": "2022-12-27T15:39:31.215487Z",
     "shell.execute_reply": "2022-12-27T15:39:31.214353Z",
     "shell.execute_reply.started": "2022-12-27T15:39:30.891023Z"
    }
   },
   "outputs": [],
   "source": [
    "librosa.display.specshow(db_spec_p,y_axis='mel', x_axis='s', sr=sr, cmap='PiYG')\n",
    "plt.title(\"Airplane Percuisive Mel Spectogram\")\n",
    "plt.colorbar()"
   ]
  },
  {
   "cell_type": "code",
   "execution_count": null,
   "metadata": {
    "execution": {
     "iopub.execute_input": "2022-12-27T15:39:40.881781Z",
     "iopub.status.busy": "2022-12-27T15:39:40.881384Z",
     "iopub.status.idle": "2022-12-27T15:39:41.209788Z",
     "shell.execute_reply": "2022-12-27T15:39:41.208596Z",
     "shell.execute_reply.started": "2022-12-27T15:39:40.881748Z"
    }
   },
   "outputs": [],
   "source": [
    "mfcc=librosa.feature.mfcc(x,sr=sr)\n",
    "print(\"shape of mfcc:\" ,mfcc.shape)\n",
    "\n",
    "plt.figure(figsize=(15,6))\n",
    "librosa.display.specshow(mfcc,x_axis=\"s\", cmap='PiYG')\n",
    "plt.title(\"Airplane Mel-Frequency Cepstral Coefficients\")\n",
    "plt.colorbar()"
   ]
  },
  {
   "cell_type": "code",
   "execution_count": null,
   "metadata": {
    "execution": {
     "iopub.execute_input": "2022-12-27T15:39:44.110898Z",
     "iopub.status.busy": "2022-12-27T15:39:44.110505Z",
     "iopub.status.idle": "2022-12-27T15:39:44.352102Z",
     "shell.execute_reply": "2022-12-27T15:39:44.350764Z",
     "shell.execute_reply.started": "2022-12-27T15:39:44.110861Z"
    }
   },
   "outputs": [],
   "source": [
    "zero_crossing=librosa.zero_crossings(x)\n",
    "print(\"Type of Zero Crossing Rate\",type(zero_crossing))\n",
    "print(zero_crossing, \" --> See it contains booleans\")\n",
    "print(\"Total Number of Zero Crossing is: \",sum(zero_crossing))"
   ]
  },
  {
   "cell_type": "code",
   "execution_count": null,
   "metadata": {
    "execution": {
     "iopub.execute_input": "2022-12-27T15:39:47.001151Z",
     "iopub.status.busy": "2022-12-27T15:39:47.000702Z",
     "iopub.status.idle": "2022-12-27T15:39:47.269392Z",
     "shell.execute_reply": "2022-12-27T15:39:47.268158Z",
     "shell.execute_reply.started": "2022-12-27T15:39:47.001107Z"
    }
   },
   "outputs": [],
   "source": [
    "plt.figure(figsize=(15,5))\n",
    "plt.title(\"Airplane Zero Crossing Rate\")\n",
    "plt.plot(x[4000:5100], color='pink')\n",
    "plt.grid()"
   ]
  },
  {
   "cell_type": "code",
   "execution_count": null,
   "metadata": {
    "execution": {
     "iopub.execute_input": "2022-12-27T15:39:50.769488Z",
     "iopub.status.busy": "2022-12-27T15:39:50.769066Z",
     "iopub.status.idle": "2022-12-27T15:39:51.200422Z",
     "shell.execute_reply": "2022-12-27T15:39:51.199179Z",
     "shell.execute_reply.started": "2022-12-27T15:39:50.769454Z"
    }
   },
   "outputs": [],
   "source": [
    "#Spectral Centroid\n",
    "spec_cent=librosa.feature.spectral_centroid(x)\n",
    "print(spec_cent.shape)\n",
    "plt.figure(figsize=(15,5))\n",
    "plt.title(\"Airplane Spectral Centroid\")\n",
    "plt.semilogy(spec_cent.T, \"r\", color='pink')\n",
    "plt.ylabel(\"Hz\")"
   ]
  },
  {
   "cell_type": "code",
   "execution_count": null,
   "metadata": {
    "execution": {
     "iopub.execute_input": "2022-12-27T15:39:54.909863Z",
     "iopub.status.busy": "2022-12-27T15:39:54.909422Z",
     "iopub.status.idle": "2022-12-27T15:39:55.327135Z",
     "shell.execute_reply": "2022-12-27T15:39:55.325917Z",
     "shell.execute_reply.started": "2022-12-27T15:39:54.909825Z"
    }
   },
   "outputs": [],
   "source": [
    "#Spectral Roll off\n",
    "spec_roll=librosa.feature.spectral_rolloff(x,sr=sr)\n",
    "print(spec_roll.shape)\n",
    "\n",
    "plt.figure(figsize=(15,5))\n",
    "plt.title(\"Airplane Spectral Roll off\")\n",
    "plt.semilogy(spec_roll.T,\"r\", color='pink')\n",
    "plt.ylabel(\"Hz\")"
   ]
  },
  {
   "cell_type": "code",
   "execution_count": null,
   "metadata": {
    "execution": {
     "iopub.execute_input": "2022-12-27T15:40:01.219313Z",
     "iopub.status.busy": "2022-12-27T15:40:01.218870Z",
     "iopub.status.idle": "2022-12-27T15:40:01.247636Z",
     "shell.execute_reply": "2022-12-27T15:40:01.246371Z",
     "shell.execute_reply.started": "2022-12-27T15:40:01.219262Z"
    }
   },
   "outputs": [],
   "source": [
    "spec_band=librosa.feature.spectral_bandwidth(x,sr=sr)\n",
    "print(\"Spectral Bandwidth Shape: \",spec_band.shape)\n",
    "print(\"Spectral Bandwidth: \", spec_band)"
   ]
  },
  {
   "cell_type": "code",
   "execution_count": null,
   "metadata": {
    "execution": {
     "iopub.execute_input": "2022-12-27T15:40:05.093784Z",
     "iopub.status.busy": "2022-12-27T15:40:05.093378Z",
     "iopub.status.idle": "2022-12-27T15:40:05.835597Z",
     "shell.execute_reply": "2022-12-27T15:40:05.834362Z",
     "shell.execute_reply.started": "2022-12-27T15:40:05.093753Z"
    }
   },
   "outputs": [],
   "source": [
    "S = librosa.magphase(librosa.stft(x, window=np.ones, center=False))[0]\n",
    "RMSEn= librosa.feature.rms(S=S)\n",
    "print(RMSEn.shape)\n",
    "\n",
    "\n",
    "fig, ax = plt.subplots(nrows=2, sharex=True)\n",
    "times = librosa.times_like(RMSEn)\n",
    "plt.title(\"Root Mean Squared Energy & log Pawer Spectogram\")\n",
    "ax[0].semilogy(times, RMSEn[0], label='RMS Energy', color='pink')\n",
    "ax[0].set(xticks=[])\n",
    "ax[0].legend()\n",
    "ax[0].label_outer()\n",
    "librosa.display.specshow(librosa.amplitude_to_db(S, ref=np.max), y_axis='log', x_axis='time', ax=ax[1], cmap='PiYG')\n",
    "ax[1].set(title='log Power spectrogram')\n",
    "plt.show()"
   ]
  },
  {
   "cell_type": "code",
   "execution_count": null,
   "metadata": {
    "execution": {
     "iopub.execute_input": "2022-12-27T15:40:10.541338Z",
     "iopub.status.busy": "2022-12-27T15:40:10.540907Z",
     "iopub.status.idle": "2022-12-27T15:40:10.687414Z",
     "shell.execute_reply": "2022-12-27T15:40:10.685866Z",
     "shell.execute_reply.started": "2022-12-27T15:40:10.541277Z"
    }
   },
   "outputs": [],
   "source": [
    "s3 = r\"/kaggle/input/environmental-sound-classification-50/audio/audio/1-101296-A-19.wav\" \n",
    "x,freq = librosa.load(s3)\n",
    "sr=freq"
   ]
  },
  {
   "cell_type": "code",
   "execution_count": null,
   "metadata": {
    "execution": {
     "iopub.execute_input": "2022-12-27T15:40:13.319834Z",
     "iopub.status.busy": "2022-12-27T15:40:13.319075Z",
     "iopub.status.idle": "2022-12-27T15:40:13.340143Z",
     "shell.execute_reply": "2022-12-27T15:40:13.338812Z",
     "shell.execute_reply.started": "2022-12-27T15:40:13.319793Z"
    }
   },
   "outputs": [],
   "source": [
    "sound3=ipd.Audio(s3)\n",
    "sound3"
   ]
  },
  {
   "cell_type": "code",
   "execution_count": null,
   "metadata": {
    "execution": {
     "iopub.execute_input": "2022-12-27T15:40:16.267730Z",
     "iopub.status.busy": "2022-12-27T15:40:16.267322Z",
     "iopub.status.idle": "2022-12-27T15:40:16.673344Z",
     "shell.execute_reply": "2022-12-27T15:40:16.672211Z",
     "shell.execute_reply.started": "2022-12-27T15:40:16.267695Z"
    }
   },
   "outputs": [],
   "source": [
    "plt.figure(figsize=(8,2))\n",
    "plt.title(\"Thunderstorm Sound\")\n",
    "librosa.display.waveshow(x,sr=freq, color=\"pink\")"
   ]
  },
  {
   "cell_type": "code",
   "execution_count": null,
   "metadata": {
    "execution": {
     "iopub.execute_input": "2022-12-27T15:40:19.997367Z",
     "iopub.status.busy": "2022-12-27T15:40:19.996932Z",
     "iopub.status.idle": "2022-12-27T15:40:20.580458Z",
     "shell.execute_reply": "2022-12-27T15:40:20.579117Z",
     "shell.execute_reply.started": "2022-12-27T15:40:19.997330Z"
    }
   },
   "outputs": [],
   "source": [
    "#Spectrogram\n",
    "X=librosa.stft(x) #stft -> Short-time Fourier transform\n",
    "desibel=librosa.amplitude_to_db(abs(X)) #Translation from amplitude to desibel(db) value\n",
    "plt.figure(figsize=(10,4))\n",
    "librosa.display.specshow(desibel, sr=sr,x_axis=\"time\",y_axis=\"hz\", cmap='PiYG')\n",
    "plt.title(\"Thunderstorm Spectogram\")\n",
    "plt.colorbar()"
   ]
  },
  {
   "cell_type": "code",
   "execution_count": null,
   "metadata": {
    "execution": {
     "iopub.execute_input": "2022-12-27T15:40:24.899257Z",
     "iopub.status.busy": "2022-12-27T15:40:24.898371Z",
     "iopub.status.idle": "2022-12-27T15:40:25.353514Z",
     "shell.execute_reply": "2022-12-27T15:40:25.351660Z",
     "shell.execute_reply.started": "2022-12-27T15:40:24.899193Z"
    }
   },
   "outputs": [],
   "source": [
    "data_h, data_p = librosa.effects.hpss(x)\n",
    "spec_h = librosa.feature.melspectrogram(data_h, sr=sr)\n",
    "spec_p = librosa.feature.melspectrogram(data_p, sr=sr)\n",
    "db_spec_h = librosa.power_to_db(spec_h,ref=np.max)\n",
    "db_spec_p = librosa.power_to_db(spec_p,ref=np.max)"
   ]
  },
  {
   "cell_type": "code",
   "execution_count": null,
   "metadata": {
    "execution": {
     "iopub.execute_input": "2022-12-27T15:40:29.341709Z",
     "iopub.status.busy": "2022-12-27T15:40:29.341320Z",
     "iopub.status.idle": "2022-12-27T15:40:29.756490Z",
     "shell.execute_reply": "2022-12-27T15:40:29.755426Z",
     "shell.execute_reply.started": "2022-12-27T15:40:29.341676Z"
    }
   },
   "outputs": [],
   "source": [
    "librosa.display.specshow(db_spec_h,y_axis='mel', x_axis='s', sr=sr, cmap='PiYG')\n",
    "plt.title(\"Thunderstorm Harmonic Mel Spectogram\")\n",
    "plt.colorbar()"
   ]
  },
  {
   "cell_type": "code",
   "execution_count": null,
   "metadata": {
    "execution": {
     "iopub.execute_input": "2022-12-27T15:40:33.338151Z",
     "iopub.status.busy": "2022-12-27T15:40:33.337774Z",
     "iopub.status.idle": "2022-12-27T15:40:33.729680Z",
     "shell.execute_reply": "2022-12-27T15:40:33.728340Z",
     "shell.execute_reply.started": "2022-12-27T15:40:33.338121Z"
    }
   },
   "outputs": [],
   "source": [
    "librosa.display.specshow(db_spec_p,y_axis='mel', x_axis='s', sr=sr, cmap='PiYG')\n",
    "plt.title(\"Thunderstorm Percuisive Mel Spectogram\")\n",
    "plt.colorbar()"
   ]
  },
  {
   "cell_type": "code",
   "execution_count": null,
   "metadata": {
    "execution": {
     "iopub.execute_input": "2022-12-27T15:40:37.250433Z",
     "iopub.status.busy": "2022-12-27T15:40:37.250005Z",
     "iopub.status.idle": "2022-12-27T15:40:37.633394Z",
     "shell.execute_reply": "2022-12-27T15:40:37.632432Z",
     "shell.execute_reply.started": "2022-12-27T15:40:37.250396Z"
    }
   },
   "outputs": [],
   "source": [
    "mfcc=librosa.feature.mfcc(x,sr=sr)\n",
    "print(\"shape of mfcc:\" ,mfcc.shape)\n",
    "\n",
    "plt.figure(figsize=(15,6))\n",
    "librosa.display.specshow(mfcc,x_axis=\"s\", cmap='PiYG')\n",
    "plt.title(\"Thunderstorm Mel-Frequency Cepstral Coefficients\")\n",
    "plt.colorbar()"
   ]
  },
  {
   "cell_type": "code",
   "execution_count": null,
   "metadata": {
    "execution": {
     "iopub.execute_input": "2022-12-27T15:40:41.614444Z",
     "iopub.status.busy": "2022-12-27T15:40:41.613803Z",
     "iopub.status.idle": "2022-12-27T15:40:41.865345Z",
     "shell.execute_reply": "2022-12-27T15:40:41.863951Z",
     "shell.execute_reply.started": "2022-12-27T15:40:41.614407Z"
    }
   },
   "outputs": [],
   "source": [
    "zero_crossing=librosa.zero_crossings(x)\n",
    "print(\"Type of Zero Crossing Rate\",type(zero_crossing))\n",
    "print(zero_crossing, \" --> See it contains booleans\")\n",
    "print(\"Total Number of Zero Crossing is: \",sum(zero_crossing))"
   ]
  },
  {
   "cell_type": "code",
   "execution_count": null,
   "metadata": {
    "execution": {
     "iopub.execute_input": "2022-12-27T15:40:44.670249Z",
     "iopub.status.busy": "2022-12-27T15:40:44.669847Z",
     "iopub.status.idle": "2022-12-27T15:40:44.907741Z",
     "shell.execute_reply": "2022-12-27T15:40:44.906636Z",
     "shell.execute_reply.started": "2022-12-27T15:40:44.670217Z"
    }
   },
   "outputs": [],
   "source": [
    "plt.figure(figsize=(15,5))\n",
    "plt.title(\"Zero Crossing Rate\")\n",
    "plt.plot(x[4000:5100], color=\"pink\")\n",
    "plt.grid()"
   ]
  },
  {
   "cell_type": "code",
   "execution_count": null,
   "metadata": {
    "execution": {
     "iopub.execute_input": "2022-12-27T15:40:48.130358Z",
     "iopub.status.busy": "2022-12-27T15:40:48.129922Z",
     "iopub.status.idle": "2022-12-27T15:40:48.812786Z",
     "shell.execute_reply": "2022-12-27T15:40:48.811617Z",
     "shell.execute_reply.started": "2022-12-27T15:40:48.130321Z"
    }
   },
   "outputs": [],
   "source": [
    "#Spectral Centroid\n",
    "spec_cent=librosa.feature.spectral_centroid(x)\n",
    "print(spec_cent.shape)\n",
    "plt.figure(figsize=(15,5))\n",
    "plt.title(\"Thunderstorm Spectral Centroid\")\n",
    "plt.semilogy(spec_cent.T, \"r\", color='pink')\n",
    "plt.ylabel(\"Hz\")"
   ]
  },
  {
   "cell_type": "code",
   "execution_count": null,
   "metadata": {
    "execution": {
     "iopub.execute_input": "2022-12-27T15:40:52.476697Z",
     "iopub.status.busy": "2022-12-27T15:40:52.475848Z",
     "iopub.status.idle": "2022-12-27T15:40:52.930572Z",
     "shell.execute_reply": "2022-12-27T15:40:52.929705Z",
     "shell.execute_reply.started": "2022-12-27T15:40:52.476660Z"
    }
   },
   "outputs": [],
   "source": [
    "#Spectral Roll off\n",
    "spec_roll=librosa.feature.spectral_rolloff(x,sr=sr)\n",
    "print(spec_roll.shape)\n",
    "\n",
    "plt.figure(figsize=(15,5))\n",
    "plt.title(\"Thunderstorm Spectral Roll off\")\n",
    "plt.semilogy(spec_roll.T,\"r\", color='pink')\n",
    "plt.ylabel(\"Hz\")"
   ]
  },
  {
   "cell_type": "code",
   "execution_count": null,
   "metadata": {
    "execution": {
     "iopub.execute_input": "2022-12-27T15:40:56.355224Z",
     "iopub.status.busy": "2022-12-27T15:40:56.354814Z",
     "iopub.status.idle": "2022-12-27T15:40:56.381624Z",
     "shell.execute_reply": "2022-12-27T15:40:56.380332Z",
     "shell.execute_reply.started": "2022-12-27T15:40:56.355192Z"
    }
   },
   "outputs": [],
   "source": [
    "spec_band=librosa.feature.spectral_bandwidth(x,sr=sr)\n",
    "print(\"Spectral Bandwidth Shape: \",spec_band.shape)\n",
    "print(\"Spectral Bandwidth: \", spec_band)"
   ]
  },
  {
   "cell_type": "code",
   "execution_count": null,
   "metadata": {
    "execution": {
     "iopub.execute_input": "2022-12-27T15:41:00.303497Z",
     "iopub.status.busy": "2022-12-27T15:41:00.303043Z",
     "iopub.status.idle": "2022-12-27T15:41:00.910432Z",
     "shell.execute_reply": "2022-12-27T15:41:00.909218Z",
     "shell.execute_reply.started": "2022-12-27T15:41:00.303458Z"
    }
   },
   "outputs": [],
   "source": [
    "S = librosa.magphase(librosa.stft(x, window=np.ones, center=False))[0]\n",
    "RMSEn= librosa.feature.rms(S=S)\n",
    "print(RMSEn.shape)\n",
    "\n",
    "\n",
    "fig, ax = plt.subplots(nrows=2, sharex=True)\n",
    "times = librosa.times_like(RMSEn)\n",
    "plt.title(\"Root Mean Squared Energy & log Pawer Spectogram\")\n",
    "ax[0].semilogy(times, RMSEn[0], label='RMS Energy', color='pink')\n",
    "ax[0].set(xticks=[])\n",
    "ax[0].legend()\n",
    "ax[0].label_outer()\n",
    "librosa.display.specshow(librosa.amplitude_to_db(S, ref=np.max), y_axis='log', x_axis='time', ax=ax[1], cmap='PiYG')\n",
    "ax[1].set(title='log Power spectrogram')\n",
    "plt.show()"
   ]
  },
  {
   "cell_type": "code",
   "execution_count": null,
   "metadata": {
    "execution": {
     "iopub.execute_input": "2022-12-29T13:55:32.706873Z",
     "iopub.status.busy": "2022-12-29T13:55:32.706161Z",
     "iopub.status.idle": "2022-12-29T13:55:32.712404Z",
     "shell.execute_reply": "2022-12-29T13:55:32.711510Z",
     "shell.execute_reply.started": "2022-12-29T13:55:32.706821Z"
    }
   },
   "outputs": [],
   "source": [
    "audio_fpath = \"../input/environmental-sound-classification-50/audio/audio/44100/\""
   ]
  },
  {
   "cell_type": "code",
   "execution_count": null,
   "metadata": {
    "execution": {
     "iopub.execute_input": "2022-12-29T13:55:38.082897Z",
     "iopub.status.busy": "2022-12-29T13:55:38.082099Z",
     "iopub.status.idle": "2022-12-29T13:55:38.095990Z",
     "shell.execute_reply": "2022-12-29T13:55:38.093831Z",
     "shell.execute_reply.started": "2022-12-29T13:55:38.082841Z"
    }
   },
   "outputs": [],
   "source": [
    "class AudioAugmentation:\n",
    "    \n",
    "    def read_audio_file(self, file_path):\n",
    "        input_length = 220500\n",
    "        data = librosa.load(file_path)[0]\n",
    "        if len(data) > input_length:\n",
    "            data = data[:input_length]\n",
    "        else:\n",
    "            data = np.pad(data, (0, max(0, input_length - len(data))), \"constant\")\n",
    "        return data\n",
    "    \n",
    "    def add_noise(self, data):\n",
    "        noise = np.random.randn(len(data))\n",
    "        data_noise = data + 0.005 * noise\n",
    "        return data_noise\n",
    "    \n",
    "    def shift(self, data):\n",
    "        return np.roll(data, 22050)\n",
    "    \n",
    "    def stretch(self, data, rate=1):\n",
    "        input_length = 220500\n",
    "        data = librosa.effects.time_stretch(data, rate)\n",
    "        if len(data) > input_length:\n",
    "            data = data[:input_length]\n",
    "        else:\n",
    "            data = np.pad(data, (0, max(0, input_length - len(data))), \"constant\")\n",
    "        return data\n",
    "    def write_audio_file(self, file, data, sample_rate=44100):\n",
    "        librosa.output.write_wav(file, data, sample_rate)"
   ]
  },
  {
   "cell_type": "code",
   "execution_count": null,
   "metadata": {
    "execution": {
     "iopub.execute_input": "2022-12-29T13:55:44.264770Z",
     "iopub.status.busy": "2022-12-29T13:55:44.264417Z",
     "iopub.status.idle": "2022-12-29T14:29:16.612785Z",
     "shell.execute_reply": "2022-12-29T14:29:16.611013Z",
     "shell.execute_reply.started": "2022-12-29T13:55:44.264725Z"
    }
   },
   "outputs": [],
   "source": [
    "#Data Augmentation\n",
    "aa = AudioAugmentation()\n",
    "extracted_data = []\n",
    "for index, row in tqdm(data.iterrows()):\n",
    "    file_name = os.path.join(os.path.abspath(audio_fpath),str(row[\"filename\"]))\n",
    "    class_labels = row['category']\n",
    "    y, sr = librosa.load(file_name, sr=44100)\n",
    "    for i in range(8):\n",
    "        if i == 1 or i >3:\n",
    "            data = aa.add_noise(y)\n",
    "        if i%3 == 2 or i == 7:\n",
    "            data = aa.shift(y)\n",
    "        if i%3 == 0 or i == 7:\n",
    "            data = aa.stretch(y, rate=1.25)\n",
    "        feature = librosa.feature.mfcc(y=data, sr=sr)\n",
    "        scaled_feature = np.mean(feature.T,axis=0)\n",
    "        extracted_data.append([scaled_feature, class_labels])\n",
    "np.array(extracted_data).shape"
   ]
  },
  {
   "cell_type": "code",
   "execution_count": null,
   "metadata": {
    "execution": {
     "iopub.execute_input": "2022-12-29T14:34:12.506821Z",
     "iopub.status.busy": "2022-12-29T14:34:12.506509Z",
     "iopub.status.idle": "2022-12-29T14:34:12.523298Z",
     "shell.execute_reply": "2022-12-29T14:34:12.521827Z",
     "shell.execute_reply.started": "2022-12-29T14:34:12.506787Z"
    }
   },
   "outputs": [],
   "source": [
    "feature_df = pd.DataFrame(extracted_data, columns=['feature','class'])\n",
    "print(feature_df.head())"
   ]
  },
  {
   "cell_type": "code",
   "execution_count": null,
   "metadata": {
    "execution": {
     "iopub.execute_input": "2022-12-29T14:34:17.041266Z",
     "iopub.status.busy": "2022-12-29T14:34:17.040956Z",
     "iopub.status.idle": "2022-12-29T14:34:17.062974Z",
     "shell.execute_reply": "2022-12-29T14:34:17.061509Z",
     "shell.execute_reply.started": "2022-12-29T14:34:17.041234Z"
    }
   },
   "outputs": [],
   "source": [
    "x = np.array(feature_df['feature'].tolist())\n",
    "x.shape"
   ]
  },
  {
   "cell_type": "code",
   "execution_count": null,
   "metadata": {
    "execution": {
     "iopub.execute_input": "2022-12-29T14:34:20.533286Z",
     "iopub.status.busy": "2022-12-29T14:34:20.532208Z",
     "iopub.status.idle": "2022-12-29T14:34:20.541817Z",
     "shell.execute_reply": "2022-12-29T14:34:20.539978Z",
     "shell.execute_reply.started": "2022-12-29T14:34:20.533242Z"
    }
   },
   "outputs": [],
   "source": [
    "target = np.array(feature_df['class'].tolist())"
   ]
  },
  {
   "cell_type": "code",
   "execution_count": null,
   "metadata": {
    "execution": {
     "iopub.execute_input": "2022-12-29T14:34:24.979414Z",
     "iopub.status.busy": "2022-12-29T14:34:24.978870Z",
     "iopub.status.idle": "2022-12-29T14:34:25.013172Z",
     "shell.execute_reply": "2022-12-29T14:34:25.012093Z",
     "shell.execute_reply.started": "2022-12-29T14:34:24.979371Z"
    }
   },
   "outputs": [],
   "source": [
    "y_new = pd.get_dummies(target)\n",
    "print(y_new.shape)\n",
    "y_new.head()"
   ]
  },
  {
   "cell_type": "code",
   "execution_count": null,
   "metadata": {
    "execution": {
     "iopub.execute_input": "2022-12-29T14:34:33.224822Z",
     "iopub.status.busy": "2022-12-29T14:34:33.224249Z",
     "iopub.status.idle": "2022-12-29T14:34:33.247216Z",
     "shell.execute_reply": "2022-12-29T14:34:33.246119Z",
     "shell.execute_reply.started": "2022-12-29T14:34:33.224782Z"
    }
   },
   "outputs": [],
   "source": [
    "X_train, X_test, y_train, y_test = train_test_split(x, y_new, test_size=0.2,shuffle = True, random_state=42)\n",
    "print(str(X_train.shape)+ ', ' + str(X_test.shape))\n",
    "inp = (1, 20)\n",
    "np.array(X_train).reshape(12800, 1, 20)"
   ]
  },
  {
   "cell_type": "code",
   "execution_count": null,
   "metadata": {
    "execution": {
     "iopub.execute_input": "2022-12-29T14:36:28.831656Z",
     "iopub.status.busy": "2022-12-29T14:36:28.831345Z",
     "iopub.status.idle": "2022-12-29T14:36:28.852849Z",
     "shell.execute_reply": "2022-12-29T14:36:28.851761Z",
     "shell.execute_reply.started": "2022-12-29T14:36:28.831624Z"
    }
   },
   "outputs": [],
   "source": [
    "X_train, X_val, y_train, y_val = train_test_split(x, y_new, test_size=0.25, random_state=42)\n",
    "print(str(X_train.shape)+ ', ' + str(X_val.shape))"
   ]
  },
  {
   "cell_type": "code",
   "execution_count": null,
   "metadata": {
    "execution": {
     "iopub.execute_input": "2022-12-29T14:36:31.586828Z",
     "iopub.status.busy": "2022-12-29T14:36:31.585970Z",
     "iopub.status.idle": "2022-12-29T14:36:31.595383Z",
     "shell.execute_reply": "2022-12-29T14:36:31.594060Z",
     "shell.execute_reply.started": "2022-12-29T14:36:31.586781Z"
    }
   },
   "outputs": [],
   "source": [
    "inp = (1, 20)\n",
    "np.array(X_train).reshape(12000, 1, 20)"
   ]
  },
  {
   "cell_type": "code",
   "execution_count": null,
   "metadata": {
    "execution": {
     "iopub.execute_input": "2022-12-28T14:51:08.639770Z",
     "iopub.status.busy": "2022-12-28T14:51:08.638581Z",
     "iopub.status.idle": "2022-12-28T14:51:08.647416Z",
     "shell.execute_reply": "2022-12-28T14:51:08.646696Z",
     "shell.execute_reply.started": "2022-12-28T14:51:08.639697Z"
    }
   },
   "outputs": [],
   "source": []
  },
  {
   "cell_type": "code",
   "execution_count": null,
   "metadata": {
    "_kg_hide-input": true,
    "execution": {
     "iopub.execute_input": "2022-12-29T14:34:46.102858Z",
     "iopub.status.busy": "2022-12-29T14:34:46.102140Z",
     "iopub.status.idle": "2022-12-29T14:35:55.909394Z",
     "shell.execute_reply": "2022-12-29T14:35:55.908300Z",
     "shell.execute_reply.started": "2022-12-29T14:34:46.102815Z"
    }
   },
   "outputs": [],
   "source": [
    "# LSTM - complete with model definition, summary, fit and plots.\n",
    "model_bidirectional = keras.models.Sequential()\n",
    "model_bidirectional.add(keras.Input(shape = (1,20)))\n",
    "model_bidirectional.add(keras.layers.Bidirectional(keras.layers.LSTM(1024, return_sequences = True)))\n",
    "model_bidirectional.add(Dropout(0.2))\n",
    "model_bidirectional.add(keras.layers.Bidirectional(keras.layers.LSTM(2048, return_sequences = True)))\n",
    "model_bidirectional.add(Dropout(0.2))\n",
    "model_bidirectional.add(keras.layers.Bidirectional(keras.layers.LSTM(3036, return_sequences = False)))\n",
    "model_bidirectional.add(Dropout(0.2))  \n",
    "model_bidirectional.add(Flatten())         \n",
    "model_bidirectional.add(keras.layers.Dense(50, activation=\"softmax\"))\n",
    "optimizer = tf.keras.optimizers.Adam(lr=0.001)\n",
    "model_bidirectional.compile(loss=\"categorical_crossentropy\", optimizer=optimizer, metrics=[\"accuracy\"])"
   ]
  },
  {
   "cell_type": "code",
   "execution_count": null,
   "metadata": {
    "execution": {
     "iopub.execute_input": "2022-12-29T14:36:04.587732Z",
     "iopub.status.busy": "2022-12-29T14:36:04.587369Z",
     "iopub.status.idle": "2022-12-29T14:36:04.595586Z",
     "shell.execute_reply": "2022-12-29T14:36:04.593815Z",
     "shell.execute_reply.started": "2022-12-29T14:36:04.587680Z"
    }
   },
   "outputs": [],
   "source": [
    "model_bidirectional.summary()"
   ]
  },
  {
   "cell_type": "code",
   "execution_count": null,
   "metadata": {
    "execution": {
     "iopub.execute_input": "2022-12-29T14:36:12.702240Z",
     "iopub.status.busy": "2022-12-29T14:36:12.701911Z",
     "iopub.status.idle": "2022-12-29T14:36:12.708807Z",
     "shell.execute_reply": "2022-12-29T14:36:12.707250Z",
     "shell.execute_reply.started": "2022-12-29T14:36:12.702203Z"
    }
   },
   "outputs": [],
   "source": [
    "es = EarlyStopping(\n",
    "    monitor='val_accuracy', \n",
    "    restore_best_weights=True, \n",
    "    patience=30, min_delta = 0.001\n",
    ")"
   ]
  },
  {
   "cell_type": "code",
   "execution_count": null,
   "metadata": {
    "execution": {
     "iopub.execute_input": "2022-12-29T14:36:17.323561Z",
     "iopub.status.busy": "2022-12-29T14:36:17.323228Z",
     "iopub.status.idle": "2022-12-29T14:36:17.332964Z",
     "shell.execute_reply": "2022-12-29T14:36:17.331477Z",
     "shell.execute_reply.started": "2022-12-29T14:36:17.323526Z"
    }
   },
   "outputs": [],
   "source": [
    "len(y_train)"
   ]
  },
  {
   "cell_type": "code",
   "execution_count": null,
   "metadata": {
    "execution": {
     "iopub.execute_input": "2022-12-29T14:36:42.368513Z",
     "iopub.status.busy": "2022-12-29T14:36:42.368147Z",
     "iopub.status.idle": "2022-12-29T15:22:31.987974Z",
     "shell.execute_reply": "2022-12-29T15:22:31.987189Z",
     "shell.execute_reply.started": "2022-12-29T14:36:42.368471Z"
    }
   },
   "outputs": [],
   "source": [
    "history=model_bidirectional.fit(np.array(X_train).reshape(12000, 1, 20),\n",
    "        np.array(y_train),\n",
    "        epochs=10,\n",
    "        callbacks = [es],\n",
    "        shuffle = True,\n",
    "        batch_size = 100,\n",
    "#         steps_per_epoch = 4,\n",
    "        validation_data = (np.array(X_test).reshape(3200,1,20),\n",
    "                            np.array(y_test))\n",
    "                 )"
   ]
  },
  {
   "cell_type": "code",
   "execution_count": null,
   "metadata": {
    "execution": {
     "iopub.execute_input": "2022-12-29T15:23:23.259306Z",
     "iopub.status.busy": "2022-12-29T15:23:23.259019Z",
     "iopub.status.idle": "2022-12-29T15:23:23.759737Z",
     "shell.execute_reply": "2022-12-29T15:23:23.758401Z",
     "shell.execute_reply.started": "2022-12-29T15:23:23.259276Z"
    }
   },
   "outputs": [],
   "source": [
    "# Plot loss\n",
    "plt.figure()\n",
    "plt.plot(history.history['loss'], label='Train loss')\n",
    "plt.plot(history.history['val_loss'], label='Val loss')\n",
    "plt.legend()\n",
    "plt.xlabel('Epoch')\n",
    "plt.ylabel('Loss')\n",
    "\n",
    "# Plot accuracy\n",
    "plt.figure()\n",
    "plt.plot(history.history['accuracy'], label='Train accuracy')\n",
    "plt.plot(history.history['val_accuracy'], label='Val accuracy')\n",
    "plt.legend()\n",
    "plt.xlabel('Epoch')\n",
    "plt.ylabel('Accuracy')"
   ]
  },
  {
   "cell_type": "code",
   "execution_count": null,
   "metadata": {
    "execution": {
     "iopub.execute_input": "2022-12-29T15:27:55.537055Z",
     "iopub.status.busy": "2022-12-29T15:27:55.536670Z",
     "iopub.status.idle": "2022-12-29T15:29:49.589174Z",
     "shell.execute_reply": "2022-12-29T15:29:49.587936Z",
     "shell.execute_reply.started": "2022-12-29T15:27:55.537017Z"
    }
   },
   "outputs": [],
   "source": [
    "y_pred = model_bidirectional.predict(np.array(x).reshape(16000, 1,20))"
   ]
  },
  {
   "cell_type": "code",
   "execution_count": null,
   "metadata": {
    "execution": {
     "iopub.execute_input": "2022-12-29T15:30:47.908668Z",
     "iopub.status.busy": "2022-12-29T15:30:47.908347Z",
     "iopub.status.idle": "2022-12-29T15:30:47.917690Z",
     "shell.execute_reply": "2022-12-29T15:30:47.916101Z",
     "shell.execute_reply.started": "2022-12-29T15:30:47.908636Z"
    }
   },
   "outputs": [],
   "source": [
    "y_pred_classes = np.argmax(y_pred, axis=1)\n",
    "y_pred_classes"
   ]
  },
  {
   "cell_type": "code",
   "execution_count": null,
   "metadata": {
    "execution": {
     "iopub.execute_input": "2022-12-29T15:30:51.445004Z",
     "iopub.status.busy": "2022-12-29T15:30:51.443525Z",
     "iopub.status.idle": "2022-12-29T15:30:51.455934Z",
     "shell.execute_reply": "2022-12-29T15:30:51.454795Z",
     "shell.execute_reply.started": "2022-12-29T15:30:51.444945Z"
    }
   },
   "outputs": [],
   "source": [
    "y_true = np.argmax(np.array(y_new), axis=1)\n",
    "y_true"
   ]
  },
  {
   "cell_type": "code",
   "execution_count": null,
   "metadata": {
    "execution": {
     "iopub.execute_input": "2022-12-29T15:34:02.735896Z",
     "iopub.status.busy": "2022-12-29T15:34:02.735443Z",
     "iopub.status.idle": "2022-12-29T15:34:02.810177Z",
     "shell.execute_reply": "2022-12-29T15:34:02.809060Z",
     "shell.execute_reply.started": "2022-12-29T15:34:02.735861Z"
    }
   },
   "outputs": [],
   "source": [
    "print(np.mean(y_pred_classes == y_true))\n",
    "m = AUC()\n",
    "m.update_state(y_new, y_pred)\n",
    "print(m.result())"
   ]
  },
  {
   "cell_type": "code",
   "execution_count": null,
   "metadata": {
    "execution": {
     "iopub.execute_input": "2022-12-29T15:38:04.753185Z",
     "iopub.status.busy": "2022-12-29T15:38:04.752495Z",
     "iopub.status.idle": "2022-12-29T15:38:16.976023Z",
     "shell.execute_reply": "2022-12-29T15:38:16.974946Z",
     "shell.execute_reply.started": "2022-12-29T15:38:04.753140Z"
    }
   },
   "outputs": [],
   "source": [
    "cm = confusion_matrix(y_pred_classes, y_true,)\n",
    "import itertools\n",
    "plt.clf()\n",
    "fig = plt.figure(figsize = (12,12)) \n",
    "ax = fig.add_subplot(111)\n",
    "ax.set_aspect(1)\n",
    "plt.imshow(cm, cmap = plt.cm.PiYG, interpolation='nearest')\n",
    "\n",
    "plt.title(\"Confusion Matrix\")\n",
    "plt.colorbar()\n",
    "tick_marks = np.arange(len(range(50)))\n",
    "plt.xticks(tick_marks, range(50), rotation=45)\n",
    "plt.yticks(tick_marks, range(50))\n",
    "thresh = cm.max()/2\n",
    "for i, j in itertools.product(range(cm.shape[0]), range(cm.shape[1])):\n",
    "    plt.text(j, i , cm[i,j], horizontalalignment=\"center\", color=\"white\" if cm[i,j]>thresh else \"black\")\n",
    "\n",
    "plt.tight_layout()\n",
    "plt.ylabel(\"True Label\")\n",
    "plt.xlabel(\"Predicted Label\")\n",
    "plt.savefig('con_matrix_LSTM_ESC50.png')"
   ]
  },
  {
   "cell_type": "code",
   "execution_count": null,
   "metadata": {
    "execution": {
     "iopub.execute_input": "2022-12-29T15:40:04.855201Z",
     "iopub.status.busy": "2022-12-29T15:40:04.854284Z",
     "iopub.status.idle": "2022-12-29T15:47:03.317012Z",
     "shell.execute_reply": "2022-12-29T15:47:03.315690Z",
     "shell.execute_reply.started": "2022-12-29T15:40:04.855139Z"
    }
   },
   "outputs": [],
   "source": [
    "test_results = []\n",
    "answers = []\n",
    "for index, row in tqdm(data2.iterrows()):\n",
    "    x,sr = librosa.load(audio_fpath+row['filename'], sr=44100)\n",
    "    mfcc = librosa.feature.mfcc(y=x, sr=sr)\n",
    "    mfcc_mean = np.mean(mfcc.T, axis=0)\n",
    "    sample = np.array(mfcc_mean).reshape(1, 1, 20)\n",
    "    pred = model_bidirectional.predict(sample)\n",
    "    pred_class = np.argmax(pred,axis=1 )\n",
    "#     print(pred_class[0])\n",
    "#     print(row['target'])\n",
    "    test_results.append(pred_class[0])\n",
    "    answers.append(row['category'])\n",
    "print(np.mean(np.array(test_results) == np.array(answers)))"
   ]
  }
 ],
 "metadata": {
  "kernelspec": {
   "display_name": "Python 3 (ipykernel)",
   "language": "python",
   "name": "python3"
  },
  "language_info": {
   "codemirror_mode": {
    "name": "ipython",
    "version": 3
   },
   "file_extension": ".py",
   "mimetype": "text/x-python",
   "name": "python",
   "nbconvert_exporter": "python",
   "pygments_lexer": "ipython3",
   "version": "3.9.12"
  }
 },
 "nbformat": 4,
 "nbformat_minor": 4
}
